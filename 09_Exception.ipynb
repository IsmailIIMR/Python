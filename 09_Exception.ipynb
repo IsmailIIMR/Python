{
  "nbformat": 4,
  "nbformat_minor": 0,
  "metadata": {
    "colab": {
      "name": "09_Exception.ipynb",
      "provenance": []
    },
    "kernelspec": {
      "name": "python3",
      "display_name": "Python 3"
    },
    "language_info": {
      "name": "python"
    }
  },
  "cells": [
    {
      "cell_type": "code",
      "source": [
        "user_input = input(\"Enter any number - \")\n",
        "a = int(user_input)\n",
        "print(a)\n",
        "\n",
        "print(\"Goodbye\")"
      ],
      "metadata": {
        "colab": {
          "base_uri": "https://localhost:8080/",
          "height": 253
        },
        "id": "gis0PCW_vQ1Y",
        "outputId": "094923dd-b997-4577-e175-3d351c2b998b"
      },
      "execution_count": null,
      "outputs": [
        {
          "name": "stdout",
          "output_type": "stream",
          "text": [
            "Enter any number - c\n"
          ]
        },
        {
          "output_type": "error",
          "ename": "ValueError",
          "evalue": "ignored",
          "traceback": [
            "\u001b[0;31m---------------------------------------------------------------------------\u001b[0m",
            "\u001b[0;31mValueError\u001b[0m                                Traceback (most recent call last)",
            "\u001b[0;32m<ipython-input-5-59b2dad43f6d>\u001b[0m in \u001b[0;36m<module>\u001b[0;34m()\u001b[0m\n\u001b[1;32m      1\u001b[0m \u001b[0muser_input\u001b[0m \u001b[0;34m=\u001b[0m \u001b[0minput\u001b[0m\u001b[0;34m(\u001b[0m\u001b[0;34m\"Enter any number - \"\u001b[0m\u001b[0;34m)\u001b[0m\u001b[0;34m\u001b[0m\u001b[0;34m\u001b[0m\u001b[0m\n\u001b[0;32m----> 2\u001b[0;31m \u001b[0ma\u001b[0m \u001b[0;34m=\u001b[0m \u001b[0mint\u001b[0m\u001b[0;34m(\u001b[0m\u001b[0muser_input\u001b[0m\u001b[0;34m)\u001b[0m\u001b[0;34m\u001b[0m\u001b[0;34m\u001b[0m\u001b[0m\n\u001b[0m\u001b[1;32m      3\u001b[0m \u001b[0mprint\u001b[0m\u001b[0;34m(\u001b[0m\u001b[0ma\u001b[0m\u001b[0;34m)\u001b[0m\u001b[0;34m\u001b[0m\u001b[0;34m\u001b[0m\u001b[0m\n\u001b[1;32m      4\u001b[0m \u001b[0;34m\u001b[0m\u001b[0m\n\u001b[1;32m      5\u001b[0m \u001b[0mprint\u001b[0m\u001b[0;34m(\u001b[0m\u001b[0;34m\"Goodbye\"\u001b[0m\u001b[0;34m)\u001b[0m\u001b[0;34m\u001b[0m\u001b[0;34m\u001b[0m\u001b[0m\n",
            "\u001b[0;31mValueError\u001b[0m: invalid literal for int() with base 10: 'c'"
          ]
        }
      ]
    },
    {
      "cell_type": "code",
      "execution_count": null,
      "metadata": {
        "colab": {
          "base_uri": "https://localhost:8080/"
        },
        "id": "S_nasTrj8104",
        "outputId": "b00b82c8-c808-4d86-befe-2edbcef2470b"
      },
      "outputs": [
        {
          "output_type": "stream",
          "name": "stdout",
          "text": [
            "Enter any number - c\n",
            "Error: can't convert the input to a number\n",
            "After try and except block\n"
          ]
        }
      ],
      "source": [
        "#Try and except\n",
        "user_input = input(\"Enter any number - \")\n",
        "\n",
        "try:\n",
        "   a = int(user_input)\n",
        "   print(\"You have entered a valid number\")\n",
        "except ValueError:\n",
        "   print (\"Error: can\\'t convert the input to a number\")\n",
        "\n",
        "print(\"After try and except block\")"
      ]
    },
    {
      "cell_type": "code",
      "source": [
        "#Try, except and else: Else block gets executed if there was no exception\n",
        "user_input = input(\"Enter any number - \")\n",
        "try:\n",
        "   a = int(user_input)\n",
        "   print(\"You have entered a valid number\")\n",
        "except ValueError:\n",
        "   print (\"Error: can\\'t convert the input to a number\")\n",
        "else:\n",
        "   print (\"Thanks, Have a good day\")"
      ],
      "metadata": {
        "colab": {
          "base_uri": "https://localhost:8080/"
        },
        "id": "bepSq7zM9Yzd",
        "outputId": "d05ed439-dcb5-48cf-d0be-900ea720fc7e"
      },
      "execution_count": null,
      "outputs": [
        {
          "output_type": "stream",
          "name": "stdout",
          "text": [
            "Enter any number - 3\n",
            "You have entered a valid number\n",
            "Thanks, Have a good day\n"
          ]
        }
      ]
    },
    {
      "cell_type": "code",
      "source": [
        "#Try, except and finally: Finally block gets executed irrespective of the exception\n",
        "user_input = input(\"Enter any number - \")\n",
        "try:\n",
        "   a = int(user_input)\n",
        "   print(\"From Try: You have entered a valid number\")\n",
        "except ValueError:\n",
        "   print (\"From Except: can\\'t convert the input to a number\")\n",
        "finally:\n",
        "   print (\"From Finally: Thanks, Have a good day\")"
      ],
      "metadata": {
        "colab": {
          "base_uri": "https://localhost:8080/"
        },
        "id": "ipqqdYK2-WBe",
        "outputId": "110d4659-3ead-42de-e66e-1239aea713b1"
      },
      "execution_count": null,
      "outputs": [
        {
          "output_type": "stream",
          "name": "stdout",
          "text": [
            "Enter any number - df\n",
            "From Except: can't convert the input to a number\n",
            "From Finally: Thanks, Have a good day\n"
          ]
        }
      ]
    },
    {
      "cell_type": "code",
      "source": [
        "#Nested try block\n",
        "#Use of finally in coding: Example to close an open connection irrespective of exectution\n",
        "fh = open(\"testfile\", \"w\")\n",
        "fh.close()\n",
        "try:\n",
        "   fh = open(\"testfile\", \"r\")\n",
        "   try:\n",
        "      fh.write(\"This is my test file for exception handling!!\")\n",
        "   finally:\n",
        "      print (\"In finally block\")\n",
        "      print (\"Going to close the file\")\n",
        "      fh.close()\n",
        "except IOError:\n",
        "   print (\"In except block\")\n",
        "   print (\"Error: can\\'t find file or read data\")"
      ],
      "metadata": {
        "colab": {
          "base_uri": "https://localhost:8080/"
        },
        "id": "30DgBSeGBLpV",
        "outputId": "8c957eeb-9938-4995-c207-4bf34bdd66d8"
      },
      "execution_count": null,
      "outputs": [
        {
          "output_type": "stream",
          "name": "stdout",
          "text": [
            "In finally block\n",
            "Going to close the file\n",
            "In except block\n",
            "Error: can't find file or read data\n"
          ]
        }
      ]
    },
    {
      "cell_type": "code",
      "source": [
        "#The except Clause with No Exceptions\n",
        "user_input = input(\"Enter any number - \")\n",
        "try:\n",
        "   a = int(user_input)\n",
        "   print(\"From Try: You have entered a valid number\")\n",
        "except:\n",
        "   print (\"From Except: can\\'t convert the input to a number\")\n",
        "#You can have else or finally as per your requirement"
      ],
      "metadata": {
        "id": "XOQocWlaESfe",
        "colab": {
          "base_uri": "https://localhost:8080/"
        },
        "outputId": "563762c6-6c40-4dd1-b972-af0a73f3f81e"
      },
      "execution_count": null,
      "outputs": [
        {
          "output_type": "stream",
          "name": "stdout",
          "text": [
            "Enter any number - d\n",
            "From Except: can't convert the input to a number\n"
          ]
        }
      ]
    },
    {
      "cell_type": "code",
      "source": [
        "#The except Clause with Multiple Exceptions\n",
        "print(\"Enter two numbers for division\")\n",
        "try:\n",
        "   a = int(input(\"Enter first number for division - \"))\n",
        "   b = int(input(\"Enter second number for division - \"))\n",
        "   div = a/b\n",
        "   print(\"From Try: You have entered a valid numbers\")\n",
        "   print(\"Result: \", new_var)\n",
        "except ValueError:\n",
        "   print (\"From Except ValueError: can\\'t convert the input to a number\")\n",
        "except ZeroDivisionError:\n",
        "  print (\"From Except ZeroDivisionError: can\\'t divide the number by 0\")\n",
        "except NameError:\n",
        "  print(\"From Except NameError: Variable not available\")\n",
        "except:\n",
        "   print (\"From Except: Error occured\")\n",
        "#You can have else or finally as per your requirement"
      ],
      "metadata": {
        "colab": {
          "base_uri": "https://localhost:8080/"
        },
        "id": "0YS91lZ3HzBP",
        "outputId": "22ee2285-156f-42b9-afdb-a7cde1209206"
      },
      "execution_count": null,
      "outputs": [
        {
          "output_type": "stream",
          "name": "stdout",
          "text": [
            "Enter two numbers for division\n",
            "Enter first number for division - e\n",
            "From Except: Error occured\n"
          ]
        }
      ]
    },
    {
      "cell_type": "code",
      "source": [
        "#The except Clause with Multiple Exceptions\n",
        "print(\"Enter two numbers for division\")\n",
        "try:\n",
        "   a = int(input(\"Enter first number for division - \"))\n",
        "   b = int(input(\"Enter second number for division - \"))\n",
        "   div = a/b\n",
        "   print(\"From Try: You have entered a valid numbers\")\n",
        "   print(\"Result: \", new_var)\n",
        "except (ValueError, ZeroDivisionError, NameError):\n",
        "  print(\"From Except: ValueError, ZeroDivisionError or NameError\")\n",
        "#You can have else or finally as per your requirement"
      ],
      "metadata": {
        "id": "DuM5Yzv9IuU9",
        "colab": {
          "base_uri": "https://localhost:8080/"
        },
        "outputId": "7c7aa458-e704-4f06-ae12-df7ec9402f33"
      },
      "execution_count": null,
      "outputs": [
        {
          "output_type": "stream",
          "name": "stdout",
          "text": [
            "Enter two numbers for division\n",
            "Enter first number for division - 3\n",
            "Enter second number for division - r\n",
            "From Except: ValueError, ZeroDivisionError or NameError\n"
          ]
        }
      ]
    },
    {
      "cell_type": "code",
      "source": [
        "#Argument of an Exception\n",
        "try:\n",
        "   a = int(input(\"Enter any number - \"))\n",
        "except ValueError as ex:\n",
        "   print(\"Type of exception :\", type(ex))\n",
        "   print(\"Arguments of exception :\", ex.args)\n",
        "#You can have else or finally as per your requirement"
      ],
      "metadata": {
        "colab": {
          "base_uri": "https://localhost:8080/"
        },
        "id": "7QFiSRw6R-g8",
        "outputId": "d6d19ee3-4ba0-4191-8c22-4c05db8ea6de"
      },
      "execution_count": null,
      "outputs": [
        {
          "output_type": "stream",
          "name": "stdout",
          "text": [
            "Enter any number - ismail\n",
            "Type of exception <class 'ValueError'>\n",
            "Arguments of exception (\"invalid literal for int() with base 10: 'ismail'\",)\n"
          ]
        }
      ]
    },
    {
      "cell_type": "code",
      "source": [
        "#User defined exception\n",
        "class Invalid_level(RuntimeError):\n",
        "   def __init__(self, arg):\n",
        "      self.args = arg\n",
        "\n",
        "#Raising an Exceptions\n",
        "def checklevel( level ):\n",
        "  if level < 1:\n",
        "     raise Invalid_level(str(\"level\"))\n",
        "     # The code below to this would not be executed\n",
        "     # if we raise the exception\n",
        "  else:\n",
        "     print(\"Water level is: \",level)\n",
        "  return\n",
        "\n",
        "#Main thread\n",
        "print(\"enter water level - \")\n",
        "try:\n",
        "  level = int(input())\n",
        "  checklevel(level)\n",
        "except Invalid_level as l1:\n",
        "  print(\"From exception: Invalid level!\", l1.args)"
      ],
      "metadata": {
        "colab": {
          "base_uri": "https://localhost:8080/"
        },
        "id": "jVajtSWBSaut",
        "outputId": "a5c4d497-dd2f-4062-9112-ac3825047733"
      },
      "execution_count": null,
      "outputs": [
        {
          "output_type": "stream",
          "name": "stdout",
          "text": [
            "enter water level - \n",
            "-1\n",
            "From exception: Invalid level! ('l', 'e', 'v', 'e', 'l')\n"
          ]
        }
      ]
    },
    {
      "cell_type": "code",
      "source": [
        "#Asserts\n",
        "def KelvinToFahrenheit(Temperature):\n",
        "   assert (Temperature >= 0),\"Colder than absolute zero!\"\n",
        "   return ((Temperature-273)*1.8)+32\n",
        "\n",
        "print (KelvinToFahrenheit(100))\n",
        "\n",
        "print (KelvinToFahrenheit(-1))\n"
      ],
      "metadata": {
        "colab": {
          "base_uri": "https://localhost:8080/",
          "height": 339
        },
        "id": "-QcV1h6wTj92",
        "outputId": "6d2f1ffb-92b3-44b4-ec48-81e4d54376fa"
      },
      "execution_count": null,
      "outputs": [
        {
          "output_type": "stream",
          "name": "stdout",
          "text": [
            "-279.40000000000003\n"
          ]
        },
        {
          "output_type": "error",
          "ename": "AssertionError",
          "evalue": "ignored",
          "traceback": [
            "\u001b[0;31m---------------------------------------------------------------------------\u001b[0m",
            "\u001b[0;31mAssertionError\u001b[0m                            Traceback (most recent call last)",
            "\u001b[0;32m<ipython-input-19-8c14c629c605>\u001b[0m in \u001b[0;36m<module>\u001b[0;34m()\u001b[0m\n\u001b[1;32m      6\u001b[0m \u001b[0mprint\u001b[0m \u001b[0;34m(\u001b[0m\u001b[0mKelvinToFahrenheit\u001b[0m\u001b[0;34m(\u001b[0m\u001b[0;36m100\u001b[0m\u001b[0;34m)\u001b[0m\u001b[0;34m)\u001b[0m\u001b[0;34m\u001b[0m\u001b[0;34m\u001b[0m\u001b[0m\n\u001b[1;32m      7\u001b[0m \u001b[0;34m\u001b[0m\u001b[0m\n\u001b[0;32m----> 8\u001b[0;31m \u001b[0mprint\u001b[0m \u001b[0;34m(\u001b[0m\u001b[0mKelvinToFahrenheit\u001b[0m\u001b[0;34m(\u001b[0m\u001b[0;34m-\u001b[0m\u001b[0;36m1\u001b[0m\u001b[0;34m)\u001b[0m\u001b[0;34m)\u001b[0m\u001b[0;34m\u001b[0m\u001b[0;34m\u001b[0m\u001b[0m\n\u001b[0m",
            "\u001b[0;32m<ipython-input-19-8c14c629c605>\u001b[0m in \u001b[0;36mKelvinToFahrenheit\u001b[0;34m(Temperature)\u001b[0m\n\u001b[1;32m      1\u001b[0m \u001b[0;31m#Asserts\u001b[0m\u001b[0;34m\u001b[0m\u001b[0;34m\u001b[0m\u001b[0;34m\u001b[0m\u001b[0m\n\u001b[1;32m      2\u001b[0m \u001b[0;32mdef\u001b[0m \u001b[0mKelvinToFahrenheit\u001b[0m\u001b[0;34m(\u001b[0m\u001b[0mTemperature\u001b[0m\u001b[0;34m)\u001b[0m\u001b[0;34m:\u001b[0m\u001b[0;34m\u001b[0m\u001b[0;34m\u001b[0m\u001b[0m\n\u001b[0;32m----> 3\u001b[0;31m    \u001b[0;32massert\u001b[0m \u001b[0;34m(\u001b[0m\u001b[0mTemperature\u001b[0m \u001b[0;34m>=\u001b[0m \u001b[0;36m0\u001b[0m\u001b[0;34m)\u001b[0m\u001b[0;34m,\u001b[0m\u001b[0;34m\"Colder than absolute zero!\"\u001b[0m\u001b[0;34m\u001b[0m\u001b[0;34m\u001b[0m\u001b[0m\n\u001b[0m\u001b[1;32m      4\u001b[0m    \u001b[0;32mreturn\u001b[0m \u001b[0;34m(\u001b[0m\u001b[0;34m(\u001b[0m\u001b[0mTemperature\u001b[0m\u001b[0;34m-\u001b[0m\u001b[0;36m273\u001b[0m\u001b[0;34m)\u001b[0m\u001b[0;34m*\u001b[0m\u001b[0;36m1.8\u001b[0m\u001b[0;34m)\u001b[0m\u001b[0;34m+\u001b[0m\u001b[0;36m32\u001b[0m\u001b[0;34m\u001b[0m\u001b[0;34m\u001b[0m\u001b[0m\n\u001b[1;32m      5\u001b[0m \u001b[0;34m\u001b[0m\u001b[0m\n",
            "\u001b[0;31mAssertionError\u001b[0m: Colder than absolute zero!"
          ]
        }
      ]
    },
    {
      "cell_type": "code",
      "source": [
        "#Assert will evaluate to false and raise assert error\n",
        "print (KelvinToFahrenheit(-5))"
      ],
      "metadata": {
        "colab": {
          "base_uri": "https://localhost:8080/",
          "height": 305
        },
        "id": "mEf0YHFnZvwW",
        "outputId": "ff6c9612-c737-4fce-f685-cef40277c558"
      },
      "execution_count": null,
      "outputs": [
        {
          "output_type": "error",
          "ename": "AssertionError",
          "evalue": "ignored",
          "traceback": [
            "\u001b[0;31m---------------------------------------------------------------------------\u001b[0m",
            "\u001b[0;31mAssertionError\u001b[0m                            Traceback (most recent call last)",
            "\u001b[0;32m<ipython-input-41-f99d9a1a8f5a>\u001b[0m in \u001b[0;36m<module>\u001b[0;34m()\u001b[0m\n\u001b[1;32m      1\u001b[0m \u001b[0;31m#Assert will evaluate to false and raise assert error\u001b[0m\u001b[0;34m\u001b[0m\u001b[0;34m\u001b[0m\u001b[0;34m\u001b[0m\u001b[0m\n\u001b[0;32m----> 2\u001b[0;31m \u001b[0mprint\u001b[0m \u001b[0;34m(\u001b[0m\u001b[0mKelvinToFahrenheit\u001b[0m\u001b[0;34m(\u001b[0m\u001b[0;34m-\u001b[0m\u001b[0;36m5\u001b[0m\u001b[0;34m)\u001b[0m\u001b[0;34m)\u001b[0m\u001b[0;34m\u001b[0m\u001b[0;34m\u001b[0m\u001b[0m\n\u001b[0m",
            "\u001b[0;32m<ipython-input-39-8a2b9834d47e>\u001b[0m in \u001b[0;36mKelvinToFahrenheit\u001b[0;34m(Temperature)\u001b[0m\n\u001b[1;32m      1\u001b[0m \u001b[0;31m#Asserts\u001b[0m\u001b[0;34m\u001b[0m\u001b[0;34m\u001b[0m\u001b[0;34m\u001b[0m\u001b[0m\n\u001b[1;32m      2\u001b[0m \u001b[0;32mdef\u001b[0m \u001b[0mKelvinToFahrenheit\u001b[0m\u001b[0;34m(\u001b[0m\u001b[0mTemperature\u001b[0m\u001b[0;34m)\u001b[0m\u001b[0;34m:\u001b[0m\u001b[0;34m\u001b[0m\u001b[0;34m\u001b[0m\u001b[0m\n\u001b[0;32m----> 3\u001b[0;31m    \u001b[0;32massert\u001b[0m \u001b[0;34m(\u001b[0m\u001b[0mTemperature\u001b[0m \u001b[0;34m>=\u001b[0m \u001b[0;36m0\u001b[0m\u001b[0;34m)\u001b[0m\u001b[0;34m,\u001b[0m\u001b[0;34m\"Colder than absolute zero!\"\u001b[0m\u001b[0;34m\u001b[0m\u001b[0;34m\u001b[0m\u001b[0m\n\u001b[0m\u001b[1;32m      4\u001b[0m    \u001b[0;32mreturn\u001b[0m \u001b[0;34m(\u001b[0m\u001b[0;34m(\u001b[0m\u001b[0mTemperature\u001b[0m\u001b[0;34m-\u001b[0m\u001b[0;36m273\u001b[0m\u001b[0;34m)\u001b[0m\u001b[0;34m*\u001b[0m\u001b[0;36m1.8\u001b[0m\u001b[0;34m)\u001b[0m\u001b[0;34m+\u001b[0m\u001b[0;36m32\u001b[0m\u001b[0;34m\u001b[0m\u001b[0;34m\u001b[0m\u001b[0m\n\u001b[1;32m      5\u001b[0m \u001b[0mprint\u001b[0m \u001b[0;34m(\u001b[0m\u001b[0mKelvinToFahrenheit\u001b[0m\u001b[0;34m(\u001b[0m\u001b[0;36m273\u001b[0m\u001b[0;34m)\u001b[0m\u001b[0;34m)\u001b[0m\u001b[0;34m\u001b[0m\u001b[0;34m\u001b[0m\u001b[0m\n",
            "\u001b[0;31mAssertionError\u001b[0m: Colder than absolute zero!"
          ]
        }
      ]
    },
    {
      "cell_type": "markdown",
      "source": [
        "Assignment Exceptions:\n",
        "\n",
        "1. Write a program to understand value error exception\n",
        "2. Write a program to check how exception and finally block works\n",
        "3. Write a program to find HCF of two numbers\n",
        "4. Write a program to raise any standard exception\n",
        "5. write a program to create user defined exception\n",
        "6. write a program to raise user defined exception\n",
        "7. Write a program to have try except else finally block in a program\n",
        "8. Write a program to catch a exception and do nothing in the exception block\n",
        "9. Write a program to validate if given string is a valid IP format or not\n",
        "10. Rewrite the program of guess the number using functions and exception handling"
      ],
      "metadata": {
        "id": "UUaIKVg0mcfn"
      }
    },
    {
      "cell_type": "code",
      "source": [
        ""
      ],
      "metadata": {
        "id": "1eChleNmZ0Pv"
      },
      "execution_count": null,
      "outputs": []
    }
  ]
}