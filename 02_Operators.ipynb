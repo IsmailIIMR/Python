{
  "nbformat": 4,
  "nbformat_minor": 0,
  "metadata": {
    "colab": {
      "name": "02_Operators.ipynb",
      "provenance": []
    },
    "kernelspec": {
      "name": "python3",
      "display_name": "Python 3"
    },
    "language_info": {
      "name": "python"
    }
  },
  "cells": [
    {
      "cell_type": "code",
      "execution_count": null,
      "metadata": {
        "colab": {
          "base_uri": "https://localhost:8080/"
        },
        "id": "rso60NltgOFL",
        "outputId": "ae741aec-81b9-4bce-a5dd-18b2a535eb5f"
      },
      "outputs": [
        {
          "output_type": "stream",
          "name": "stdout",
          "text": [
            "Addition:  30\n",
            "Subtraction:  -10\n",
            "Multiplication:  200\n",
            "Division:  0.5\n",
            "Power:  100000000000000000000\n",
            "Floor division:  0\n",
            "Reminder:  10\n"
          ]
        }
      ],
      "source": [
        "#Python Arithmetic Operators\n",
        "a = 10\n",
        "b = 20\n",
        "print(\"Addition: \",a+b) #Addition\n",
        "print(\"Subtraction: \",a-b) #Subtraction\n",
        "print(\"Multiplication: \", a*b) #Multiplication\n",
        "print(\"Division: \", a/b) #Division\n",
        "print(\"Power: \", a**b) #Power\n",
        "print(\"Floor division: \", a//b) #Floor division\n",
        "print(\"Reminder: \", a%b) #Reminder"
      ]
    },
    {
      "cell_type": "code",
      "source": [
        "#Python Comparison Operators\n",
        "print(\"Equality: \",a==b) #Equality\n",
        "print(\"Not Equality: \", a!=b) #Not Equality\n",
        "print(\"Less than: \", a<b) #Less than\n",
        "print(\"Greater than: \", a>b) #Greater than\n",
        "print(\"Less than equals to: \", a<=b) #Less than equals to\n",
        "print(\"Greater than equal to: \", a>=b) #Greater than equal to"
      ],
      "metadata": {
        "colab": {
          "base_uri": "https://localhost:8080/"
        },
        "id": "1hwFFZn-nOHl",
        "outputId": "e5ac08e0-52fb-4844-9523-7f9bb521da05"
      },
      "execution_count": null,
      "outputs": [
        {
          "output_type": "stream",
          "name": "stdout",
          "text": [
            "Equality:  False\n",
            "Not Equality:  True\n",
            "Less than:  True\n",
            "Greater than:  False\n",
            "Less than equals to:  True\n",
            "Greater than equal to:  False\n"
          ]
        }
      ]
    },
    {
      "cell_type": "code",
      "source": [
        "#Python Assignment Operators\n",
        "a = 10\n",
        "b = 20\n",
        "c = a + b\n",
        "print(c)\n",
        "c += a\n",
        "print(c)\n",
        "c -= a\n",
        "print(c)\n",
        "\n",
        "#Do Assignment operators using multiplication and assignment"
      ],
      "metadata": {
        "colab": {
          "base_uri": "https://localhost:8080/"
        },
        "id": "rzCx4g3mpP3e",
        "outputId": "f2bc0342-37ce-441c-bbb4-6afcf1fe039b"
      },
      "execution_count": null,
      "outputs": [
        {
          "output_type": "stream",
          "name": "stdout",
          "text": [
            "30\n",
            "40\n",
            "30\n"
          ]
        }
      ]
    },
    {
      "cell_type": "code",
      "source": [
        "# Python Bitwise Operators\n",
        "a = 60\n",
        "b = 13\n",
        "print(bin(a)) #Print value a in bits format\n",
        "print(bin(b))\n",
        "print(bin(a & b))\n",
        "print(bin(a | b))\n",
        "print(bin(a ^ b))\n",
        "print(bin(~a))\n",
        "print(bin(a << 2))\n",
        "print(bin(a >> 2))"
      ],
      "metadata": {
        "colab": {
          "base_uri": "https://localhost:8080/"
        },
        "id": "N2NcDvfypUDA",
        "outputId": "7bae311e-66ba-4594-bede-fb4b1a21a066"
      },
      "execution_count": null,
      "outputs": [
        {
          "output_type": "stream",
          "name": "stdout",
          "text": [
            "0b111100\n",
            "0b1101\n",
            "0b1100\n",
            "0b111101\n",
            "0b110001\n",
            "-0b111101\n",
            "0b11110000\n",
            "0b1111\n"
          ]
        }
      ]
    },
    {
      "cell_type": "code",
      "source": [
        "# Python Logical Operators\n",
        "a = True\n",
        "b = False\n",
        "print(a and b)\n",
        "print(a or b)\n",
        "print(not(a and b))"
      ],
      "metadata": {
        "colab": {
          "base_uri": "https://localhost:8080/"
        },
        "id": "UCFJldfuruE9",
        "outputId": "646bf395-9afc-413f-e9a2-17997fb87ba6"
      },
      "execution_count": null,
      "outputs": [
        {
          "output_type": "stream",
          "name": "stdout",
          "text": [
            "False\n",
            "True\n",
            "True\n"
          ]
        }
      ]
    },
    {
      "cell_type": "code",
      "source": [
        "#what is the value of false and false, false or false, both of these with a not operator"
      ],
      "metadata": {
        "id": "Un8LzqhqZTi-"
      },
      "execution_count": null,
      "outputs": []
    },
    {
      "cell_type": "code",
      "source": [
        "# Python membership Operators\n",
        "list1 = [1,2,3,4,5]\n",
        "x = 2\n",
        "y = 7\n",
        "print(x in list1)\n",
        "print(y in list1)\n",
        "print(x not in list1)\n",
        "print(y not in list1)"
      ],
      "metadata": {
        "colab": {
          "base_uri": "https://localhost:8080/"
        },
        "id": "24Yzhw4YuzzY",
        "outputId": "8076106f-472f-4f53-c762-00421be9e41c"
      },
      "execution_count": null,
      "outputs": [
        {
          "output_type": "stream",
          "name": "stdout",
          "text": [
            "True\n",
            "False\n",
            "False\n",
            "True\n"
          ]
        }
      ]
    },
    {
      "cell_type": "code",
      "source": [
        "#Check if 'sql' is present in the list of programming languages that you have created"
      ],
      "metadata": {
        "id": "FuWImjx0amdr"
      },
      "execution_count": null,
      "outputs": []
    },
    {
      "cell_type": "code",
      "source": [
        "# Python Identity Operators\n",
        "a = 'abcd'\n",
        "b = 'abcd'\n",
        "print(id(a))\n",
        "print(id(b))\n",
        "print(a is b)\n",
        "print(a is not b)\n",
        "print(id(a) == id(b))"
      ],
      "metadata": {
        "colab": {
          "base_uri": "https://localhost:8080/"
        },
        "id": "9fxJLbyTu5DV",
        "outputId": "bda7abd5-7517-4f0d-d684-a60752eb19dc"
      },
      "execution_count": null,
      "outputs": [
        {
          "output_type": "stream",
          "name": "stdout",
          "text": [
            "140287884590000\n",
            "140287884590000\n",
            "True\n",
            "False\n",
            "True\n"
          ]
        }
      ]
    },
    {
      "cell_type": "code",
      "source": [
        "#Check if the identity of the first_name and last_name is same or not"
      ],
      "metadata": {
        "id": "0Q7D-Clabnpk"
      },
      "execution_count": null,
      "outputs": []
    },
    {
      "cell_type": "code",
      "source": [
        "print(\"enter a number between 1 and 10\")\n",
        "a = input()\n",
        "c = int(a) + 1\n",
        "print(\"user input: \", c)\n",
        "print(\"user input type: \", type(c))"
      ],
      "metadata": {
        "colab": {
          "base_uri": "https://localhost:8080/"
        },
        "id": "Gox8oGfwsnvx",
        "outputId": "a3540149-080b-45b5-9c79-e8ebb8a7c88b"
      },
      "execution_count": null,
      "outputs": [
        {
          "output_type": "stream",
          "name": "stdout",
          "text": [
            "enter a number between 1 and 10\n",
            "2\n",
            "user input:  3\n",
            "user input type:  <class 'int'>\n"
          ]
        }
      ]
    },
    {
      "cell_type": "code",
      "source": [
        "#Printing question, taking input and converting into integer\n",
        "a = int(input(\"enter a number between 1 and 10\"))\n",
        "print(\"user input: \", a)\n",
        "print(\"user input type: \", type(a))"
      ],
      "metadata": {
        "colab": {
          "base_uri": "https://localhost:8080/"
        },
        "id": "wS5cHIJEu577",
        "outputId": "9e1847e6-7f89-439c-c6b5-79854e1b955f"
      },
      "execution_count": null,
      "outputs": [
        {
          "output_type": "stream",
          "name": "stdout",
          "text": [
            "enter a number between 1 and 102\n",
            "user input:  2\n",
            "user input type:  <class 'int'>\n"
          ]
        }
      ]
    },
    {
      "cell_type": "markdown",
      "source": [
        "Assignment:\n",
        "Operators\n",
        "1. write a program which will ask the user to enter marks for math, science, english and hindi and print total marks and percentage marks\n",
        "2. Write a program of ATM machine which will ask the user withdrawal amount and notes to be disbursed from 2000,500,100,50,20,10 bundles. Example what notes if user withdraws Rs 2680\n",
        "3. Write a program to illustrate 'in' operator. Find if there is vovel in a string\n",
        "4. Write a program to understand operator precedence, like an equation: (v+w) * x / y, try more such equations\n",
        "5. Write a program to check if the number is divisible by another number\n",
        "6. The mean of 40 number is 38. Later on i realized, i have misread number 56 as 36. FInd the correct mean of the numbers\n",
        "7. Three cyclists c1, c2 and c3 are riding at the speed 15,17 and 16 Km/h. Find the average and compare which cyclist is riding slower than the average speed and which cyclist faster than the average\n",
        "\n"
      ],
      "metadata": {
        "id": "FhYvuthJYlAg"
      }
    },
    {
      "cell_type": "code",
      "source": [
        ""
      ],
      "metadata": {
        "id": "juLe6JKRedVL"
      },
      "execution_count": null,
      "outputs": []
    },
    {
      "cell_type": "markdown",
      "source": [
        "The mean of 40 number is 38. Later on i realized, i have misread number 56 as 36. FInd the correct mean of the numbers\n",
        "Algorithm:\n",
        "1. total = 40*38\n",
        "2. new_total = total + (56-36)\n",
        "3. new mean = new_total / 40"
      ],
      "metadata": {
        "id": "zCtbJbdnxFt5"
      }
    },
    {
      "cell_type": "markdown",
      "source": [
        "ATM machine Steps\n",
        "1. Divide the number by 2000, check the quotient and remainder\n",
        "2. Subtract the number by 2000*quotient\n",
        "3. Divide the remaining number by 500, check quotient and remainder\n",
        "3. COntinue "
      ],
      "metadata": {
        "id": "Pn79ENHdyJ9P"
      }
    },
    {
      "cell_type": "code",
      "source": [
        "input = 3000\n",
        "print(\"Number of 2000 notes: \", input//2000)\n",
        "rem1 = input%2000\n",
        "\n",
        "print(\"Number of 500 notes: \", rem1//500)"
      ],
      "metadata": {
        "id": "bHkuoxRQ2RPg",
        "colab": {
          "base_uri": "https://localhost:8080/"
        },
        "outputId": "a7d3cd79-7387-46ee-fc00-505fb245fded"
      },
      "execution_count": null,
      "outputs": [
        {
          "output_type": "stream",
          "name": "stdout",
          "text": [
            "Number of 2000 notes:  1\n",
            "Number of 500 notes:  2\n"
          ]
        }
      ]
    },
    {
      "cell_type": "code",
      "source": [
        "c1 = 15\n",
        "c2 = 17\n",
        "c3 = 16\n",
        "avg = (c1+c2+c3)/3\n",
        "print(\"C1 is cycling with speeds greater than average: \", c1>avg)"
      ],
      "metadata": {
        "colab": {
          "base_uri": "https://localhost:8080/"
        },
        "id": "r1SRLkT1xIhL",
        "outputId": "708e7605-ffd0-44bc-b8a4-e14a6aedeb47"
      },
      "execution_count": null,
      "outputs": [
        {
          "output_type": "stream",
          "name": "stdout",
          "text": [
            "C1 is cycling with speeds greater than average:  False\n"
          ]
        }
      ]
    },
    {
      "cell_type": "code",
      "source": [
        ""
      ],
      "metadata": {
        "id": "kuedXRP4x2pg"
      },
      "execution_count": null,
      "outputs": []
    }
  ]
}