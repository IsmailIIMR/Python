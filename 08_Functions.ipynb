{
  "nbformat": 4,
  "nbformat_minor": 0,
  "metadata": {
    "colab": {
      "name": "08_Functions.ipynb",
      "provenance": []
    },
    "kernelspec": {
      "name": "python3",
      "display_name": "Python 3"
    },
    "language_info": {
      "name": "python"
    }
  },
  "cells": [
    {
      "cell_type": "code",
      "execution_count": null,
      "metadata": {
        "colab": {
          "base_uri": "https://localhost:8080/"
        },
        "id": "z7vPlbjHtwCq",
        "outputId": "a75d3156-f80f-42f1-84fb-9b9b8456d322"
      },
      "outputs": [
        {
          "output_type": "stream",
          "name": "stdout",
          "text": [
            "Printing from the function\n",
            "First function call\n",
            "Printing from the function\n",
            "Second function call\n"
          ]
        }
      ],
      "source": [
        "#Basic function\n",
        "def printme( str1 ):\n",
        "   \"This prints a passed string into this function\"\n",
        "   \n",
        "   print (\"Printing from the function\")\n",
        "   print (str1)\n",
        "   \n",
        "   return\n",
        "\n",
        "printme(\"First function call\")\n",
        "printme(\"Second function call\")"
      ]
    },
    {
      "cell_type": "code",
      "source": [
        "#Call the function defination\n",
        "print(printme.__doc__)"
      ],
      "metadata": {
        "colab": {
          "base_uri": "https://localhost:8080/",
          "height": 35
        },
        "id": "MrebfyN4x92r",
        "outputId": "3a59c151-52d3-4898-c4a3-723f1eead0bc"
      },
      "execution_count": null,
      "outputs": [
        {
          "output_type": "execute_result",
          "data": {
            "application/vnd.google.colaboratory.intrinsic+json": {
              "type": "string"
            },
            "text/plain": [
              "'This prints a passed string into this function'"
            ]
          },
          "metadata": {},
          "execution_count": 2
        }
      ]
    },
    {
      "cell_type": "code",
      "source": [
        "# Function definition, Example of Passing value by reference\n",
        "def changeme( mylist ):  \n",
        "   #This changes a passed list into this function\"\n",
        "   mylist.append([1,2,3,4]);\n",
        "   print (\"Values inside the function: \", mylist)\n",
        "   return\n",
        "\n",
        "# Now you can call changeme function\n",
        "mylist = [10,20,30];\n",
        "changeme( mylist );\n",
        "print (\"Values outside the function: \", mylist)"
      ],
      "metadata": {
        "colab": {
          "base_uri": "https://localhost:8080/"
        },
        "id": "PK3bv_VLwJSH",
        "outputId": "b8619b44-62f0-4a9e-85aa-3e5665b37573"
      },
      "execution_count": null,
      "outputs": [
        {
          "output_type": "stream",
          "name": "stdout",
          "text": [
            "Values inside the function:  [10, 20, 30, [1, 2, 3, 4]]\n",
            "Values outside the function:  [10, 20, 30, [1, 2, 3, 4]]\n"
          ]
        }
      ]
    },
    {
      "cell_type": "code",
      "source": [
        "# Pass value by reference but \n",
        "def changeme( mylist ):  \n",
        "   #\"This changes a passed list into this function\"\n",
        "   mylist = [1,2,3,4] # This would assig new reference in mylist\n",
        "   print (\"Values inside the function: \", mylist)\n",
        "   return\n",
        "\n",
        "# Now you can call changeme function\n",
        "mylist = [10,20,30]\n",
        "changeme( mylist )\n",
        "print (\"Values outside the function: \", mylist)"
      ],
      "metadata": {
        "colab": {
          "base_uri": "https://localhost:8080/"
        },
        "id": "oYZpzaAlwMNi",
        "outputId": "d5b9cb02-46ab-46ac-e215-408d270bb644"
      },
      "execution_count": null,
      "outputs": [
        {
          "output_type": "stream",
          "name": "stdout",
          "text": [
            "Values inside the function:  [1, 2, 3, 4]\n",
            "Values outside the function:  [10, 20, 30]\n"
          ]
        }
      ]
    },
    {
      "cell_type": "code",
      "source": [
        "#Required arguments, Calling the function without required argument gives error\n",
        "changeme()"
      ],
      "metadata": {
        "colab": {
          "base_uri": "https://localhost:8080/",
          "height": 183
        },
        "id": "21o1Zu4TyVnp",
        "outputId": "516459a6-fefa-4445-fc23-847eb91cbbd5"
      },
      "execution_count": null,
      "outputs": [
        {
          "output_type": "error",
          "ename": "TypeError",
          "evalue": "ignored",
          "traceback": [
            "\u001b[0;31m---------------------------------------------------------------------------\u001b[0m",
            "\u001b[0;31mTypeError\u001b[0m                                 Traceback (most recent call last)",
            "\u001b[0;32m<ipython-input-8-d5749c856296>\u001b[0m in \u001b[0;36m<module>\u001b[0;34m()\u001b[0m\n\u001b[1;32m      1\u001b[0m \u001b[0;31m#Required arguments, Calling the function without required argument gives error\u001b[0m\u001b[0;34m\u001b[0m\u001b[0;34m\u001b[0m\u001b[0;34m\u001b[0m\u001b[0m\n\u001b[0;32m----> 2\u001b[0;31m \u001b[0mchangeme\u001b[0m\u001b[0;34m(\u001b[0m\u001b[0;34m)\u001b[0m\u001b[0;34m\u001b[0m\u001b[0;34m\u001b[0m\u001b[0m\n\u001b[0m",
            "\u001b[0;31mTypeError\u001b[0m: changeme() missing 1 required positional argument: 'mylist'"
          ]
        }
      ]
    },
    {
      "cell_type": "code",
      "source": [
        "# Function definition by keyword\n",
        "def printinfo( name, age ):\n",
        "   \"This prints a passed info into this function\"\n",
        "   print (\"Name: \", name)\n",
        "   print (\"Age: \", age)\n",
        "   return\n",
        "\n",
        "# Now you can call printinfo function\n",
        "print(\"Values will be assigned as per the keyword\")\n",
        "printinfo( age=50, name=\"miki\" )\n",
        "\n",
        "print(\"Values will be assigned as per the order\")\n",
        "printinfo( 50, \"miki\" )\n",
        "\n",
        "print(\"Values will be assigned as per the order\")\n",
        "printinfo( \"miki\", 50 )"
      ],
      "metadata": {
        "colab": {
          "base_uri": "https://localhost:8080/"
        },
        "id": "71wRTIPbz2s_",
        "outputId": "576c1ff6-4408-4217-b6d9-64933441c011"
      },
      "execution_count": null,
      "outputs": [
        {
          "output_type": "stream",
          "name": "stdout",
          "text": [
            "Values will be assigned as per the keyword\n",
            "Name:  miki\n",
            "Age:  50\n",
            "Values will be assigned as per the order\n",
            "Name:  50\n",
            "Age:  miki\n",
            "Values will be assigned as per the order\n",
            "Name:  miki\n",
            "Age:  50\n"
          ]
        }
      ]
    },
    {
      "cell_type": "code",
      "source": [
        "# Variable-length arguments\n",
        "def printinfo( arg1, *vartuple ):\n",
        "   #This prints a variable passed arguments\"\n",
        "   print (\"Output is: \")\n",
        "   print (arg1)\n",
        "   for var in vartuple:\n",
        "      print (var)\n",
        "   return;\n",
        "\n",
        "# Now you can call printinfo function\n",
        "printinfo( 10 )\n",
        "printinfo( 70, \"miki\", \"jhon\" )\n",
        "printinfo( )"
      ],
      "metadata": {
        "colab": {
          "base_uri": "https://localhost:8080/",
          "height": 305
        },
        "id": "EQrurhRi0GZO",
        "outputId": "04c9575b-6c03-49d2-9808-ad4828bb48bb"
      },
      "execution_count": null,
      "outputs": [
        {
          "output_type": "stream",
          "name": "stdout",
          "text": [
            "Output is: \n",
            "10\n",
            "Output is: \n",
            "70\n",
            "miki\n",
            "jhon\n"
          ]
        },
        {
          "output_type": "error",
          "ename": "TypeError",
          "evalue": "ignored",
          "traceback": [
            "\u001b[0;31m---------------------------------------------------------------------------\u001b[0m",
            "\u001b[0;31mTypeError\u001b[0m                                 Traceback (most recent call last)",
            "\u001b[0;32m<ipython-input-4-68a5db8b45a9>\u001b[0m in \u001b[0;36m<module>\u001b[0;34m()\u001b[0m\n\u001b[1;32m     11\u001b[0m \u001b[0mprintinfo\u001b[0m\u001b[0;34m(\u001b[0m \u001b[0;36m10\u001b[0m \u001b[0;34m)\u001b[0m\u001b[0;34m\u001b[0m\u001b[0;34m\u001b[0m\u001b[0m\n\u001b[1;32m     12\u001b[0m \u001b[0mprintinfo\u001b[0m\u001b[0;34m(\u001b[0m \u001b[0;36m70\u001b[0m\u001b[0;34m,\u001b[0m \u001b[0;34m\"miki\"\u001b[0m\u001b[0;34m,\u001b[0m \u001b[0;34m\"jhon\"\u001b[0m \u001b[0;34m)\u001b[0m\u001b[0;34m\u001b[0m\u001b[0;34m\u001b[0m\u001b[0m\n\u001b[0;32m---> 13\u001b[0;31m \u001b[0mprintinfo\u001b[0m\u001b[0;34m(\u001b[0m \u001b[0;34m)\u001b[0m\u001b[0;34m\u001b[0m\u001b[0;34m\u001b[0m\u001b[0m\n\u001b[0m",
            "\u001b[0;31mTypeError\u001b[0m: printinfo() missing 1 required positional argument: 'arg1'"
          ]
        }
      ]
    },
    {
      "cell_type": "code",
      "source": [
        "# Variable-length arguments\n",
        "def printinfo( *vartuple ):\n",
        "   #This prints a variable passed arguments\"\n",
        "   print (\"Output is: \")\n",
        "   for var in vartuple:\n",
        "      print (var)\n",
        "   return;\n",
        "\n",
        "# Now you can call printinfo function\n",
        "printinfo( 10 )\n",
        "printinfo( 70, \"miki\", \"jhon\" )\n",
        "printinfo( )"
      ],
      "metadata": {
        "colab": {
          "base_uri": "https://localhost:8080/"
        },
        "id": "KAr7c1Hw2qPO",
        "outputId": "aec142c5-3668-49d6-98ab-f17798a82735"
      },
      "execution_count": null,
      "outputs": [
        {
          "output_type": "stream",
          "name": "stdout",
          "text": [
            "Output is: \n",
            "10\n",
            "Output is: \n",
            "70\n",
            "miki\n",
            "jhon\n",
            "Output is: \n"
          ]
        }
      ]
    },
    {
      "cell_type": "code",
      "source": [
        "# Function definition is here: Default variable\n",
        "def printinfo( name, age = 35):\n",
        "   \"This prints a passed info into this function\"\n",
        "   print (\"Name: \", name)\n",
        "   print (\"Age \", age)\n",
        "   return;\n",
        "\n",
        "# Now you can call printinfo function\n",
        "printinfo( age=50, name=\"miki\" )\n",
        "printinfo( name=\"miki\" )\n",
        "printinfo( \"miki\" )"
      ],
      "metadata": {
        "colab": {
          "base_uri": "https://localhost:8080/"
        },
        "id": "gjwCyQ2EAlOn",
        "outputId": "02c7f982-8258-4299-8084-12418e16fb72"
      },
      "execution_count": null,
      "outputs": [
        {
          "output_type": "stream",
          "name": "stdout",
          "text": [
            "Name:  miki\n",
            "Age  50\n",
            "Name:  miki\n",
            "Age  35\n",
            "Name:  miki\n",
            "Age  35\n"
          ]
        }
      ]
    },
    {
      "cell_type": "code",
      "source": [
        "# Using return to send value back\n",
        "\n",
        "def sum1( arg1, arg2 ):\n",
        "   # Add both the parameters and return them.\"\n",
        "   total = arg1 + arg2\n",
        "   print (\"Inside the function : \", total)\n",
        "   return total\n",
        "\n",
        "def sum2( arg1, arg2 ):\n",
        "   # Add both the parameters and return them.\"   \n",
        "   return arg1 + arg2\n",
        "\n",
        "# Now you can call sum function\n",
        "T1 = sum1( 7, 4 )\n",
        "T2 = sum2( 7, 4 )\n",
        "print (\"Outside the function : \", T1 )\n",
        "print (\"Outside the function : \", T2 )"
      ],
      "metadata": {
        "colab": {
          "base_uri": "https://localhost:8080/"
        },
        "id": "ypM9Iw1w3F6u",
        "outputId": "ecf69cff-8bac-4f1e-e292-409b7f00b446"
      },
      "execution_count": null,
      "outputs": [
        {
          "output_type": "stream",
          "name": "stdout",
          "text": [
            "Inside the function :  11\n",
            "Outside the function :  11\n",
            "Outside the function :  11\n"
          ]
        }
      ]
    },
    {
      "cell_type": "code",
      "source": [
        "#Global vs. Local variables\n",
        "total = 0 # This is global variable.\n",
        "new_var = 9\n",
        "\n",
        "# Function definition is here\n",
        "def sum( arg1, arg2 ):\n",
        "   # Add both the parameters and return them.\"\n",
        "   total = arg1 + arg2 # Here total is local variable.\n",
        "   print (\"Inside the function local total : \", total)\n",
        "   print (\"Inside the function new_var : \", new_var)\n",
        "   return total\n",
        "\n",
        "# Now you can call sum function\n",
        "sum( 10, 20 )\n",
        "print (\"Outside the function global total : \", total)\n",
        "print (\"Outside the function arg1 : \", arg1)"
      ],
      "metadata": {
        "colab": {
          "base_uri": "https://localhost:8080/",
          "height": 270
        },
        "id": "ntqp5eBB3tKG",
        "outputId": "84224e0b-6bd5-47ae-c8af-13b9b5668658"
      },
      "execution_count": null,
      "outputs": [
        {
          "output_type": "stream",
          "name": "stdout",
          "text": [
            "Inside the function local total :  30\n",
            "{'arg1': 10, 'arg2': 20, 'total': 30}\n",
            "Inside the function new_var :  9\n",
            "Outside the function global total :  0\n"
          ]
        },
        {
          "output_type": "error",
          "ename": "NameError",
          "evalue": "ignored",
          "traceback": [
            "\u001b[0;31m---------------------------------------------------------------------------\u001b[0m",
            "\u001b[0;31mNameError\u001b[0m                                 Traceback (most recent call last)",
            "\u001b[0;32m<ipython-input-9-3e12cfb22977>\u001b[0m in \u001b[0;36m<module>\u001b[0;34m()\u001b[0m\n\u001b[1;32m     14\u001b[0m \u001b[0msum\u001b[0m\u001b[0;34m(\u001b[0m \u001b[0;36m10\u001b[0m\u001b[0;34m,\u001b[0m \u001b[0;36m20\u001b[0m \u001b[0;34m)\u001b[0m\u001b[0;34m\u001b[0m\u001b[0;34m\u001b[0m\u001b[0m\n\u001b[1;32m     15\u001b[0m \u001b[0mprint\u001b[0m \u001b[0;34m(\u001b[0m\u001b[0;34m\"Outside the function global total : \"\u001b[0m\u001b[0;34m,\u001b[0m \u001b[0mtotal\u001b[0m\u001b[0;34m)\u001b[0m\u001b[0;34m\u001b[0m\u001b[0;34m\u001b[0m\u001b[0m\n\u001b[0;32m---> 16\u001b[0;31m \u001b[0mprint\u001b[0m \u001b[0;34m(\u001b[0m\u001b[0;34m\"Outside the function arg1 total : \"\u001b[0m\u001b[0;34m,\u001b[0m \u001b[0marg1\u001b[0m\u001b[0;34m)\u001b[0m\u001b[0;34m\u001b[0m\u001b[0;34m\u001b[0m\u001b[0m\n\u001b[0m",
            "\u001b[0;31mNameError\u001b[0m: name 'arg1' is not defined"
          ]
        }
      ]
    },
    {
      "cell_type": "markdown",
      "source": [
        "Special functions in Python"
      ],
      "metadata": {
        "id": "NxiZujWQFzyQ"
      }
    },
    {
      "cell_type": "code",
      "source": [
        "#Anonymous Functions\n",
        "sum = lambda arg1, arg2: arg1 + arg2\n",
        "\n",
        "# Now you can call sum as a function\n",
        "print (\"Value of total : \", sum( 10, 20 ))\n",
        "print (\"Value of total : \", sum( 20, 20 ))\n",
        "print (type(sum))"
      ],
      "metadata": {
        "colab": {
          "base_uri": "https://localhost:8080/"
        },
        "id": "oqh6D-JC1ZJh",
        "outputId": "7bcaffb1-9282-4c98-8bc4-7ad3a5f48e5c"
      },
      "execution_count": null,
      "outputs": [
        {
          "output_type": "stream",
          "name": "stdout",
          "text": [
            "Value of total :  30\n",
            "Value of total :  40\n",
            "<class 'function'>\n"
          ]
        }
      ]
    },
    {
      "cell_type": "code",
      "source": [
        "#Map - Map function accepts another function and a sequence of ‘iterables’ as parameters\n",
        "# and provides output after applying the function to each iterable in the sequence\n",
        "def function(a):\n",
        "    return a+1\n",
        "\n",
        "x = map(function, (1,2,3,4))  #x is the map object\n",
        "print(x)\n",
        "print(list(x))"
      ],
      "metadata": {
        "colab": {
          "base_uri": "https://localhost:8080/"
        },
        "id": "_RzFD8klF3og",
        "outputId": "ceafee17-8cc0-4f0e-e4a2-1effac4a17f7"
      },
      "execution_count": null,
      "outputs": [
        {
          "output_type": "stream",
          "name": "stdout",
          "text": [
            "<map object at 0x7f68ae64cd90>\n",
            "[2, 3, 4, 5]\n"
          ]
        }
      ]
    },
    {
      "cell_type": "code",
      "source": [
        "list1 = [5, 7, 22, 97, 54, 62, 77, 23, 73, 61]\n",
        "newtuple = tuple(map(lambda x: x+3 , list1))\n",
        "newlist = list(map(lambda x: x+3 , list1))\n",
        "print(newtuple)\n",
        "print(newlist)"
      ],
      "metadata": {
        "colab": {
          "base_uri": "https://localhost:8080/"
        },
        "id": "tFsBcWfaF3jN",
        "outputId": "fdf11c2c-574d-4bce-e761-5aca26e77b3d"
      },
      "execution_count": null,
      "outputs": [
        {
          "output_type": "stream",
          "name": "stdout",
          "text": [
            "(8, 10, 25, 100, 57, 65, 80, 26, 76, 64)\n",
            "[8, 10, 25, 100, 57, 65, 80, 26, 76, 64]\n"
          ]
        }
      ]
    },
    {
      "cell_type": "code",
      "source": [
        "#The filter() function is used to generate an output list of values \n",
        "#that return true when the function is called\n",
        "def func(x):\n",
        "    if x>=3:\n",
        "        return x\n",
        "        \n",
        "y = filter(func, (1,2,3,4))  \n",
        "print(y)\n",
        "print(list(y))"
      ],
      "metadata": {
        "id": "vSStnbCeF3WU",
        "colab": {
          "base_uri": "https://localhost:8080/"
        },
        "outputId": "63f1b1aa-1cf4-426d-9b50-9b7faf624cd9"
      },
      "execution_count": null,
      "outputs": [
        {
          "output_type": "stream",
          "name": "stdout",
          "text": [
            "<filter object at 0x7fac119555d0>\n",
            "[3, 4]\n"
          ]
        }
      ]
    },
    {
      "cell_type": "code",
      "source": [
        "list1 = [5, 7, 22, 97, 54, 62, 77, 23, 73, 61]\n",
        "y = filter(lambda x: (x>=50), list1)\n",
        "print(list(y))"
      ],
      "metadata": {
        "colab": {
          "base_uri": "https://localhost:8080/"
        },
        "id": "PkCbAaPwXT4K",
        "outputId": "710cf63c-7805-4854-beb6-ea99ba498317"
      },
      "execution_count": null,
      "outputs": [
        {
          "output_type": "stream",
          "name": "stdout",
          "text": [
            "[97, 54, 62, 77, 73, 61]\n"
          ]
        }
      ]
    },
    {
      "cell_type": "code",
      "source": [
        "from functools import reduce\n",
        "\n",
        "#reduce() is useful when you need to apply a function to an iterable and reduce it to a single cumulative value\n",
        "\n",
        "def func1(a,b):\n",
        "  return a-b\n",
        "\n",
        "print(reduce(func1,[1,2,3,4]))\n",
        "\n",
        "#Reduce with a lambda function\n",
        "print(reduce(lambda a,b: a+b,[1,2,3,4]))\n",
        "\n",
        "#print(list(map(lambda a,b: a+b,[1,2,3,4]))) #missing 1 required positional argument: 'b'\n",
        "#print(list(filter(lambda a,b: a+b,[1,2,3,4]))) #missing 1 required positional argument: 'b'"
      ],
      "metadata": {
        "colab": {
          "base_uri": "https://localhost:8080/"
        },
        "id": "o38T3mtQXTr4",
        "outputId": "4566618b-c884-4c1e-cd26-f3975a3e086a"
      },
      "execution_count": null,
      "outputs": [
        {
          "output_type": "stream",
          "name": "stdout",
          "text": [
            "-8\n",
            "10\n"
          ]
        }
      ]
    },
    {
      "cell_type": "markdown",
      "source": [
        "Assignments Functions\n",
        "\n",
        "1. Write a program to create a function name well_wishes that will ask your name and print out wishes to the user\n",
        "2. Write a program to calculate perimeter of a square, primeter of a rectangle\n",
        "3. Write a program to make a calculator: For making a calculator create four functions add, subtract, multiply and divide. Ask for choice from users which operations they want to perform. Take user input whatever operation they want to perform and call that function accordingly\n",
        "4. Write a Python function to calculate the factorial of a number using recursive function: Recursive function is a fucntion which calls itselves\n",
        "5. Write a Python function that takes a list and returns a new list with unique elements of the first list\n",
        "6. Write a Python function to check whether a number is perfect or not (Google search the meaning of perfect number if you are not aware)\n",
        "7. Write a Python program that accepts a hyphen-separated sequence of words as input and prints the words in a hyphen-separated sequence after sorting them alphabetically.\n",
        "Input: green-red-yellow-black-white\n",
        "Output: black-green-red-white-yellow\n",
        "8. Write a Python function to multiply all the numbers in a list\n",
        "9. Write a Python function that accepts a string and calculate the number of upper case letters and lower case letters\n",
        "10. Write a Python function to check whether a string is a pangram or not. Pangrams are words or sentences containing every letter of the alphabet at least once. For example : \"The quick brown fox jumps over the lazy dog\"\n",
        "11. Write a fucntion to implement map, filter, reduce and lambda function\n"
      ],
      "metadata": {
        "id": "aea4puXdaf6f"
      }
    },
    {
      "cell_type": "markdown",
      "source": [
        "Assignments DateTime\n",
        "1. Write a program to check the current date and time\n",
        "2. Write a program to generate a random date and time from the given start and end dates"
      ],
      "metadata": {
        "id": "kexPb5kC-161"
      }
    },
    {
      "cell_type": "markdown",
      "source": [
        "Factorial using recursive function\n",
        "\n",
        "6! = 6*5!\n",
        "\n",
        "5! = 5*4!\n",
        "\n",
        "4! = 4*3!\n",
        "\n",
        "For calculating 6!\n",
        "\n",
        "factorial(6) = 6*factorial(5)\n"
      ],
      "metadata": {
        "id": "WmYpErr7GbHb"
      }
    }
  ]
}