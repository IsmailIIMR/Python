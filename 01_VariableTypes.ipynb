{
  "nbformat": 4,
  "nbformat_minor": 0,
  "metadata": {
    "colab": {
      "name": "01_VariableTypes.ipynb",
      "provenance": []
    },
    "kernelspec": {
      "name": "python3",
      "display_name": "Python 3"
    },
    "language_info": {
      "name": "python"
    }
  },
  "cells": [
    {
      "cell_type": "code",
      "source": [
        "#Assigning Values to Variables\n",
        "counter = 100 # An integer assignment \n",
        "miles = 1000.0 # A floating point \n",
        "name = \"John\" # A string"
      ],
      "metadata": {
        "id": "kT2sLKDd7sq9"
      },
      "execution_count": null,
      "outputs": []
    },
    {
      "cell_type": "code",
      "source": [
        "print (counter) \n",
        "print (miles) \n",
        "print (name)"
      ],
      "metadata": {
        "colab": {
          "base_uri": "https://localhost:8080/"
        },
        "id": "W318ae7v3SZL",
        "outputId": "d85990d8-19f7-4844-ba15-b52d4b3f640a"
      },
      "execution_count": null,
      "outputs": [
        {
          "output_type": "stream",
          "name": "stdout",
          "text": [
            "100\n",
            "1000.0\n",
            "John\n"
          ]
        }
      ]
    },
    {
      "cell_type": "code",
      "source": [
        "print(type(counter))"
      ],
      "metadata": {
        "colab": {
          "base_uri": "https://localhost:8080/"
        },
        "id": "0UisTEbAi2AN",
        "outputId": "3a636d6f-9f3c-49f0-a38f-f0d6f93ed483"
      },
      "execution_count": null,
      "outputs": [
        {
          "output_type": "stream",
          "name": "stdout",
          "text": [
            "<class 'int'>\n"
          ]
        }
      ]
    },
    {
      "cell_type": "code",
      "source": [
        "#Create a variable name and assign your name to that variable created"
      ],
      "metadata": {
        "id": "hz7mOqKh9mSh"
      },
      "execution_count": null,
      "outputs": []
    },
    {
      "cell_type": "code",
      "source": [
        "print(\"Type of variable counter: \",type(counter))\n",
        "print(\"Type of variable miles: \",type(miles))\n",
        "print(\"Type of variable name: \",type(name))"
      ],
      "metadata": {
        "colab": {
          "base_uri": "https://localhost:8080/"
        },
        "id": "De2ze4mI3bnw",
        "outputId": "d7ff2214-1a95-418c-9e0d-6afd29006b92"
      },
      "execution_count": null,
      "outputs": [
        {
          "output_type": "stream",
          "name": "stdout",
          "text": [
            "Type of variable counter:  <class 'int'>\n",
            "Type of variable miles:  <class 'float'>\n",
            "Type of variable name:  <class 'str'>\n"
          ]
        }
      ]
    },
    {
      "cell_type": "code",
      "source": [
        "#All three variables are assigned to the same memory location\n",
        "a = b = c = 1"
      ],
      "metadata": {
        "id": "4zN6JbaX3p14"
      },
      "execution_count": null,
      "outputs": []
    },
    {
      "cell_type": "code",
      "source": [
        "print(a)\n",
        "print(b)\n",
        "print(c)"
      ],
      "metadata": {
        "colab": {
          "base_uri": "https://localhost:8080/"
        },
        "id": "_F70rV4t5Voc",
        "outputId": "007a2fd7-3022-4e50-bdf2-f0073942d34c"
      },
      "execution_count": null,
      "outputs": [
        {
          "output_type": "stream",
          "name": "stdout",
          "text": [
            "1\n",
            "1\n",
            "1\n"
          ]
        }
      ]
    },
    {
      "cell_type": "code",
      "source": [
        "#id gives the unique identification for each variable\n",
        "#The id() function returns a unique id for the specified object\n",
        "print(id(a))\n",
        "print(id(b))\n",
        "print(id(c))"
      ],
      "metadata": {
        "colab": {
          "base_uri": "https://localhost:8080/"
        },
        "id": "5EFGthTZ5aJM",
        "outputId": "4f17764c-4e1c-47a2-df2a-c26c9f16f09a"
      },
      "execution_count": null,
      "outputs": [
        {
          "output_type": "stream",
          "name": "stdout",
          "text": [
            "94672597727744\n",
            "94672597727744\n",
            "94672597727744\n"
          ]
        }
      ]
    },
    {
      "cell_type": "code",
      "source": [
        "a,b,c = 1,2,\"john\""
      ],
      "metadata": {
        "id": "rOKzq4f85eIl"
      },
      "execution_count": null,
      "outputs": []
    },
    {
      "cell_type": "code",
      "source": [
        "print(a)\n",
        "print(b)\n",
        "print(c)"
      ],
      "metadata": {
        "colab": {
          "base_uri": "https://localhost:8080/"
        },
        "id": "K8kBfLM37CsL",
        "outputId": "5a2f6e0e-7044-4286-849f-b64ac7b8f7c4"
      },
      "execution_count": null,
      "outputs": [
        {
          "output_type": "stream",
          "name": "stdout",
          "text": [
            "1\n",
            "2\n",
            "john\n"
          ]
        }
      ]
    },
    {
      "cell_type": "code",
      "source": [
        "print(id(a))\n",
        "print(id(b))\n",
        "print(id(c))"
      ],
      "metadata": {
        "colab": {
          "base_uri": "https://localhost:8080/"
        },
        "id": "mifDaAz47FJd",
        "outputId": "4fe4c132-12b9-43dc-8a6f-67d6856f4b62"
      },
      "execution_count": null,
      "outputs": [
        {
          "output_type": "stream",
          "name": "stdout",
          "text": [
            "94672597727744\n",
            "94672597727776\n",
            "140682150967088\n"
          ]
        }
      ]
    },
    {
      "cell_type": "code",
      "source": [
        "#You can delete a single object or multiple objects by using the del statement\n",
        "del a\n",
        "del b,c"
      ],
      "metadata": {
        "id": "u6Oh51zP7HgP"
      },
      "execution_count": null,
      "outputs": []
    },
    {
      "cell_type": "code",
      "source": [
        "#The variable is deleted, so the exectution will give error\n",
        "print(id(a))\n",
        "print(id(b))\n",
        "print(id(c))"
      ],
      "metadata": {
        "colab": {
          "base_uri": "https://localhost:8080/",
          "height": 218
        },
        "id": "Pib09g688NcF",
        "outputId": "8f2c6ab4-20b0-41a7-e22b-b25c3b170740"
      },
      "execution_count": null,
      "outputs": [
        {
          "output_type": "error",
          "ename": "NameError",
          "evalue": "ignored",
          "traceback": [
            "\u001b[0;31m---------------------------------------------------------------------------\u001b[0m",
            "\u001b[0;31mNameError\u001b[0m                                 Traceback (most recent call last)",
            "\u001b[0;32m<ipython-input-14-dee628e404c1>\u001b[0m in \u001b[0;36m<module>\u001b[0;34m()\u001b[0m\n\u001b[1;32m      1\u001b[0m \u001b[0;31m#The variable is deleted, so the exectution will give error\u001b[0m\u001b[0;34m\u001b[0m\u001b[0;34m\u001b[0m\u001b[0;34m\u001b[0m\u001b[0m\n\u001b[0;32m----> 2\u001b[0;31m \u001b[0mprint\u001b[0m\u001b[0;34m(\u001b[0m\u001b[0mid\u001b[0m\u001b[0;34m(\u001b[0m\u001b[0ma\u001b[0m\u001b[0;34m)\u001b[0m\u001b[0;34m)\u001b[0m\u001b[0;34m\u001b[0m\u001b[0;34m\u001b[0m\u001b[0m\n\u001b[0m\u001b[1;32m      3\u001b[0m \u001b[0mprint\u001b[0m\u001b[0;34m(\u001b[0m\u001b[0mid\u001b[0m\u001b[0;34m(\u001b[0m\u001b[0mb\u001b[0m\u001b[0;34m)\u001b[0m\u001b[0;34m)\u001b[0m\u001b[0;34m\u001b[0m\u001b[0;34m\u001b[0m\u001b[0m\n\u001b[1;32m      4\u001b[0m \u001b[0mprint\u001b[0m\u001b[0;34m(\u001b[0m\u001b[0mid\u001b[0m\u001b[0;34m(\u001b[0m\u001b[0mc\u001b[0m\u001b[0;34m)\u001b[0m\u001b[0;34m)\u001b[0m\u001b[0;34m\u001b[0m\u001b[0;34m\u001b[0m\u001b[0m\n",
            "\u001b[0;31mNameError\u001b[0m: name 'a' is not defined"
          ]
        }
      ]
    },
    {
      "cell_type": "code",
      "source": [
        "#Numbers\n",
        "int1 = 10\n",
        "float1 = 15.20\n",
        "complex1 = 3.14j"
      ],
      "metadata": {
        "id": "4Y4d_SoE8P7t"
      },
      "execution_count": null,
      "outputs": []
    },
    {
      "cell_type": "code",
      "source": [
        "print(type(int1))\n",
        "print(type(float1))\n",
        "print(type(complex1))"
      ],
      "metadata": {
        "colab": {
          "base_uri": "https://localhost:8080/"
        },
        "id": "h2A9EFF-9Xsu",
        "outputId": "c7e381b7-6c7f-447f-b50e-951b87f6a59a"
      },
      "execution_count": null,
      "outputs": [
        {
          "output_type": "stream",
          "name": "stdout",
          "text": [
            "<class 'int'>\n",
            "<class 'float'>\n",
            "<class 'complex'>\n"
          ]
        }
      ]
    },
    {
      "cell_type": "code",
      "source": [
        "#In Python3 int is upgraded to long by default which means that all the integers are long in Python3"
      ],
      "metadata": {
        "id": "uMjaAyut-G-c"
      },
      "execution_count": null,
      "outputs": []
    },
    {
      "cell_type": "code",
      "source": [
        "#Stings in Python\n",
        "str1 = 'Hello World!'\n",
        "print (str1) # Prints complete string \n",
        "print (str1[0]) # Prints first character of the string \n",
        "print (str1[2:5]) # Prints characters starting from 3rd to 5th \n",
        "print (str1[2:]) # Prints string starting from 3rd character\n",
        "print (str1[:3]) \n",
        "print (str1 * 2) # Prints string two times \n",
        "print (str1 + \"TEST\") # Prints concatenated string"
      ],
      "metadata": {
        "colab": {
          "base_uri": "https://localhost:8080/"
        },
        "id": "0Qwm4wPO-Rli",
        "outputId": "b5d924ad-73f9-47f4-9e3c-d1aaafeb8405"
      },
      "execution_count": null,
      "outputs": [
        {
          "output_type": "stream",
          "name": "stdout",
          "text": [
            "Hello World!\n",
            "H\n",
            "llo\n",
            "llo World!\n",
            "Hello World!Hello World!\n",
            "Hello World!TEST\n"
          ]
        }
      ]
    },
    {
      "cell_type": "code",
      "source": [
        "#Create first_name and last_name from the variable which has you full_name\n",
        "full_name = 'Mohammed Ismail'\n",
        "first_name = full_name[0:8]\n",
        "print(first_name)"
      ],
      "metadata": {
        "colab": {
          "base_uri": "https://localhost:8080/"
        },
        "id": "PjlSP9rTB0g2",
        "outputId": "e222b2c5-1357-45e2-f5ca-8a39b60cfd3c"
      },
      "execution_count": null,
      "outputs": [
        {
          "output_type": "stream",
          "name": "stdout",
          "text": [
            "Mohammed\n"
          ]
        }
      ]
    },
    {
      "cell_type": "code",
      "source": [
        "# 1. Indexing starts at 0\n",
        "# 2. Ending index is not included\n",
        "print (str1[1:3]) "
      ],
      "metadata": {
        "colab": {
          "base_uri": "https://localhost:8080/"
        },
        "id": "3wVbVdfGA6hw",
        "outputId": "27be5271-fec6-4d10-cc04-ace9488e9268"
      },
      "execution_count": null,
      "outputs": [
        {
          "output_type": "stream",
          "name": "stdout",
          "text": [
            "el\n"
          ]
        }
      ]
    },
    {
      "cell_type": "code",
      "source": [
        "H e l l o\n",
        "0 1 2 3 4"
      ],
      "metadata": {
        "id": "_WoMFnZKAZFn"
      },
      "execution_count": null,
      "outputs": []
    },
    {
      "cell_type": "code",
      "source": [
        "#List in Python\n",
        "list1 = [ 'abcd', 786 , 2.23, 'john', 70.2 ]\n",
        "tinylist = [123, 'john'] \n",
        "print (list1) # Prints complete list\n",
        "print (list1[0]) # Prints first element of the list \n",
        "print (list1[1:3]) # Prints elements starting from 2nd till 3rd \n",
        "print (list1[2:]) # Prints elements starting from 3rd element \n",
        "\n",
        "print (str1[-2:]) # - means from end\n",
        "print (tinylist * 2) # Prints list two times \n",
        "print (list1 + tinylist) # Prints concatenated lists"
      ],
      "metadata": {
        "colab": {
          "base_uri": "https://localhost:8080/"
        },
        "id": "d0fJzzQy_nIo",
        "outputId": "6df809c2-a73a-4997-cb61-d1c6e7998380"
      },
      "execution_count": null,
      "outputs": [
        {
          "output_type": "stream",
          "name": "stdout",
          "text": [
            "['abcd', 786, 2.23, 'john', 70.2]\n",
            "abcd\n",
            "[786, 2.23]\n",
            "[2.23, 'john', 70.2]\n",
            "56\n",
            "[123, 'john', 123, 'john']\n",
            "['abcd', 786, 2.23, 'john', 70.2, 123, 'john']\n"
          ]
        }
      ]
    },
    {
      "cell_type": "code",
      "source": [
        "#Create a list with all the programming languages and subset it based on the programming languages learnt so far\n",
        "programming_languages = ['sql', 'python', 'java']\n",
        "print(programming_languages[0:2])"
      ],
      "metadata": {
        "colab": {
          "base_uri": "https://localhost:8080/"
        },
        "id": "-ODqsp_EFeR4",
        "outputId": "1aca8c78-0948-4636-ccd4-3163138e0f85"
      },
      "execution_count": null,
      "outputs": [
        {
          "output_type": "stream",
          "name": "stdout",
          "text": [
            "['sql', 'python']\n"
          ]
        }
      ]
    },
    {
      "cell_type": "code",
      "source": [
        "str1 = '123456'\n",
        "print (str1[0:6:1]) # [start, end, step] \n",
        "print (str1[0:6:2]) # [start, end, step] \n",
        "print (str1[5:1:-1]) # [start, end, step] "
      ],
      "metadata": {
        "colab": {
          "base_uri": "https://localhost:8080/"
        },
        "id": "uRiqcX7RkcOK",
        "outputId": "2bb35510-6b66-48b5-cbb3-be4880f6025c"
      },
      "execution_count": null,
      "outputs": [
        {
          "output_type": "stream",
          "name": "stdout",
          "text": [
            "123456\n",
            "135\n",
            "6543\n"
          ]
        }
      ]
    },
    {
      "cell_type": "code",
      "source": [
        "#Create a string with numbers from 0 to 9 and print all even numbers"
      ],
      "metadata": {
        "id": "PGB_SaGdImtc"
      },
      "execution_count": null,
      "outputs": []
    },
    {
      "cell_type": "code",
      "source": [
        "tuple1 = ( 'abcd', 786 , 2.23, 'john', 70.2 ) \n",
        "tinytuple = (123, 'john') \n",
        "print (tuple1) # Prints the complete tuple \n",
        "print (tuple1[0]) # Prints first element of the tuple \n",
        "print (tuple1[1:3]) # Prints elements of the tuple starting from 2nd till 3rd\n",
        "print (tuple1[2:]) # Prints elements of the tuple starting from 3rd element \n",
        "print (tinytuple * 2) # Prints the contents of the tuple twice \n",
        "print (tuple1 + tinytuple) # Prints concatenated tuples"
      ],
      "metadata": {
        "colab": {
          "base_uri": "https://localhost:8080/"
        },
        "id": "qLbUQSTWBpC8",
        "outputId": "d513f04b-f0bf-423a-a148-312d279bb66b"
      },
      "execution_count": null,
      "outputs": [
        {
          "output_type": "stream",
          "name": "stdout",
          "text": [
            "('abcd', 786, 2.23, 'john', 70.2)\n",
            "abcd\n",
            "(786, 2.23)\n",
            "(2.23, 'john', 70.2)\n",
            "(123, 'john', 123, 'john')\n",
            "('abcd', 786, 2.23, 'john', 70.2, 123, 'john')\n"
          ]
        }
      ]
    },
    {
      "cell_type": "code",
      "source": [
        "#Lists are mutable, tuples are immutable i.e cannot be changed\n",
        "list1[2] = 1000 # Valid syntax with list\n",
        "tuple1[2] = 1000 # Invalid syntax with tuple"
      ],
      "metadata": {
        "id": "PoOty1NYDNq6"
      },
      "execution_count": null,
      "outputs": []
    },
    {
      "cell_type": "code",
      "source": [
        "dict1 = {}\n",
        "dict1['key1'] = \"This is value one\" \n",
        "dict1['key2'] = \"This is value two\" \n",
        "\n",
        "tinydict = {'name': 'john','code':6734, 'dept': 'sales'} \n",
        "\n",
        "print (dict1['key1']) # Prints value for 'one' key \n",
        "print (dict1['key2']) # Prints value for 2 key \n",
        "print (tinydict) # Prints complete dictionary \n",
        "print (tinydict.keys()) # Prints all the keys\n",
        "print (tinydict.values()) # Prints all the values"
      ],
      "metadata": {
        "colab": {
          "base_uri": "https://localhost:8080/"
        },
        "id": "0kK_62oCD1Wy",
        "outputId": "7cdd35b3-898c-4bc9-c382-cef23f7a7c62"
      },
      "execution_count": null,
      "outputs": [
        {
          "output_type": "stream",
          "name": "stdout",
          "text": [
            "This is value one\n",
            "This is value two\n",
            "{'name': 'john', 'code': 6734, 'dept': 'sales'}\n",
            "dict_keys(['name', 'code', 'dept'])\n",
            "dict_values(['john', 6734, 'sales'])\n"
          ]
        }
      ]
    },
    {
      "cell_type": "code",
      "source": [
        "#Dict with all the programming languages as the keys and expertise as the values\n",
        "#Example: 'Sql' is the key, value is 'intermediate level'\n",
        "dict2 = {'SQl': 'intermediate level','Python':'expert level'} \n",
        "dict2['Python']"
      ],
      "metadata": {
        "colab": {
          "base_uri": "https://localhost:8080/",
          "height": 35
        },
        "id": "6PzPZ2IhM46r",
        "outputId": "6201a207-9643-49dd-9300-b7533d22ae24"
      },
      "execution_count": null,
      "outputs": [
        {
          "output_type": "execute_result",
          "data": {
            "text/plain": [
              "'expert level'"
            ],
            "application/vnd.google.colaboratory.intrinsic+json": {
              "type": "string"
            }
          },
          "metadata": {},
          "execution_count": 36
        }
      ]
    },
    {
      "cell_type": "code",
      "source": [
        "#Converting integer to string\n",
        "counter = 100\n",
        "print(type(counter))\n",
        "\n",
        "string_counter = str(counter)\n",
        "print(type(string_counter))"
      ],
      "metadata": {
        "colab": {
          "base_uri": "https://localhost:8080/"
        },
        "id": "vfoKPtrPFF8g",
        "outputId": "f5776cbf-0a7b-4b39-c864-e6931070997b"
      },
      "execution_count": null,
      "outputs": [
        {
          "output_type": "stream",
          "name": "stdout",
          "text": [
            "<class 'int'>\n",
            "<class 'str'>\n"
          ]
        }
      ]
    },
    {
      "cell_type": "code",
      "source": [
        "#Converting integer to string\n",
        "string_counter = '100'\n",
        "print(type(string_counter))\n",
        "\n",
        "int_counter = int(string_counter)\n",
        "print(type(int_counter))"
      ],
      "metadata": {
        "colab": {
          "base_uri": "https://localhost:8080/"
        },
        "id": "18Fm5ykDqTit",
        "outputId": "2cb4e440-275b-45c2-a85e-dbdce457892a"
      },
      "execution_count": null,
      "outputs": [
        {
          "output_type": "stream",
          "name": "stdout",
          "text": [
            "<class 'str'>\n",
            "<class 'int'>\n"
          ]
        }
      ]
    },
    {
      "cell_type": "code",
      "source": [
        "#Taking user input\n",
        "print(\"enter a number between 1 and 10\")\n",
        "a = input()\n",
        "c = int(a) + 1\n",
        "print(\"Incremented input: \", c)\n",
        "print(\"Variable type: \", type(c))"
      ],
      "metadata": {
        "colab": {
          "base_uri": "https://localhost:8080/"
        },
        "id": "YVBp0msjuj1b",
        "outputId": "299e782d-2f56-47ba-ed30-aadc34da6dae"
      },
      "execution_count": null,
      "outputs": [
        {
          "output_type": "stream",
          "name": "stdout",
          "text": [
            "enter a number between 1 and 10\n",
            "3\n",
            "Incremented input:  4\n",
            "Variable type:  <class 'int'>\n"
          ]
        }
      ]
    },
    {
      "cell_type": "code",
      "source": [
        "#Do the same operation without converting the variable 'a' to integer"
      ],
      "metadata": {
        "id": "3_HodSi3QB5v"
      },
      "execution_count": null,
      "outputs": []
    },
    {
      "cell_type": "code",
      "source": [
        "#Printing question, taking input and converting into integer\n",
        "a = int(input(\"enter a number between 1 and 10 - \"))\n",
        "print(\"user input: \", a)\n",
        "print(\"user input type: \", type(a))"
      ],
      "metadata": {
        "colab": {
          "base_uri": "https://localhost:8080/"
        },
        "id": "PR3YVge1DFuo",
        "outputId": "9d0a8c78-8944-4ed2-b0d0-0840872098d6"
      },
      "execution_count": null,
      "outputs": [
        {
          "output_type": "stream",
          "name": "stdout",
          "text": [
            "enter a number between 1 and 10 - 3\n",
            "user input:  3\n",
            "user input type:  <class 'int'>\n"
          ]
        }
      ]
    },
    {
      "cell_type": "markdown",
      "source": [
        "Assignments:\n",
        "1. Algorith: Write step by step instructions to perform addition of two numbers given by a user\n",
        "2. FLow Chart: Draw a flow chart to check if the lamp is working or not\n",
        "3. Program: Write a code to create different types of variables to store various values - Numbers, Lists, Tuples, Dictionay\n",
        "4. String slicing and subsetting to a string: \"This is python programming\"\n",
        "  1. Print element at position 5, position 2 to 6, position 3 to 6\n",
        "  2. Print element at position 2, 4, 6, 8, position 5 till end\n",
        "  3. Print 5 elements from end (Hint: use - sign to get position from end)\n",
        "  4. Print elements in reverse order (Hint: use step size as -1 to get reverse example: str1[::-1])\n",
        "  8. Print elements at position 5 from end till position 3 from end\n",
        "5. list operations = ['first', 'second', 3, 4, 5.0, 6.0, 'seven', 'eight']\n",
        "  1. Print the list\n",
        "  2. Do slicing and dicing on the list (selecting different subsets)\n",
        "6. Write a code to take two numbers as input from user and display the sum of those two numbers (the input function can be used to take input from user)\n",
        "7. Write a code to take a character from user and print the 3rd next character"
      ],
      "metadata": {
        "id": "vXHqUdN-hrrB"
      }
    },
    {
      "cell_type": "code",
      "source": [
        "#Eval function: Optional\n",
        "evaluate = 'x*(x+1)*(x+2)'\n",
        "print(evaluate)\n",
        "print(type(evaluate))\n",
        " \n",
        "x = 3\n",
        "print(type(x))\n",
        " \n",
        "expression = eval(evaluate)\n",
        "print(expression)\n",
        "print(type(expression))"
      ],
      "metadata": {
        "colab": {
          "base_uri": "https://localhost:8080/"
        },
        "id": "ekD-Xhk95iZl",
        "outputId": "5080984c-9724-400f-ccef-ab16ca9750b4"
      },
      "execution_count": null,
      "outputs": [
        {
          "output_type": "stream",
          "name": "stdout",
          "text": [
            "x*(x+1)*(x+2)\n",
            "<class 'str'>\n",
            "<class 'int'>\n",
            "60\n",
            "<class 'int'>\n"
          ]
        }
      ]
    },
    {
      "cell_type": "code",
      "source": [
        "print(eval('1+1'))"
      ],
      "metadata": {
        "colab": {
          "base_uri": "https://localhost:8080/"
        },
        "id": "r6Qrm4CNB5aQ",
        "outputId": "07c1ca0b-1a02-44d1-87b5-ea84f05958da"
      },
      "execution_count": null,
      "outputs": [
        {
          "output_type": "stream",
          "name": "stdout",
          "text": [
            "2\n"
          ]
        }
      ]
    },
    {
      "cell_type": "code",
      "source": [
        ""
      ],
      "metadata": {
        "id": "ksUvc4U6CYLW"
      },
      "execution_count": null,
      "outputs": []
    }
  ]
}
