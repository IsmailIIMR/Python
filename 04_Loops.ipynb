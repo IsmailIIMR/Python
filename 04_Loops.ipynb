{
  "nbformat": 4,
  "nbformat_minor": 0,
  "metadata": {
    "colab": {
      "name": "04_Loops.ipynb",
      "provenance": []
    },
    "kernelspec": {
      "name": "python3",
      "display_name": "Python 3"
    },
    "language_info": {
      "name": "python"
    }
  },
  "cells": [
    {
      "cell_type": "code",
      "execution_count": null,
      "metadata": {
        "colab": {
          "base_uri": "https://localhost:8080/"
        },
        "id": "ev5ejuYo9gAA",
        "outputId": "32dfa644-1484-49b7-c06c-dd6d7e204e30"
      },
      "outputs": [
        {
          "output_type": "stream",
          "name": "stdout",
          "text": [
            "The count is:  1\n",
            "The count is:  2\n",
            "The count is:  3\n",
            "The count is:  4\n",
            "Good bye!\n"
          ]
        }
      ],
      "source": [
        "#While loop\n",
        "\n",
        "count = 1 #Initializing\n",
        "\n",
        "while (count < 5):#Checking the condition\n",
        "\n",
        "   print ('The count is: ', count)\n",
        "   count = count + 1 #Change the value\n",
        "\n",
        "print (\"Good bye!\")"
      ]
    },
    {
      "cell_type": "code",
      "source": [
        "#Using else Statement with While Loop\n",
        "count = 0\n",
        "while count < 5:\n",
        "   print (count, \" is  less than 5\")\n",
        "   count = count + 1\n",
        "else:\n",
        "   print (count, \" is not less than 5\")\n",
        "\n",
        "# Write a code that will print even numbers from 0 to 10"
      ],
      "metadata": {
        "colab": {
          "base_uri": "https://localhost:8080/"
        },
        "id": "KYVAX13sAY0t",
        "outputId": "fbaa4595-cc3e-4283-b54f-ddcc923dfb5c"
      },
      "execution_count": null,
      "outputs": [
        {
          "output_type": "stream",
          "name": "stdout",
          "text": [
            "0  is  less than 5\n",
            "1  is  less than 5\n",
            "2  is  less than 5\n",
            "3  is  less than 5\n",
            "4  is  less than 5\n",
            "5  is not less than 5\n"
          ]
        }
      ]
    },
    {
      "cell_type": "code",
      "source": [
        "#For loop\n",
        "for var1 in 'Python':\n",
        "   print ('Current Letter :', var1)"
      ],
      "metadata": {
        "colab": {
          "base_uri": "https://localhost:8080/"
        },
        "id": "2pLFDD6_9g2N",
        "outputId": "77555657-e6ab-4d16-d031-af681419d205"
      },
      "execution_count": null,
      "outputs": [
        {
          "output_type": "stream",
          "name": "stdout",
          "text": [
            "Current Letter : P\n",
            "Current Letter : y\n",
            "Current Letter : t\n",
            "Current Letter : h\n",
            "Current Letter : o\n",
            "Current Letter : n\n"
          ]
        }
      ]
    },
    {
      "cell_type": "code",
      "source": [
        "#For loop on a list\n",
        "fruits = ['banana', 'apple',  'mango']\n",
        "\n",
        "for var in fruits:\n",
        "   print ('Current fruit :', var)\n",
        "   \n",
        "print (\"Good bye!\")\n",
        "\n",
        "#Write a for loop to print all the programming languages from the list created yesterday"
      ],
      "metadata": {
        "colab": {
          "base_uri": "https://localhost:8080/"
        },
        "id": "elydHRkm_iMw",
        "outputId": "c6f12f13-e2f6-4e72-b713-7c8cf0bc9fca"
      },
      "execution_count": null,
      "outputs": [
        {
          "output_type": "stream",
          "name": "stdout",
          "text": [
            "Current fruit : banana\n",
            "Current fruit : apple\n",
            "Current fruit : mango\n",
            "Good bye!\n"
          ]
        }
      ]
    },
    {
      "cell_type": "code",
      "source": [
        "#Range: range([start,] stop[, step])\n",
        "\n",
        "print(\"range(6)\")\n",
        "x = range(6)\n",
        "for n in x:\n",
        "  print(n)\n",
        "\n",
        "print(\"range(2,6)\")\n",
        "for n in range(2,6):\n",
        "  print(n)\n",
        "\n",
        "print(\"range(1,6,2)\")\n",
        "for n in range(1,6,2):\n",
        "  print(n)\n",
        "\n",
        "#Write a code to print odd values from 0 to 20 in reverse order"
      ],
      "metadata": {
        "colab": {
          "base_uri": "https://localhost:8080/"
        },
        "id": "AlCWvIouMpDi",
        "outputId": "bbf3648c-8f3e-4e52-d539-75209f23d405"
      },
      "execution_count": null,
      "outputs": [
        {
          "output_type": "stream",
          "name": "stdout",
          "text": [
            "range(6)\n",
            "0\n",
            "1\n",
            "2\n",
            "3\n",
            "4\n",
            "5\n",
            "range(2,6)\n",
            "2\n",
            "3\n",
            "4\n",
            "5\n",
            "range(1,6,2)\n",
            "1\n",
            "3\n",
            "5\n"
          ]
        }
      ]
    },
    {
      "cell_type": "code",
      "source": [
        "import random\n",
        "\n",
        "print (\"Random Float uniform(5, 10) : \",  random.uniform(4, 6))\n",
        "print (\"Random Float uniform(7, 14) : \",  random.uniform(7, 14))"
      ],
      "metadata": {
        "colab": {
          "base_uri": "https://localhost:8080/"
        },
        "id": "miDsSfbvOq0Z",
        "outputId": "5e65b263-70b8-405e-de8b-3605febe304e"
      },
      "execution_count": null,
      "outputs": [
        {
          "output_type": "stream",
          "name": "stdout",
          "text": [
            "Random Float uniform(5, 10) :  4.250319859647042\n",
            "Random Float uniform(7, 14) :  7.315714992715844\n"
          ]
        }
      ]
    },
    {
      "cell_type": "code",
      "source": [
        "print(\"range(6)\")\n",
        "x = range(6)\n",
        "for n in x:\n",
        "  if n == 3:\n",
        "    break\n",
        "  print(n)"
      ],
      "metadata": {
        "colab": {
          "base_uri": "https://localhost:8080/"
        },
        "id": "-97ZaYMr2VQb",
        "outputId": "d73c2bf4-296b-4ab8-dce9-39b325feabd9"
      },
      "execution_count": null,
      "outputs": [
        {
          "output_type": "stream",
          "name": "stdout",
          "text": [
            "range(6)\n",
            "0\n",
            "1\n",
            "2\n"
          ]
        }
      ]
    },
    {
      "cell_type": "code",
      "source": [
        "#For loop with else\n",
        "for num in range(10,20):  #to iterate between 10 to 20\n",
        "  for i in range(2,num):  #to iterate on the factors of the number\n",
        "    if num%i == 0:        #to determine the first factor\n",
        "      j=num/i             #to calculate the second factor\n",
        "      print (num,i,j)\n",
        "      break #to move to the next number, the #first FOR\n",
        "  else:                  # else part of the loop\n",
        "    print (num, 'is a prime number')\n",
        "    "
      ],
      "metadata": {
        "colab": {
          "base_uri": "https://localhost:8080/"
        },
        "id": "nGBCxbkGE7NM",
        "outputId": "2e6de1c8-df67-479f-fe5f-463b048240a6"
      },
      "execution_count": null,
      "outputs": [
        {
          "output_type": "stream",
          "name": "stdout",
          "text": [
            "10 2 5.0\n",
            "11 is a prime number\n",
            "12 2 6.0\n",
            "13 is a prime number\n",
            "14 2 7.0\n",
            "15 3 5.0\n",
            "16 2 8.0\n",
            "17 is a prime number\n",
            "18 2 9.0\n",
            "19 is a prime number\n"
          ]
        }
      ]
    },
    {
      "cell_type": "code",
      "source": [
        "#For loop with continue\n",
        "for v1 in 'Python':\n",
        "   if v1 == 'h':\n",
        "      continue\n",
        "   print ('Current Letter :', v1)"
      ],
      "metadata": {
        "colab": {
          "base_uri": "https://localhost:8080/"
        },
        "id": "SEoTrsaRFIg3",
        "outputId": "edd2eec5-b53a-4210-9228-49755dfa64a0"
      },
      "execution_count": null,
      "outputs": [
        {
          "output_type": "stream",
          "name": "stdout",
          "text": [
            "Current Letter : P\n",
            "Current Letter : y\n",
            "Current Letter : t\n",
            "Current Letter : o\n",
            "Current Letter : n\n"
          ]
        }
      ]
    },
    {
      "cell_type": "code",
      "source": [
        "#Nested while loop\n",
        "i = 2\n",
        "while(i < 15):\n",
        "   j = 2\n",
        "   while(j <= (i/j)):\n",
        "      if not(i%j): break\n",
        "      j = j + 1\n",
        "   if (j > i/j) : print (i, \" is prime\")\n",
        "   i = i + 1\n",
        "print (\"Good bye!\")"
      ],
      "metadata": {
        "colab": {
          "base_uri": "https://localhost:8080/"
        },
        "id": "LqsWd8BIJSJj",
        "outputId": "89839f53-1a81-4933-d204-8b64467747f8"
      },
      "execution_count": null,
      "outputs": [
        {
          "output_type": "stream",
          "name": "stdout",
          "text": [
            "2  is prime\n",
            "3  is prime\n",
            "5  is prime\n",
            "7  is prime\n",
            "11  is prime\n",
            "13  is prime\n",
            "Good bye!\n"
          ]
        }
      ]
    },
    {
      "cell_type": "code",
      "source": [
        "# Python program to demonstrate pass statement\n",
        "s = \"python\"\n",
        "  \n",
        "# Empty loop\n",
        "for i in s:\n",
        "    # No error will be raised\n",
        "    pass\n",
        "  \n",
        "# Empty function\n",
        "def fun():\n",
        "    pass\n",
        "  \n",
        "# No error will be raised\n",
        "fun()\n",
        "  \n",
        "# Pass statement\n",
        "for i in s:\n",
        "    if i == 'h':\n",
        "        print('Pass executed')\n",
        "        pass\n",
        "    print(i)"
      ],
      "metadata": {
        "colab": {
          "base_uri": "https://localhost:8080/"
        },
        "id": "fNSAXUsDM6AE",
        "outputId": "ad1cd0bb-d32f-4526-f71c-cb7aa515e156"
      },
      "execution_count": null,
      "outputs": [
        {
          "output_type": "stream",
          "name": "stdout",
          "text": [
            "p\n",
            "y\n",
            "t\n",
            "Pass executed\n",
            "h\n",
            "o\n",
            "n\n"
          ]
        }
      ]
    },
    {
      "cell_type": "code",
      "source": [
        "s = 'string'\n",
        "for i in s:\n",
        "  pass"
      ],
      "metadata": {
        "id": "nnA_dULx4Bmj"
      },
      "execution_count": null,
      "outputs": []
    },
    {
      "cell_type": "markdown",
      "source": [
        "Assignment\n",
        "1. Write a program to calculate the sum of whole numbers starting from 0 till the number entered by user\n",
        "2. Reverse a string by using loop and not the slicing function\n",
        "3. Write a program to print numbers in reverse order beginning from the number entered by the user\n",
        "4. Write a program to identify the longest word in the sentance\n",
        "5. Write a program to ask user input infinite times\n",
        "6. Write a program to verify if the input is Armstrong number ( a number that is equal to the sum of cubes of its digits)\n",
        "7. Calculate the HCF of user entered two number\n",
        "8. Check if the number is Palindrome Number (Digit are the same backward and forward)\n",
        "9. Print all prime numbers between num1 and num2 taken from user\n",
        "10. Print the product of two middle digits of a number\n",
        "11. Find if the number is strong (number whose sum of the factorial of digits is equal to the original number)\n",
        "12. write a program to print square patter with * based on user input\n",
        "13. write a program to print right angle triangle pattern with * based on user input\n",
        "14. Write a program to demostrate the numbers in a diamond pattern\n"
      ],
      "metadata": {
        "id": "vZkBp5ZcDDgn"
      }
    },
    {
      "cell_type": "code",
      "source": [
        "'''\n",
        "Pattern of square for input 4\n",
        "****\n",
        "****\n",
        "****\n",
        "****\n",
        "Diamond pattern\n",
        "  1\n",
        " 123\n",
        "12345\n",
        " 123\n",
        "  1\n",
        "  '''"
      ],
      "metadata": {
        "colab": {
          "base_uri": "https://localhost:8080/",
          "height": 35
        },
        "id": "pOTOzpK6LImn",
        "outputId": "1475f5b1-b53d-45d1-e22e-a5a8f999a4e3"
      },
      "execution_count": null,
      "outputs": [
        {
          "output_type": "execute_result",
          "data": {
            "application/vnd.google.colaboratory.intrinsic+json": {
              "type": "string"
            },
            "text/plain": [
              "'\\n****\\n****\\n****\\n****\\n\\n  1\\n 123\\n12345\\n 123\\n  1\\n  '"
            ]
          },
          "metadata": {},
          "execution_count": 19
        }
      ]
    },
    {
      "cell_type": "code",
      "source": [
        "line = input(\"Enter the sentence: \")\n",
        "st = len(line)\n",
        "count = 0\n",
        "c1 = 0\n",
        "IndexStarting = 0\n",
        "IndexEnding = 0\n",
        "for i in range(st):\n",
        "  count = count+1\n",
        "  if line[i]==\" \":\n",
        "    if count>c1:\n",
        "      c1 = count-1\n",
        "      IndexStarting = i - count+1\n",
        "      IndexEnding = i\n",
        "    count=0\n",
        "if count>c1:\n",
        "  c1=count\n",
        "  IndexStarting = i - count+1\n",
        "  IndexEnding = i\n",
        "\n",
        "print(\"{} is the largest word\".format(line[IndexStarting:IndexEnding]))"
      ],
      "metadata": {
        "colab": {
          "base_uri": "https://localhost:8080/"
        },
        "id": "YkFkzZZtjpNz",
        "outputId": "0c65e005-b74d-488c-a269-66891af04ff5"
      },
      "execution_count": null,
      "outputs": [
        {
          "output_type": "stream",
          "name": "stdout",
          "text": [
            "Enter the sentence: python is a great language\n",
            "languag is the largest word\n"
          ]
        }
      ]
    },
    {
      "cell_type": "code",
      "source": [
        "# take input from the user\n",
        "num = int(input(\"Enter a number: \"))\n",
        "\n",
        "# initialize sum\n",
        "sum = 0\n",
        "\n",
        "# find the sum of the cube of each digit\n",
        "temp = num\n",
        "while temp > 0:\n",
        "   digit = temp % 10\n",
        "   sum += digit ** 3\n",
        "   temp //= 10\n",
        "\n",
        "# display the result\n",
        "if num == sum:\n",
        "   print(num,\"is an Armstrong number\")\n",
        "else:\n",
        "   print(num,\"is not an Armstrong number\")"
      ],
      "metadata": {
        "id": "JP6sNr2r8VDG"
      },
      "execution_count": null,
      "outputs": []
    },
    {
      "cell_type": "code",
      "source": [
        "#Take input from user\n",
        "num1 = float(input(\" Please Enter the First Value  Num1 : \"))\n",
        "num2 = float(input(\" Please Enter the Second Value Num2 : \"))\n",
        "\n",
        "#calculate the HCF of user entered number\n",
        "while(num2 != 0):\n",
        "    temp = num2\n",
        "    num2 = num1 % num2\n",
        "    num1 = temp\n",
        "\n",
        "hcf = num1   \n",
        "#display the result\n",
        "print(\"HCF of num1 and num2 is\",hcf)"
      ],
      "metadata": {
        "id": "uWNZirT0Aq3K"
      },
      "execution_count": null,
      "outputs": []
    },
    {
      "cell_type": "code",
      "source": [
        "#Take input from user\n",
        "num = int(input(\"Enter a number: \"))\n",
        "rev = 0\n",
        "#checking each digit are the same backward and forward\n",
        "temp = num\n",
        "while temp>0:\n",
        "    rem = temp%10\n",
        "    rev = rem + (rev*10)\n",
        "    temp = int(temp/10)\n",
        "#display the result\n",
        "if rev==num:\n",
        "    print(\"\\nIt is a Palindrome Number\")\n",
        "else:\n",
        "    print(\"\\nIt is not a Palindrome Number\")"
      ],
      "metadata": {
        "id": "LzuZE3YUAwCb"
      },
      "execution_count": null,
      "outputs": []
    },
    {
      "cell_type": "code",
      "source": [
        "#take two input from user\n",
        "lower = int(input(\"enter a upper range: \"))\n",
        "upper = int(input(\"enter a lower range: \"))\n",
        "\n",
        "print(\"Prime numbers between\", lower, \"and\", upper, \"are:\")\n",
        "#iterate loop from lower limit to upper limit\n",
        "for num in range(lower, upper + 1):\n",
        "   # all prime numbers are greater than 1\n",
        "   if num > 1:\n",
        "       for i in range(2, num):\n",
        "           if (num % i) == 0:\n",
        "               break\n",
        "       else:\n",
        "           print(num)"
      ],
      "metadata": {
        "id": "BpDmkDcRBO5B"
      },
      "execution_count": null,
      "outputs": []
    },
    {
      "cell_type": "code",
      "source": [
        "#Input a number \n",
        "num = int(input(\"Enter the number : \"))\n",
        "t = num\n",
        "numLen = 0\n",
        "#iterate the loop\n",
        "while t>0: \n",
        "  numLen = numLen+1\n",
        "  t = int(t/10)\n",
        "\n",
        "if numLen>=4: #condition 1\n",
        "  numLen = int(numLen/2)\n",
        "  chk = 0\n",
        "  while num>0: #iterate loop\n",
        "    rem = num%10\n",
        "    if chk==numLen: #nested condition 1\n",
        "      midOne = rem\n",
        "    elif chk==(numLen-1): \n",
        "      midTwo = rem\n",
        "    num = int(num/10)\n",
        "    chk = chk+1\n",
        "  prod = midOne*midTwo #product of middle digits\n",
        "  #display the result\n",
        "  print(\"\\nProduct of Mid digits (\" +str(midOne)+ \"*\" +str(midTwo)+ \") = \", prod)\n",
        "\n",
        "else:\n",
        "  print(\"\\nIt's not a 4 or more than 4-digit number!\")"
      ],
      "metadata": {
        "id": "m5-FJWIxB9I3"
      },
      "execution_count": null,
      "outputs": []
    },
    {
      "cell_type": "code",
      "source": [
        "#Ask user to enter a number\n",
        "Number = int(input(\" Please Enter any Number: \"))\n",
        "Sum = 0 #initialise\n",
        "Temp = Number \n",
        "\n",
        "while(Temp > 0): #using while loop\n",
        "    Factorial = 1   # fact variable with 1  \n",
        "    #intialize with 1  \n",
        "    i = 1\n",
        "    Reminder = Temp % 10\n",
        "\n",
        "    while(i <= Reminder):\n",
        "        Factorial = Factorial * i # Find factorial of each number  \n",
        "        i = i + 1\n",
        "\n",
        "    print(\"\\n Factorial of %d = %d\" %(Reminder, Factorial))\n",
        "    Sum = Sum + Factorial\n",
        "    Temp = Temp // 10\n",
        "    \n",
        "#display output\n",
        "print(\"\\n Sum of Factorials of a Given Number %d = %d\" %(Number, Sum))\n",
        "    \n",
        "if (Sum == Number):\n",
        "    print(\" %d is a Strong Number\" %Number)\n",
        "else:\n",
        "    print(\" %d is not a Strong Number\" %Number)"
      ],
      "metadata": {
        "id": "LMfKd92DCLT7"
      },
      "execution_count": null,
      "outputs": []
    },
    {
      "cell_type": "code",
      "source": [
        "rowNum = 5 #initialised number of rows 5\n",
        "space = rowNum-1\n",
        "\n",
        "for i in range(1, rowNum+1): #loops for rows\n",
        "  for j in range(1, space+1): #loop for space \n",
        "    print(end=\" \")\n",
        "  space = space-1\n",
        "  \n",
        "  for j in range(2*i-1): #loop for upper part of diamond\n",
        "    print(end=\"*\")\n",
        "  print()\n",
        "space = 1\n",
        "#loops for lower part of diamond\n",
        "for i in range(1, rowNum):\n",
        "  for j in range(1, space+1):\n",
        "    print(end=\" \")\n",
        "  space = space+1\n",
        "  for j in range(1, 2*(rowNum-i)): \n",
        "    print(end=\"*\")\n",
        "  print()"
      ],
      "metadata": {
        "colab": {
          "base_uri": "https://localhost:8080/"
        },
        "id": "sw0SqZ910Vck",
        "outputId": "42907a67-8229-42d4-9c1f-cfb5e033535f"
      },
      "execution_count": null,
      "outputs": [
        {
          "output_type": "stream",
          "name": "stdout",
          "text": [
            "    *\n",
            "   ***\n",
            "  *****\n",
            " *******\n",
            "*********\n",
            " *******\n",
            "  *****\n",
            "   ***\n",
            "    *\n"
          ]
        }
      ]
    },
    {
      "cell_type": "code",
      "source": [
        ""
      ],
      "metadata": {
        "id": "nb08DPlH0WsH"
      },
      "execution_count": null,
      "outputs": []
    }
  ]
}