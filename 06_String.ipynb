{
  "nbformat": 4,
  "nbformat_minor": 0,
  "metadata": {
    "colab": {
      "name": "06_String.ipynb",
      "provenance": []
    },
    "kernelspec": {
      "name": "python3",
      "display_name": "Python 3"
    },
    "language_info": {
      "name": "python"
    }
  },
  "cells": [
    {
      "cell_type": "code",
      "execution_count": null,
      "metadata": {
        "colab": {
          "base_uri": "https://localhost:8080/"
        },
        "id": "7Uchl9hs4SRw",
        "outputId": "85206a1b-46b0-4464-c0dc-5c9cec04853f"
      },
      "outputs": [
        {
          "output_type": "stream",
          "name": "stdout",
          "text": [
            "var1[0]:  H\n",
            "var2[1:5]:  ytho\n"
          ]
        }
      ],
      "source": [
        "var1 = 'Hello World!'\n",
        "var2 = \"Python Programming\"\n",
        "\n",
        "print (\"var1[0]: \", var1[0])\n",
        "print (\"var2[1:5]: \", var2[1:5])"
      ]
    },
    {
      "cell_type": "code",
      "source": [
        "#Updating Strings\n",
        "print (\"Updated String :- \", var1[:6] + 'Python')"
      ],
      "metadata": {
        "colab": {
          "base_uri": "https://localhost:8080/"
        },
        "id": "xo35g7c_91-a",
        "outputId": "bdbfd506-387b-4cd2-b1e3-ff8fad4f4c93"
      },
      "execution_count": null,
      "outputs": [
        {
          "output_type": "stream",
          "name": "stdout",
          "text": [
            "Updated String :-  Hello Python\n"
          ]
        }
      ]
    },
    {
      "cell_type": "code",
      "source": [
        "#String Formatting Operator\n",
        "print (\"My name is %s and weight is %d kg!\" % ('Zara', 21)) #%d for integer\n",
        "print (\"My name is %s and weight is %f kg!\" % ('Zara', 21)) #%f for float"
      ],
      "metadata": {
        "colab": {
          "base_uri": "https://localhost:8080/"
        },
        "id": "uPNaitM1-Kpx",
        "outputId": "b92fa1d5-a9eb-4748-9dd9-e77c174ead36"
      },
      "execution_count": null,
      "outputs": [
        {
          "output_type": "stream",
          "name": "stdout",
          "text": [
            "My name is Zara and weight is 21 kg!\n",
            "My name is Zara and weight is 21.000000 kg!\n"
          ]
        }
      ]
    },
    {
      "cell_type": "code",
      "source": [
        "#Triple Quotes: For multiline strings with tabs and newlines\n",
        "para_str = \"\"\"this is a long string that is made up of\n",
        "several lines and non-printable characters such as\n",
        "TAB ( \\t ) and NEWLINEs within the brackets [ \\n ], \n",
        "or just a NEWLINE within the variable.\n",
        "\"\"\"\n",
        "print (para_str)"
      ],
      "metadata": {
        "colab": {
          "base_uri": "https://localhost:8080/"
        },
        "id": "1nZdAzsw-UkS",
        "outputId": "ea85559a-b0a7-4a81-acb9-d00aeb4c7e4a"
      },
      "execution_count": null,
      "outputs": [
        {
          "output_type": "stream",
          "name": "stdout",
          "text": [
            "this is a long string that is made up of\n",
            "several lines and non-printable characters such as\n",
            "TAB ( \t ) and NEWLINEs within the brackets [ \n",
            " ], \n",
            "or just a NEWLINE within the variable.\n",
            "\n"
          ]
        }
      ]
    },
    {
      "cell_type": "code",
      "source": [
        "#Raw strings do not treat the backslash as a special character at all\n",
        "print ('C:\\\\nowhere')\n",
        "print (r'C:\\\\nowhere')"
      ],
      "metadata": {
        "colab": {
          "base_uri": "https://localhost:8080/"
        },
        "id": "UTU7CNPn_xLb",
        "outputId": "bb2aeecc-05af-45ca-c669-816e9021683c"
      },
      "execution_count": null,
      "outputs": [
        {
          "output_type": "stream",
          "name": "stdout",
          "text": [
            "C:\\nowhere\n",
            "C:\\\\nowhere\n"
          ]
        }
      ]
    },
    {
      "cell_type": "code",
      "source": [
        "#Capitalize the String\n",
        "str1 = \"python programming!!!\";\n",
        "print (\"str.capitalize() : \", str1.capitalize())"
      ],
      "metadata": {
        "colab": {
          "base_uri": "https://localhost:8080/"
        },
        "id": "R9IBd-JXAw7I",
        "outputId": "a22d1d4d-14f7-43c8-c707-88f2ad8638ca"
      },
      "execution_count": null,
      "outputs": [
        {
          "output_type": "stream",
          "name": "stdout",
          "text": [
            "str.capitalize() :  Python programming!!!\n"
          ]
        }
      ]
    },
    {
      "cell_type": "code",
      "source": [
        "#str.center(width[, fillchar]),  returns centered in a string of length width\n",
        "print (\"str.center(70) : \\n\", str1.center(70))\n",
        "print(\"\\n\")\n",
        "print (\"str.center(70,'*') : \\n\", str1.center(70,'*'))"
      ],
      "metadata": {
        "colab": {
          "base_uri": "https://localhost:8080/"
        },
        "id": "LyNzPXitByjd",
        "outputId": "014f7aa0-e81f-4822-d26d-432117e95157"
      },
      "execution_count": null,
      "outputs": [
        {
          "output_type": "stream",
          "name": "stdout",
          "text": [
            "str.center(70) : \n",
            "                         python programming!!!                         \n",
            "\n",
            "\n",
            "str.center(70,'*') : \n",
            " ************************python programming!!!*************************\n"
          ]
        }
      ]
    },
    {
      "cell_type": "code",
      "source": [
        "#str.count(sub, start= 0,end=len(string)): Counts how many times str occurs in string\n",
        "str1 = \"this is string\"\n",
        "sub = \"i\";\n",
        "print (\"str.count(sub) : \", str1.count(sub))\n",
        "print (\"str.count(sub,4) : \", str1.count(sub,4)) #Starting position added\n",
        "print (\"str.count(sub,4,8) : \", str1.count(sub,4,8)) ##Starting and end position added"
      ],
      "metadata": {
        "colab": {
          "base_uri": "https://localhost:8080/"
        },
        "id": "iCRKyGDSCtdU",
        "outputId": "780547d5-c738-4348-c58f-31fa260352f0"
      },
      "execution_count": null,
      "outputs": [
        {
          "output_type": "stream",
          "name": "stdout",
          "text": [
            "str.count(sub) :  3\n",
            "str.count(sub,4) :  2\n",
            "str.count(sub,4,8) :  1\n"
          ]
        }
      ]
    },
    {
      "cell_type": "code",
      "source": [
        "#str.endswith(suffix[, start[, end]]): Determines if string ends with some suffix\n",
        "str1 = \"this is string\"\n",
        "\n",
        "suffix = \"is\"\n",
        "print (\"The string ends with \\'is\\' : \", str1.endswith(suffix))\n",
        "\n",
        "suffix = \"ing\";\n",
        "print (\"The string ends with \\'ing\\' : \", str1.endswith(suffix))"
      ],
      "metadata": {
        "colab": {
          "base_uri": "https://localhost:8080/"
        },
        "id": "ECSi6InrEXGs",
        "outputId": "dabd492c-d1c6-423f-b4a9-0fc6a2714b5f"
      },
      "execution_count": null,
      "outputs": [
        {
          "output_type": "stream",
          "name": "stdout",
          "text": [
            "The string ends with 'is' :  False\n",
            "The string ends with 'ing' :  True\n"
          ]
        }
      ]
    },
    {
      "cell_type": "code",
      "source": [
        "#Determine if substring occurs in string or not\n",
        "#If it occurs returs the index otherwise returns -1\n",
        "# beg and ending index are optional\n",
        "str1 = \"this is string\"\n",
        "str2 = \"is\"\n",
        "\n",
        "print (\"Find the word \\'is\\' in the complete string:\", str1.find(str2))\n",
        "print (\"Find the word \\'is\\' starting at index 10:\", str1.find(str2, 10))\n",
        "print (\"Find the word \\'is\\' between index 3 and 10:\", str1.find(str2, 3,10))\n",
        "\n",
        "str3 = \"exam\"\n",
        "print (\"Find the word \\'exam\\' in the complete string:\",str1.find(str3))"
      ],
      "metadata": {
        "colab": {
          "base_uri": "https://localhost:8080/"
        },
        "id": "E8bz6IVwHAXa",
        "outputId": "5be2506d-a384-46d5-e2e5-1940f5d3be56"
      },
      "execution_count": null,
      "outputs": [
        {
          "output_type": "stream",
          "name": "stdout",
          "text": [
            "Find the word 'is' in the complete string: 2\n",
            "Find the word 'is' starting at index 10: -1\n",
            "Find the word 'is' between index 3 and 10: 5\n",
            "Find the word 'exam' in the complete string: -1\n"
          ]
        }
      ]
    },
    {
      "cell_type": "code",
      "source": [
        "#str.index(str, beg=0, end=len(string))\n",
        "#Same as find(), but raises an exception if str not found\n",
        "str1 = \"this is string\"\n",
        "str2 = \"is\"\n",
        "\n",
        "print (\"Find the index of \\'is\\' in the complete string:\", str1.index(str2))\n",
        "print('\\n')\n",
        "\n",
        "str3 = \"exam\"\n",
        "print (\"Find the index of \\'exam\\' in the complete string:\", str1.index(str3))"
      ],
      "metadata": {
        "colab": {
          "base_uri": "https://localhost:8080/",
          "height": 253
        },
        "id": "A2j8Ds7eJV65",
        "outputId": "12f509ef-3dc4-4b8e-b5ba-179f641a4268"
      },
      "execution_count": null,
      "outputs": [
        {
          "output_type": "stream",
          "name": "stdout",
          "text": [
            "Find the index of 'is' in the complete string: 2\n",
            "\n",
            "\n"
          ]
        },
        {
          "output_type": "error",
          "ename": "ValueError",
          "evalue": "ignored",
          "traceback": [
            "\u001b[0;31m---------------------------------------------------------------------------\u001b[0m",
            "\u001b[0;31mValueError\u001b[0m                                Traceback (most recent call last)",
            "\u001b[0;32m<ipython-input-11-a55df3bab1f9>\u001b[0m in \u001b[0;36m<module>\u001b[0;34m()\u001b[0m\n\u001b[1;32m      8\u001b[0m \u001b[0;34m\u001b[0m\u001b[0m\n\u001b[1;32m      9\u001b[0m \u001b[0mstr3\u001b[0m \u001b[0;34m=\u001b[0m \u001b[0;34m\"exam\"\u001b[0m\u001b[0;34m\u001b[0m\u001b[0;34m\u001b[0m\u001b[0m\n\u001b[0;32m---> 10\u001b[0;31m \u001b[0mprint\u001b[0m \u001b[0;34m(\u001b[0m\u001b[0;34m\"Find the index of \\'exam\\' in the complete string:\"\u001b[0m\u001b[0;34m,\u001b[0m \u001b[0mstr1\u001b[0m\u001b[0;34m.\u001b[0m\u001b[0mindex\u001b[0m\u001b[0;34m(\u001b[0m\u001b[0mstr3\u001b[0m\u001b[0;34m)\u001b[0m\u001b[0;34m)\u001b[0m\u001b[0;34m\u001b[0m\u001b[0;34m\u001b[0m\u001b[0m\n\u001b[0m",
            "\u001b[0;31mValueError\u001b[0m: substring not found"
          ]
        }
      ]
    },
    {
      "cell_type": "code",
      "source": [
        "#str.isalnum(): Returns true if string has all alphanumeric characters false otherwise\n",
        "str = \"this2009\";  # No space in this string\n",
        "print (str.isalnum())\n",
        "str = \"this is\";  # With space in this string\n",
        "print (str.isalnum())"
      ],
      "metadata": {
        "colab": {
          "base_uri": "https://localhost:8080/"
        },
        "id": "KrTJLMrIL2o_",
        "outputId": "5250a890-fe7a-4793-d446-83ed4669e07a"
      },
      "execution_count": null,
      "outputs": [
        {
          "output_type": "stream",
          "name": "stdout",
          "text": [
            "True\n",
            "False\n"
          ]
        }
      ]
    },
    {
      "cell_type": "code",
      "source": [
        "#Returns true if string has all alphabetic characters and false otherwise.\n",
        "str1 = \"this\";  # No space in this string\n",
        "str2 = \"this2009\";  # No space in this string\n",
        "str3 = \"this is\";  # With space in this string\n",
        "\n",
        "print (str1.isalpha())\n",
        "print (str2.isalpha())\n",
        "print (str3.isalpha())"
      ],
      "metadata": {
        "colab": {
          "base_uri": "https://localhost:8080/"
        },
        "id": "W-SyjMqSP245",
        "outputId": "fc5f0231-25e6-4d91-c51d-39f17c154f11"
      },
      "execution_count": null,
      "outputs": [
        {
          "output_type": "stream",
          "name": "stdout",
          "text": [
            "True\n",
            "False\n",
            "False\n"
          ]
        }
      ]
    },
    {
      "cell_type": "code",
      "source": [
        "#str.isdigit(): Returns true if string contains only digits and false otherwise\n",
        "str1 = \"123456\"  # Only digit in this string\n",
        "str2 = \"1b\";\n",
        "print (str1.isdigit())\n",
        "print (str2.isdigit())"
      ],
      "metadata": {
        "colab": {
          "base_uri": "https://localhost:8080/"
        },
        "id": "snFvv1d_QdgB",
        "outputId": "8f95ae04-cfac-4211-bdd3-81386954d0c3"
      },
      "execution_count": null,
      "outputs": [
        {
          "output_type": "stream",
          "name": "stdout",
          "text": [
            "True\n",
            "False\n"
          ]
        }
      ]
    },
    {
      "cell_type": "code",
      "source": [
        "#str.islower(): This method returns true if all cased characters in the string are lowercase and\n",
        "str1 = \"THIS is string\" \n",
        "print (str1.islower())\n",
        "str1 = \"this is string\" \n",
        "print (str1.islower())"
      ],
      "metadata": {
        "colab": {
          "base_uri": "https://localhost:8080/"
        },
        "id": "dwoP4rhGSWHh",
        "outputId": "6c7da660-87d4-4961-94dd-8704a93565b2"
      },
      "execution_count": null,
      "outputs": [
        {
          "output_type": "stream",
          "name": "stdout",
          "text": [
            "False\n",
            "True\n"
          ]
        }
      ]
    },
    {
      "cell_type": "code",
      "source": [
        "#str.isnumeric(): Returns true if string has all numbers and false otherwise.\n",
        "str1 = \"this2009\";  \n",
        "print (str1.isnumeric())\n",
        "\n",
        "str1 = \"23443434\";\n",
        "print (str1.isnumeric())"
      ],
      "metadata": {
        "colab": {
          "base_uri": "https://localhost:8080/"
        },
        "id": "jQpC84srSrln",
        "outputId": "5db6d46f-7663-4bef-9ce3-f7cf8465cb4a"
      },
      "execution_count": null,
      "outputs": [
        {
          "output_type": "stream",
          "name": "stdout",
          "text": [
            "False\n",
            "True\n"
          ]
        }
      ]
    },
    {
      "cell_type": "code",
      "source": [
        "print('一二三四五'.isdigit())\n",
        "print('一二三四五'.isnumeric())"
      ],
      "metadata": {
        "colab": {
          "base_uri": "https://localhost:8080/"
        },
        "id": "MEjnqXUAT_cg",
        "outputId": "adeb0000-0862-4387-9d65-728b028edda6"
      },
      "execution_count": null,
      "outputs": [
        {
          "output_type": "stream",
          "name": "stdout",
          "text": [
            "False\n",
            "True\n"
          ]
        }
      ]
    },
    {
      "cell_type": "code",
      "source": [
        "#Returns the length of the string\n",
        "str = \"this is\";\n",
        "print (\"Length of the string: \", len(str))"
      ],
      "metadata": {
        "colab": {
          "base_uri": "https://localhost:8080/"
        },
        "id": "grdGG_fzVka7",
        "outputId": "449a5c8d-0d2a-4287-9a57-6881f853fd3e"
      },
      "execution_count": null,
      "outputs": [
        {
          "output_type": "stream",
          "name": "stdout",
          "text": [
            "Length of the string:  7\n"
          ]
        }
      ]
    },
    {
      "cell_type": "code",
      "source": [
        "#Returns the max alphabetical character from the string str.\n",
        "str = \"this is a string\"\n",
        "print (\"Max character: \" + max(str))"
      ],
      "metadata": {
        "colab": {
          "base_uri": "https://localhost:8080/"
        },
        "id": "8EX0qRptWHT7",
        "outputId": "f61643c2-8332-4e25-921b-2e28a463a395"
      },
      "execution_count": null,
      "outputs": [
        {
          "output_type": "stream",
          "name": "stdout",
          "text": [
            "Max character: t\n"
          ]
        }
      ]
    },
    {
      "cell_type": "code",
      "source": [
        "#replace(old, new [, max]): Replaces all occurrences of old string with new or \n",
        "# at most max occurrences if max given.\n",
        "str = \"this is string\"\n",
        "print (str.replace(\"is\", \"was\"))\n",
        "\n",
        "str = \"this is string\"\n",
        "print (str.replace(\"is\", \"was\", 1)) #Replace max one time"
      ],
      "metadata": {
        "colab": {
          "base_uri": "https://localhost:8080/"
        },
        "id": "XvzsvW8kWK0A",
        "outputId": "6f778e7d-47fd-4da8-a4fb-9e548934f341"
      },
      "execution_count": null,
      "outputs": [
        {
          "output_type": "stream",
          "name": "stdout",
          "text": [
            "thwas was string\n",
            "thwas is string\n"
          ]
        }
      ]
    },
    {
      "cell_type": "code",
      "source": [
        "#Same as find(), but search backwards in string\n",
        "str1 = \"this is really\";\n",
        "str2 = \"is\";\n",
        "\n",
        "print (str1.rfind(str2)) #From backwards\n",
        "print (str1.find(str2)) #From starting"
      ],
      "metadata": {
        "colab": {
          "base_uri": "https://localhost:8080/"
        },
        "id": "PJEqLqYuWO_5",
        "outputId": "575ffedc-c87b-4927-989b-6f207cbd47f5"
      },
      "execution_count": null,
      "outputs": [
        {
          "output_type": "stream",
          "name": "stdout",
          "text": [
            "5\n",
            "2\n"
          ]
        }
      ]
    },
    {
      "cell_type": "code",
      "source": [
        "#Splits string according to delimiter str (space if not provided) and returns \n",
        "#list of substrings; split into substrings\n",
        "str1 = \"this is really\";\n",
        "print (str1.split(' ')) #Splitting on space\n",
        "print (str1.split()) #Default splitting on space\n",
        "print (str1.split('is')) #Splitting on substring 'is'"
      ],
      "metadata": {
        "colab": {
          "base_uri": "https://localhost:8080/"
        },
        "id": "q2gjYYn0X3oK",
        "outputId": "64749965-9829-4044-a58d-6c31b7d38945"
      },
      "execution_count": null,
      "outputs": [
        {
          "output_type": "stream",
          "name": "stdout",
          "text": [
            "['this', 'is', 'really']\n",
            "['this', 'is', 'really']\n",
            "['th', ' ', ' really']\n"
          ]
        }
      ]
    },
    {
      "cell_type": "code",
      "source": [
        "#splitlines() returns a list with all the lines in string\n",
        "str1 = \"Line1-a b c d e f\\nLine2- a b c\\n\\nLine4- a b c d\";\n",
        "print(str1)\n",
        "print (str1.splitlines( ))"
      ],
      "metadata": {
        "colab": {
          "base_uri": "https://localhost:8080/"
        },
        "id": "O6o5-vdSZfK1",
        "outputId": "78b29a33-bb9a-482c-a8f4-62591f9cb8ad"
      },
      "execution_count": null,
      "outputs": [
        {
          "output_type": "stream",
          "name": "stdout",
          "text": [
            "Line1-a b c d e f\n",
            "Line2- a b c\n",
            "\n",
            "Line4- a b c d\n",
            "['Line1-a b c d e f', 'Line2- a b c', '', 'Line4- a b c d']\n"
          ]
        }
      ]
    },
    {
      "cell_type": "code",
      "source": [
        "#str.startswith(str, beg=0,end=len(string))\n",
        "str1 = \"this is string example....wow!!!\";\n",
        "print (str1.startswith( 'this' ))\n",
        "print (str1.startswith( 'is', 2, 4 ))\n",
        "print (str1.startswith( 'this', 2, 4 ))"
      ],
      "metadata": {
        "colab": {
          "base_uri": "https://localhost:8080/"
        },
        "id": "-DZpT9Ofa5y1",
        "outputId": "864233f1-92b3-4330-fc6a-22331c40b760"
      },
      "execution_count": null,
      "outputs": [
        {
          "output_type": "stream",
          "name": "stdout",
          "text": [
            "True\n",
            "True\n",
            "False\n"
          ]
        }
      ]
    },
    {
      "cell_type": "code",
      "source": [
        "#str.strip([chars])\n",
        "str1 = \"       this is string example....wow!!!       \";\n",
        "print (str1.strip())\n",
        "\n",
        "str1 = \"0000000this is string example....wow!!!0000000\";\n",
        "print (str1.strip( '0' ))"
      ],
      "metadata": {
        "colab": {
          "base_uri": "https://localhost:8080/"
        },
        "id": "4X5gjgOVd_m0",
        "outputId": "eafdff57-2a1a-4dee-d15b-09c9face9ec7"
      },
      "execution_count": null,
      "outputs": [
        {
          "output_type": "stream",
          "name": "stdout",
          "text": [
            "this is string example....wow!!!\n",
            "this is string example....wow!!!\n"
          ]
        }
      ]
    },
    {
      "cell_type": "code",
      "source": [
        "#title() returns a copy of the string in which first characters of all the words are capitalized.\n",
        "str1 = \"this is string example....wow!!!\";\n",
        "print (str1.title())"
      ],
      "metadata": {
        "colab": {
          "base_uri": "https://localhost:8080/"
        },
        "id": "p-94ad18f1_A",
        "outputId": "718c9a07-f9d6-4cc3-8aa9-820a87bd8203"
      },
      "execution_count": null,
      "outputs": [
        {
          "output_type": "stream",
          "name": "stdout",
          "text": [
            "This Is String Example....Wow!!!\n"
          ]
        }
      ]
    },
    {
      "cell_type": "code",
      "source": [
        "#swapcase() returns a copy of the string in which all the case-based characters have had their case swapped.\n",
        "str1 = \"this is string EXAMPLE....WOW!!!\";\n",
        "print (str1.swapcase())"
      ],
      "metadata": {
        "colab": {
          "base_uri": "https://localhost:8080/"
        },
        "id": "WFBl0VxjhB9I",
        "outputId": "52f2472f-7da0-4892-c849-ad401ca98d3c"
      },
      "execution_count": null,
      "outputs": [
        {
          "output_type": "stream",
          "name": "stdout",
          "text": [
            "THIS IS STRING example....wow!!!\n"
          ]
        }
      ]
    },
    {
      "cell_type": "markdown",
      "source": [
        "Assignment\n",
        "String: \"Planes are fastest mode of transportation, India have many of the fastest plane in the world\"\n",
        "\n",
        "1. Check if each word in a string begins with a capital letter?\n",
        "2. Check if string begins with a capital letter?\n",
        "3. Check if a string contains a specific substring 'ae'\n",
        "4. Find the index of the first occurrence of word 'fastest' in the string\n",
        "5. Find the index of the second occurrence of word 'fastest' in the string\n",
        "6. Find the index of the word 'Train' in the string\n",
        "7. Count the number of times 'fastest' appears in the string\n",
        "8. Capitalize the first character of the string\n",
        "9. Search the index of 'fastest' after the word 'transportation'\n",
        "10. Find the number of words in the string\n",
        "11. find the number of parts of the string if we divide the string based on the word 'fastest'\n",
        "12. Reverse the string\n",
        "13. Replace the second instance of fastest with fast\n",
        "14. Does defining a string twice (associated with 2 different variable names) create one or two objects in memory?\n",
        "15. Remove vowels from a string\n",
        "16. find the first instance of fastest from last\n",
        "17. Write a Python program to reverse words in the given string above\n",
        "18. Write a Python program to count repeated words in the string\n",
        "\n",
        "str1 = \"P@#yn26at^&i5ve\"\n",
        "19. Count all letters, digits, and special symbols from a given string\n",
        "20. Remove special symbols, punctuation from a string"
      ],
      "metadata": {
        "id": "a19I8OrXwO25"
      }
    },
    {
      "cell_type": "code",
      "source": [
        ""
      ],
      "metadata": {
        "id": "tPFWTRmUhR-R"
      },
      "execution_count": null,
      "outputs": []
    }
  ]
}