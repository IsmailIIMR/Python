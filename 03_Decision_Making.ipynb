{
  "nbformat": 4,
  "nbformat_minor": 0,
  "metadata": {
    "colab": {
      "name": "03_Decision Making.ipynb",
      "provenance": []
    },
    "kernelspec": {
      "name": "python3",
      "display_name": "Python 3"
    },
    "language_info": {
      "name": "python"
    }
  },
  "cells": [
    {
      "cell_type": "markdown",
      "source": [
        "if expression"
      ],
      "metadata": {
        "id": "IhY3Bfrr7I4R"
      }
    },
    {
      "cell_type": "code",
      "execution_count": null,
      "metadata": {
        "colab": {
          "base_uri": "https://localhost:8080/"
        },
        "id": "7TPNL_6s3aZt",
        "outputId": "9da3e50b-b557-441d-de61-1019309c975f"
      },
      "outputs": [
        {
          "output_type": "stream",
          "name": "stdout",
          "text": [
            "outside the if\n"
          ]
        }
      ],
      "source": [
        "#Conditional Statement - If\n",
        "var1 = 100\n",
        "if var1 == 100:\n",
        "  print (\"1 - Got a true expression value\")\n",
        "  print (var1)\n",
        "\n",
        "#This line is not part of if statement\n",
        "print(\"outside the if\")\n",
        "\n"
      ]
    },
    {
      "cell_type": "markdown",
      "source": [
        "if...else statement"
      ],
      "metadata": {
        "id": "9p18-l-47SKr"
      }
    },
    {
      "cell_type": "code",
      "source": [
        "#Conditional Statement - If else\n",
        "var1 = 99\n",
        "if var1 == 100:\n",
        "   print (\"1 - Got a true expression value\")\n",
        "   print (var1)\n",
        "else:\n",
        "   print (\"1 - Got a false expression value\")\n",
        "   print (var1)\n",
        "\n",
        "print(\"Outside the if condition, it will be printed once if else is executed\")\n"
      ],
      "metadata": {
        "colab": {
          "base_uri": "https://localhost:8080/"
        },
        "id": "Tt8U0qqH4NCT",
        "outputId": "497b7b9c-776d-4313-8176-3e154298e5c5"
      },
      "execution_count": null,
      "outputs": [
        {
          "output_type": "stream",
          "name": "stdout",
          "text": [
            "1 - Got a false expression value\n",
            "99\n",
            "Outside the if condition, it will be printed once if else is executed\n"
          ]
        }
      ]
    },
    {
      "cell_type": "markdown",
      "source": [
        "The elif Statement"
      ],
      "metadata": {
        "id": "MrRJan5f7ani"
      }
    },
    {
      "cell_type": "code",
      "source": [
        "#Conditional Statement - elif\n",
        "var = 100\n",
        "if var == 200:\n",
        "   print (\"1 - Got a true expression value\")\n",
        "   print (var)\n",
        "elif var == 150:\n",
        "   print (\"2 - Got a true expression value\")\n",
        "   print (var)\n",
        "elif var == 100:\n",
        "   print (\"3 - Got a true expression value\")\n",
        "   print (var)\n",
        "else:\n",
        "   print (\"4 - Got a false expression value\")\n",
        "   print (var)\n",
        "\n",
        "print (\"Good bye!\")"
      ],
      "metadata": {
        "colab": {
          "base_uri": "https://localhost:8080/"
        },
        "id": "T_qpOTxP3jOi",
        "outputId": "0ec18385-0c74-410d-bd07-cc9df9df72f9"
      },
      "execution_count": null,
      "outputs": [
        {
          "output_type": "stream",
          "name": "stdout",
          "text": [
            "3 - Got a true expression value\n",
            "100\n",
            "Good bye!\n"
          ]
        }
      ]
    },
    {
      "cell_type": "code",
      "source": [
        "var = 100\n",
        "if var == 200:\n",
        "   print (var)\n",
        "elif var == 150:\n",
        "   print (var)\n",
        "elif var == 100:\n",
        "   print (var)\n",
        "else:\n",
        "   print (var)\n",
        "\n",
        "print (\"Good bye!\")"
      ],
      "metadata": {
        "id": "oKxcmhEWCvgV"
      },
      "execution_count": null,
      "outputs": []
    },
    {
      "cell_type": "code",
      "source": [
        "#Write a code for checking eligibility of a student to attend an exam based on his attendance\n",
        "#attendance greater 70 - Eligible\n",
        "#attendance between 50 to 70: Need medical certificate\n",
        "#attendance less than 50, not eligible\n",
        "#Ask a user t0 enter attendance and print the eligibility"
      ],
      "metadata": {
        "id": "BlT6NYgPDEvu"
      },
      "execution_count": null,
      "outputs": []
    },
    {
      "cell_type": "code",
      "source": [
        "#Conditional Statement - Nested If else\n",
        "var = 100\n",
        "if var < 200:\n",
        "   print (\"Expression value is less than 200\")\n",
        "   if var == 150:\n",
        "      print (\"Which is 150\")\n",
        "   elif var == 100:\n",
        "      print (\"Which is 100\")\n",
        "   elif var == 50:\n",
        "      print (\"Which is 50\")\n",
        "   elif var < 50:\n",
        "      print (\"Expression value is less than 50\")\n",
        "else:\n",
        "   print (\"Could not find true expression\")\n",
        "\n",
        "print (\"Good bye!\")"
      ],
      "metadata": {
        "colab": {
          "base_uri": "https://localhost:8080/"
        },
        "id": "lyDRtJ4Q6BW9",
        "outputId": "f6370395-935d-4f0c-af30-0ef31cf30c66"
      },
      "execution_count": null,
      "outputs": [
        {
          "output_type": "stream",
          "name": "stdout",
          "text": [
            "Could not find true expression\n",
            "Good bye!\n"
          ]
        }
      ]
    },
    {
      "cell_type": "markdown",
      "source": [
        "Assignment: Decision Making\n",
        "1. Write a program to check if the given number is even\n",
        "2. Write a program which will ask user cost price, selling price and quantity sold and prints what is profit/loss from that transaction\n",
        "3. Write a program to check if all the three input values from user are greater than 10\n",
        "4. Write a program to check if all the three input values are in increasing order or decreasing order\n",
        "5. Write a program to calculate BMI of a person (BMI = kg/ (m square) where kg is a person's weight in kilograms and m is their height in metres)\n",
        "\tless than 18.4: underweight, 18.4 - 24.9: healthy, 24.9 - 29.9: over weight, 29.9 - 34.9: severly over weight, greater than 39.9: obese\n",
        "6. Write a program to check whether the student can take an exam or not. Students will be allowed only if they have a medical certificate otherwise the attendance should be above 70\n",
        "7. Write a program to calculate electricity bill. The bill is calculated by checking the number of units cosumed . For first 50 units, the per unit cost will be 2.60. for units 50 to 100, the per unit cost will be 3.25 For units 100 and less than 200 units, the per unit cost will be 5.26 and for units above 200, cost will be 8.45.\n",
        "8. Write a program to select a ride according to user preference. The rides are of two types 1. Bike 2. Car\n",
        "\tFurther bikes and cars are divided into 2 subcategories 1. Scooter, 2. Scooty and 1. Sedan 2. SUV.\n",
        "\tFinally print the ride selected by the user\n"
      ],
      "metadata": {
        "id": "f68dUYuFYwPn"
      }
    },
    {
      "cell_type": "markdown",
      "source": [
        "Steps for Question 8\n",
        "\n",
        "Step 1: Ask user if he wants to book 1. bike or 2. car, take input 1 or 2\n",
        "\n",
        "Step 2: If user enters 1, ask if he wants to book 1. Scooter 2. Scooty, \n",
        "        If user enters 2, ask if he wants to book 1. Sedan 2. SUV\n",
        "\n",
        "Step 3: Print the vehicle booked by the user"
      ],
      "metadata": {
        "id": "DKNfar75GR1U"
      }
    },
    {
      "cell_type": "code",
      "source": [
        "studAttendance=float(input(\"Enter your attendance : \"))\n",
        "if studAttendance>70:\n",
        "    print(\"You are eligible to attend the exam\")\n",
        "elif studAttendance>50 and studAttendance<70:\n",
        "    print(\"Need medical certificate in order to attend the exam\")\n",
        "elif studAttendance<50:\n",
        "    print(\"You are not eligible to attend the exam\")"
      ],
      "metadata": {
        "id": "WwcdmbxUGun_",
        "colab": {
          "base_uri": "https://localhost:8080/"
        },
        "outputId": "0a7a6406-c4d5-49fc-f13d-6e8678888c23"
      },
      "execution_count": null,
      "outputs": [
        {
          "output_type": "stream",
          "name": "stdout",
          "text": [
            "Enter your attendance : 65\n",
            "Need medical certificate in order to attend the exam\n"
          ]
        }
      ]
    }
  ]
}