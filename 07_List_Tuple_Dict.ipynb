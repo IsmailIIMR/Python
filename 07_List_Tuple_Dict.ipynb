{
  "nbformat": 4,
  "nbformat_minor": 0,
  "metadata": {
    "colab": {
      "name": "07_List_Tuple_Dict.ipynb",
      "provenance": [],
      "collapsed_sections": []
    },
    "kernelspec": {
      "name": "python3",
      "display_name": "Python 3"
    },
    "language_info": {
      "name": "python"
    }
  },
  "cells": [
    {
      "cell_type": "markdown",
      "source": [
        "Lists"
      ],
      "metadata": {
        "id": "CjIpJszeWMCZ"
      }
    },
    {
      "cell_type": "code",
      "execution_count": null,
      "metadata": {
        "colab": {
          "base_uri": "https://localhost:8080/"
        },
        "id": "7gIHqDUFCJbX",
        "outputId": "ce78acb1-073e-4c69-fd48-6ad239ae1450"
      },
      "outputs": [
        {
          "output_type": "stream",
          "name": "stdout",
          "text": [
            "list1[0]:  phy\n",
            "list2[1:5]:  [2, 3, 4, 5]\n"
          ]
        }
      ],
      "source": [
        "#Accessing Values in Lists\n",
        "list1 = ['phy', 'Che', 1997, 2000]\n",
        "list2 = [1, 2, 3, 4, 5, 6, 7 ]\n",
        "\n",
        "print (\"list1[0]: \", list1[0])\n",
        "print (\"list2[1:5]: \", list2[1:5])"
      ]
    },
    {
      "cell_type": "code",
      "source": [
        "#Updating Lists\n",
        "print (\"Value available at index 2 : \")\n",
        "print (list1[2])\n",
        "\n",
        "list1[2] = 2001\n",
        "print (\"New value available at index 2 : \")\n",
        "print (list1[2])"
      ],
      "metadata": {
        "colab": {
          "base_uri": "https://localhost:8080/"
        },
        "id": "I79uigQuCfIt",
        "outputId": "ee1e2f80-12d3-4c63-b933-0cedbef47c23"
      },
      "execution_count": null,
      "outputs": [
        {
          "output_type": "stream",
          "name": "stdout",
          "text": [
            "Value available at index 2 : \n",
            "1997\n",
            "New value available at index 2 : \n",
            "2001\n"
          ]
        }
      ]
    },
    {
      "cell_type": "code",
      "source": [
        "#Indexing and Slicing\n",
        "print (list1)\n",
        "print (list1[1])\n",
        "print (list1[-1])\n",
        "print (list1[1:])"
      ],
      "metadata": {
        "colab": {
          "base_uri": "https://localhost:8080/"
        },
        "id": "dK26_OOkCj8i",
        "outputId": "571d825b-41d0-4bc5-a0f6-2ea65328ba98"
      },
      "execution_count": null,
      "outputs": [
        {
          "output_type": "stream",
          "name": "stdout",
          "text": [
            "['phy', 'Che', 2001, 2000]\n",
            "Che\n",
            "2000\n",
            "['Che', 2001, 2000]\n"
          ]
        }
      ]
    },
    {
      "cell_type": "code",
      "source": [
        "#This method returns the number of elements in the list\n",
        "len(list1)"
      ],
      "metadata": {
        "colab": {
          "base_uri": "https://localhost:8080/"
        },
        "id": "gIihnEcGEds8",
        "outputId": "15f1e3cd-fdf5-4853-ff98-e04ab4168651"
      },
      "execution_count": null,
      "outputs": [
        {
          "output_type": "execute_result",
          "data": {
            "text/plain": [
              "4"
            ]
          },
          "metadata": {},
          "execution_count": 4
        }
      ]
    },
    {
      "cell_type": "code",
      "source": [
        "#Concatenation\n",
        "print(list1+list2)"
      ],
      "metadata": {
        "colab": {
          "base_uri": "https://localhost:8080/"
        },
        "id": "bTjazlggFE-v",
        "outputId": "7a21bf98-8728-448d-8a71-ea458823f65e"
      },
      "execution_count": null,
      "outputs": [
        {
          "output_type": "stream",
          "name": "stdout",
          "text": [
            "['phy', 'Che', 2001, 2000, 1, 2, 3, 4, 5, 6, 7]\n"
          ]
        }
      ]
    },
    {
      "cell_type": "code",
      "source": [
        "#Repetition\n",
        "print(list1*2)"
      ],
      "metadata": {
        "colab": {
          "base_uri": "https://localhost:8080/"
        },
        "id": "hB8jy7SCGUlO",
        "outputId": "dc7046df-572b-4b7b-a70d-4bf831f29901"
      },
      "execution_count": null,
      "outputs": [
        {
          "output_type": "stream",
          "name": "stdout",
          "text": [
            "['phy', 'Che', 2001, 2000, 'phy', 'Che', 2001, 2000]\n"
          ]
        }
      ]
    },
    {
      "cell_type": "code",
      "source": [
        "#Membership\n",
        "print(\"2001 in list1: \", 2001 in list1)"
      ],
      "metadata": {
        "colab": {
          "base_uri": "https://localhost:8080/"
        },
        "id": "uRQUa8e2Gf6G",
        "outputId": "0878c034-284d-472e-ebb3-9f507be4d100"
      },
      "execution_count": null,
      "outputs": [
        {
          "output_type": "stream",
          "name": "stdout",
          "text": [
            "2001 in list1:  True\n"
          ]
        }
      ]
    },
    {
      "cell_type": "code",
      "source": [
        "#Iteration\n",
        "for i in list1:\n",
        "  print(i)"
      ],
      "metadata": {
        "colab": {
          "base_uri": "https://localhost:8080/"
        },
        "id": "YTh-0moxGpCv",
        "outputId": "17eb3e77-638c-48b1-bf5a-7a0dbcda6b60"
      },
      "execution_count": null,
      "outputs": [
        {
          "output_type": "stream",
          "name": "stdout",
          "text": [
            "phy\n",
            "Che\n",
            "2001\n",
            "2000\n"
          ]
        }
      ]
    },
    {
      "cell_type": "code",
      "source": [
        "#This method returns the elements from the list with maximum value\n",
        "print(list2)\n",
        "print(max(list2))\n",
        "\n",
        "list3 = ['xyz', 'zara', 'abc']\n",
        "print(list3)\n",
        "print(max(list3))"
      ],
      "metadata": {
        "colab": {
          "base_uri": "https://localhost:8080/"
        },
        "id": "SKI_gW7zG2yK",
        "outputId": "d48ee263-5979-4b04-ce0b-b20c9d448152"
      },
      "execution_count": null,
      "outputs": [
        {
          "output_type": "stream",
          "name": "stdout",
          "text": [
            "[1, 2, 3, 4, 5, 6, 7]\n",
            "7\n",
            "['xyz', 'zara', 'abc']\n",
            "zara\n"
          ]
        }
      ]
    },
    {
      "cell_type": "code",
      "source": [
        "#max is not supported between instances of 'int' and 'str'\n",
        "print(list1)\n",
        "print(max(list1))"
      ],
      "metadata": {
        "colab": {
          "base_uri": "https://localhost:8080/",
          "height": 218
        },
        "id": "EZFRNbvrHeHK",
        "outputId": "592fec9d-db69-4596-eb2f-f574348e0977"
      },
      "execution_count": null,
      "outputs": [
        {
          "output_type": "stream",
          "name": "stdout",
          "text": [
            "['phy', 'Che', 2001, 2000]\n"
          ]
        },
        {
          "output_type": "error",
          "ename": "TypeError",
          "evalue": "ignored",
          "traceback": [
            "\u001b[0;31m---------------------------------------------------------------------------\u001b[0m",
            "\u001b[0;31mTypeError\u001b[0m                                 Traceback (most recent call last)",
            "\u001b[0;32m<ipython-input-9-878158f0fe02>\u001b[0m in \u001b[0;36m<module>\u001b[0;34m()\u001b[0m\n\u001b[1;32m      1\u001b[0m \u001b[0;31m#max is not supported between instances of 'int' and 'str'\u001b[0m\u001b[0;34m\u001b[0m\u001b[0;34m\u001b[0m\u001b[0;34m\u001b[0m\u001b[0m\n\u001b[1;32m      2\u001b[0m \u001b[0mprint\u001b[0m\u001b[0;34m(\u001b[0m\u001b[0mlist1\u001b[0m\u001b[0;34m)\u001b[0m\u001b[0;34m\u001b[0m\u001b[0;34m\u001b[0m\u001b[0m\n\u001b[0;32m----> 3\u001b[0;31m \u001b[0mprint\u001b[0m\u001b[0;34m(\u001b[0m\u001b[0mmax\u001b[0m\u001b[0;34m(\u001b[0m\u001b[0mlist1\u001b[0m\u001b[0;34m)\u001b[0m\u001b[0;34m)\u001b[0m\u001b[0;34m\u001b[0m\u001b[0;34m\u001b[0m\u001b[0m\n\u001b[0m",
            "\u001b[0;31mTypeError\u001b[0m: '>' not supported between instances of 'int' and 'str'"
          ]
        }
      ]
    },
    {
      "cell_type": "code",
      "source": [
        "#Returns item from the list with min value\n",
        "print(min(list2))\n",
        "print(min(list3))"
      ],
      "metadata": {
        "colab": {
          "base_uri": "https://localhost:8080/"
        },
        "id": "zCi_N8HMISeJ",
        "outputId": "f7398992-6648-4c9b-cc9e-1314b72a72a0"
      },
      "execution_count": null,
      "outputs": [
        {
          "output_type": "stream",
          "name": "stdout",
          "text": [
            "1\n",
            "abc\n"
          ]
        }
      ]
    },
    {
      "cell_type": "code",
      "source": [
        "#appends a passed obj into the existing list\n",
        "list1 = ['phy', 'Che', 1997, 2000]\n",
        "print(list1)\n",
        "list1.append( 2009 )\n",
        "print(list1)"
      ],
      "metadata": {
        "colab": {
          "base_uri": "https://localhost:8080/"
        },
        "id": "JIXzs_IdI6h8",
        "outputId": "3910fb5f-eec9-411e-e1e2-2dd97909f9b3"
      },
      "execution_count": null,
      "outputs": [
        {
          "output_type": "stream",
          "name": "stdout",
          "text": [
            "['phy', 'Che', 1997, 2000]\n",
            "['phy', 'Che', 1997, 2000, 2009]\n"
          ]
        }
      ]
    },
    {
      "cell_type": "code",
      "source": [
        "#This method returns count of how many times obj occurs in list.\n",
        "print(list1)\n",
        "print(list1.count(2000))"
      ],
      "metadata": {
        "colab": {
          "base_uri": "https://localhost:8080/"
        },
        "id": "k3LMSncJJYtv",
        "outputId": "9f477246-5932-4a54-a2ca-b14e16425f8a"
      },
      "execution_count": null,
      "outputs": [
        {
          "output_type": "stream",
          "name": "stdout",
          "text": [
            "['phy', 'Che', 1997, 2000, 2009]\n",
            "1\n"
          ]
        }
      ]
    },
    {
      "cell_type": "code",
      "source": [
        "#Extend: add the content to existing list\n",
        "list1 = ['phy', 'Che', 1997, 2000]\n",
        "print(list1)\n",
        "list4 = ['math',2002];\n",
        "list1.extend(list4)\n",
        "print(list1)"
      ],
      "metadata": {
        "colab": {
          "base_uri": "https://localhost:8080/"
        },
        "id": "3GU8E61XKGTt",
        "outputId": "e68b54fd-b0b4-4deb-c26a-194e1dfc248b"
      },
      "execution_count": null,
      "outputs": [
        {
          "output_type": "stream",
          "name": "stdout",
          "text": [
            "['phy', 'Che', 1997, 2000]\n",
            "['phy', 'Che', 1997, 2000, 'math', 2002]\n"
          ]
        }
      ]
    },
    {
      "cell_type": "code",
      "source": [
        "#Append: add the content to existing list\n",
        "list1 = ['phy', 'Che', 1997, 2000]\n",
        "print(list1)\n",
        "list4 = ['math',2002]\n",
        "list1.append(list4)\n",
        "print(list1)"
      ],
      "metadata": {
        "colab": {
          "base_uri": "https://localhost:8080/"
        },
        "id": "oHICThOzKxKg",
        "outputId": "7f459a3e-a235-4c2b-caa8-dc5491dcfed3"
      },
      "execution_count": null,
      "outputs": [
        {
          "output_type": "stream",
          "name": "stdout",
          "text": [
            "['phy', 'Che', 1997, 2000]\n",
            "['phy', 'Che', 1997, 2000, ['math', 2002]]\n"
          ]
        }
      ]
    },
    {
      "cell_type": "code",
      "source": [
        "#This method returns index of the found object otherwise raise an exception\n",
        "print(list1)\n",
        "print(list1.index('phy'))\n",
        "print(list1.index('Che'))\n",
        "print(list1.index('sci')) #sci is not present in the list"
      ],
      "metadata": {
        "colab": {
          "base_uri": "https://localhost:8080/",
          "height": 253
        },
        "id": "XBe5Zx6QK82y",
        "outputId": "b1b914dd-978d-49f4-cc54-c426e12f382e"
      },
      "execution_count": null,
      "outputs": [
        {
          "output_type": "stream",
          "name": "stdout",
          "text": [
            "['phy', 'Che', 1997, 2000, ['math', 2002]]\n",
            "0\n",
            "1\n"
          ]
        },
        {
          "output_type": "error",
          "ename": "ValueError",
          "evalue": "ignored",
          "traceback": [
            "\u001b[0;31m---------------------------------------------------------------------------\u001b[0m",
            "\u001b[0;31mValueError\u001b[0m                                Traceback (most recent call last)",
            "\u001b[0;32m<ipython-input-16-d52e5501f03d>\u001b[0m in \u001b[0;36m<module>\u001b[0;34m()\u001b[0m\n\u001b[1;32m      3\u001b[0m \u001b[0mprint\u001b[0m\u001b[0;34m(\u001b[0m\u001b[0mlist1\u001b[0m\u001b[0;34m.\u001b[0m\u001b[0mindex\u001b[0m\u001b[0;34m(\u001b[0m\u001b[0;34m'phy'\u001b[0m\u001b[0;34m)\u001b[0m\u001b[0;34m)\u001b[0m\u001b[0;34m\u001b[0m\u001b[0;34m\u001b[0m\u001b[0m\n\u001b[1;32m      4\u001b[0m \u001b[0mprint\u001b[0m\u001b[0;34m(\u001b[0m\u001b[0mlist1\u001b[0m\u001b[0;34m.\u001b[0m\u001b[0mindex\u001b[0m\u001b[0;34m(\u001b[0m\u001b[0;34m'Che'\u001b[0m\u001b[0;34m)\u001b[0m\u001b[0;34m)\u001b[0m\u001b[0;34m\u001b[0m\u001b[0;34m\u001b[0m\u001b[0m\n\u001b[0;32m----> 5\u001b[0;31m \u001b[0mprint\u001b[0m\u001b[0;34m(\u001b[0m\u001b[0mlist1\u001b[0m\u001b[0;34m.\u001b[0m\u001b[0mindex\u001b[0m\u001b[0;34m(\u001b[0m\u001b[0;34m'sci'\u001b[0m\u001b[0;34m)\u001b[0m\u001b[0;34m)\u001b[0m \u001b[0;31m#sci is not present in the list\u001b[0m\u001b[0;34m\u001b[0m\u001b[0;34m\u001b[0m\u001b[0m\n\u001b[0m",
            "\u001b[0;31mValueError\u001b[0m: 'sci' is not in list"
          ]
        }
      ]
    },
    {
      "cell_type": "code",
      "source": [
        "#Python list method insert() inserts object obj into list at offset index\n",
        "print(list1)\n",
        "list1.insert( 3, 'Name')\n",
        "print(list1)"
      ],
      "metadata": {
        "colab": {
          "base_uri": "https://localhost:8080/"
        },
        "id": "JIqChPNtMVqx",
        "outputId": "4f48afc5-75cc-41e3-8ef6-32dab6d01fdd"
      },
      "execution_count": null,
      "outputs": [
        {
          "output_type": "stream",
          "name": "stdout",
          "text": [
            "['phy', 'Che', 1997, 2000, ['math', 2002]]\n",
            "['phy', 'Che', 1997, 'Name', 2000, ['math', 2002]]\n"
          ]
        }
      ]
    },
    {
      "cell_type": "code",
      "source": [
        "#Python list method pop() removes and returns last object or obj from the list\n",
        "print(list1)\n",
        "print(list1.pop()) #Removes and returns the last object\n",
        "print(list1)\n",
        "\n",
        "print(list1.pop(2)) #Removes and returns the object at index 2\n",
        "print(list1)"
      ],
      "metadata": {
        "colab": {
          "base_uri": "https://localhost:8080/"
        },
        "id": "eviFioOeNHQ7",
        "outputId": "df551bcd-8641-45f2-98af-79afd573fcac"
      },
      "execution_count": null,
      "outputs": [
        {
          "output_type": "stream",
          "name": "stdout",
          "text": [
            "['phy', 'Che', 1997, 'Name', 2000, ['math', 2002]]\n",
            "['math', 2002]\n",
            "['phy', 'Che', 1997, 'Name', 2000]\n",
            "1997\n",
            "['phy', 'Che', 'Name', 2000]\n"
          ]
        }
      ]
    },
    {
      "cell_type": "code",
      "source": [
        "#Python list method remove() searches for the given element in the list \n",
        "# and removes the first matching element\n",
        "print(list1)\n",
        "print(list1.remove(2000))\n",
        "print(list1)"
      ],
      "metadata": {
        "colab": {
          "base_uri": "https://localhost:8080/"
        },
        "id": "WWTBztaEN3n3",
        "outputId": "ab4e878d-09da-4ad8-9722-cd8ab6eb8a43"
      },
      "execution_count": null,
      "outputs": [
        {
          "output_type": "stream",
          "name": "stdout",
          "text": [
            "['phy', 'Che', 'Name', 2000]\n",
            "None\n",
            "['phy', 'Che', 'Name']\n"
          ]
        }
      ]
    },
    {
      "cell_type": "code",
      "source": [
        "#This method does not return any value but reverse the given object from the list\n",
        "print(list1)\n",
        "list1.reverse()\n",
        "print(list1)"
      ],
      "metadata": {
        "colab": {
          "base_uri": "https://localhost:8080/"
        },
        "id": "qBkBin7nOhdp",
        "outputId": "2b42d04d-cee7-43fe-ac8c-abab91b4874a"
      },
      "execution_count": null,
      "outputs": [
        {
          "output_type": "stream",
          "name": "stdout",
          "text": [
            "['phy', 'Che', 'Name']\n",
            "['Name', 'Che', 'phy']\n"
          ]
        }
      ]
    },
    {
      "cell_type": "code",
      "source": [
        "#Python list method sort() sorts objects of list\n",
        "print(list2)\n",
        "list2.sort()#Default sort will be asc order\n",
        "print(list2)\n",
        "list2.sort(reverse=True)#Reverse=True will sort desc order\n",
        "print(list2)"
      ],
      "metadata": {
        "colab": {
          "base_uri": "https://localhost:8080/"
        },
        "id": "dSAQDi5kOmX0",
        "outputId": "6c26760b-56be-4dc1-90b1-194c140ec6b7"
      },
      "execution_count": null,
      "outputs": [
        {
          "output_type": "stream",
          "name": "stdout",
          "text": [
            "[1, 2, 3, 4, 5, 6, 7]\n",
            "[1, 2, 3, 4, 5, 6, 7]\n",
            "[7, 6, 5, 4, 3, 2, 1]\n"
          ]
        }
      ]
    },
    {
      "cell_type": "code",
      "source": [
        "#Looping on list item\n",
        "for i in list2:\n",
        "  print(i,end=\" \")"
      ],
      "metadata": {
        "colab": {
          "base_uri": "https://localhost:8080/"
        },
        "id": "RZSOz65bPqum",
        "outputId": "daf31646-ad17-44ee-a8f1-894fc01c5a72"
      },
      "execution_count": null,
      "outputs": [
        {
          "output_type": "stream",
          "name": "stdout",
          "text": [
            "7 6 5 4 3 2 1 "
          ]
        }
      ]
    },
    {
      "cell_type": "code",
      "source": [
        "list1 = ['phy', 'Che', 1997, 2000]\n",
        "list2 = [1, 2, 3, 4, 5, 6, 7 ]\n",
        "print(list1+list2) #Concatenation\n",
        "print(list1*2) #Repetition\n",
        "print(\"2001 in list1: \", 2001 in list1) #Membership\n",
        "print(max(list2)) #This method returns the elements from the list with maximum value\n",
        "print(min(list2)) #Returns item from the list with min value\n",
        "list1.append( 2009 ) #appends a passed obj into the existing list\n",
        "print(list1)\n",
        "print(list1.count(2000)) #This method returns count of how many times obj occurs in list.\n",
        "list4 = ['math',2002]\n",
        "list1.extend(list4) #Extend: add the content to existing list\n",
        "print(list1)\n",
        "list4 = ['math',2002]\n",
        "list1.append(list4)\n",
        "print(list1)\n",
        "print(list1.index('phy')) #This method returns index of the found object otherwise raise an exception\n",
        "list1.insert( 3, 'Name') #inserts object obj into list at offset index\n",
        "print(list1)\n",
        "print(list1.pop()) #Removes and returns the last object\n",
        "print(list1)\n",
        "print(list1.remove(2000)) #searches for the given element in the list and removes the first matching element\n",
        "print(list1)\n",
        "list1.reverse() #This method does not return any value but reverse the given object from the list\n",
        "print(list1)\n",
        "list2.sort(reverse=True)#Reverse=True will sort desc order\n",
        "print(list2)"
      ],
      "metadata": {
        "id": "ot7er8PEfcTg"
      },
      "execution_count": null,
      "outputs": []
    },
    {
      "cell_type": "markdown",
      "source": [
        "#Python Tuples"
      ],
      "metadata": {
        "id": "C9810lTnU0Kh"
      }
    },
    {
      "cell_type": "code",
      "source": [
        "#Declaring tuples\n",
        "tup1 = ('phy', 'che', 1997, 2000)\n",
        "tup2 = (1, 2, 3, 4, 5 )\n",
        "tup3 = \"a\", \"b\", \"c\", \"d\"\n",
        "tup4 = tuple(list3)"
      ],
      "metadata": {
        "id": "sM95bo47QbP6"
      },
      "execution_count": null,
      "outputs": []
    },
    {
      "cell_type": "code",
      "source": [
        "print(type(tup1))\n",
        "print(type(tup2))\n",
        "print(type(tup3))\n",
        "print(type(tup4))"
      ],
      "metadata": {
        "colab": {
          "base_uri": "https://localhost:8080/"
        },
        "id": "hArlxfPsU6Qd",
        "outputId": "7c998731-7864-4d46-8fc3-09e03dcfd45e"
      },
      "execution_count": null,
      "outputs": [
        {
          "output_type": "stream",
          "name": "stdout",
          "text": [
            "<class 'tuple'>\n",
            "<class 'tuple'>\n",
            "<class 'tuple'>\n",
            "<class 'tuple'>\n"
          ]
        }
      ]
    },
    {
      "cell_type": "code",
      "source": [
        "print(tup1)\n",
        "print(tup2)\n",
        "print(tup3)\n",
        "print(tup4)"
      ],
      "metadata": {
        "colab": {
          "base_uri": "https://localhost:8080/"
        },
        "id": "T5VhQZWcVFwO",
        "outputId": "4307e25e-5870-4b05-b570-b3dc0fca7f7a"
      },
      "execution_count": null,
      "outputs": [
        {
          "output_type": "stream",
          "name": "stdout",
          "text": [
            "('phy', 'che', 1997, 2000)\n",
            "(1, 2, 3, 4, 5)\n",
            "('a', 'b', 'c', 'd')\n",
            "('xyz', 'zara', 'abc')\n"
          ]
        }
      ]
    },
    {
      "cell_type": "code",
      "source": [
        "#Slicing and indexing\n",
        "print(tup1[0])\n",
        "print(tup1[1:4])\n",
        "print(tup1[-1])"
      ],
      "metadata": {
        "colab": {
          "base_uri": "https://localhost:8080/"
        },
        "id": "tuhcpF1MVLjA",
        "outputId": "be25af7e-3ebf-44c1-de68-98688433bb4a"
      },
      "execution_count": null,
      "outputs": [
        {
          "output_type": "stream",
          "name": "stdout",
          "text": [
            "phy\n",
            "('che', 1997, 2000)\n",
            "2000\n"
          ]
        }
      ]
    },
    {
      "cell_type": "code",
      "source": [
        "#Return type of Values in Tuples\n",
        "print(type(tup1[0]))\n",
        "print(type(tup1[1:4]))"
      ],
      "metadata": {
        "colab": {
          "base_uri": "https://localhost:8080/"
        },
        "id": "0K5taxmuWXoi",
        "outputId": "13416e2d-3690-4ae2-edfe-5958ca2cf129"
      },
      "execution_count": null,
      "outputs": [
        {
          "output_type": "stream",
          "name": "stdout",
          "text": [
            "<class 'str'>\n",
            "<class 'tuple'>\n"
          ]
        }
      ]
    },
    {
      "cell_type": "code",
      "source": [
        "# Following action is valid for lists and not valid for tuples\n",
        "list1[2] = 100\n",
        "tup1[0] = 100"
      ],
      "metadata": {
        "colab": {
          "base_uri": "https://localhost:8080/",
          "height": 201
        },
        "id": "bUnh10jrWcS6",
        "outputId": "dc677cfc-1bdc-4273-be6f-73b35c59cdf7"
      },
      "execution_count": null,
      "outputs": [
        {
          "output_type": "error",
          "ename": "TypeError",
          "evalue": "ignored",
          "traceback": [
            "\u001b[0;31m---------------------------------------------------------------------------\u001b[0m",
            "\u001b[0;31mTypeError\u001b[0m                                 Traceback (most recent call last)",
            "\u001b[0;32m<ipython-input-28-f4c928c60bc4>\u001b[0m in \u001b[0;36m<module>\u001b[0;34m()\u001b[0m\n\u001b[1;32m      1\u001b[0m \u001b[0;31m# Following action is valid for lists and not valid for tuples\u001b[0m\u001b[0;34m\u001b[0m\u001b[0;34m\u001b[0m\u001b[0;34m\u001b[0m\u001b[0m\n\u001b[1;32m      2\u001b[0m \u001b[0mlist1\u001b[0m\u001b[0;34m[\u001b[0m\u001b[0;36m2\u001b[0m\u001b[0;34m]\u001b[0m \u001b[0;34m=\u001b[0m \u001b[0;36m100\u001b[0m\u001b[0;34m\u001b[0m\u001b[0;34m\u001b[0m\u001b[0m\n\u001b[0;32m----> 3\u001b[0;31m \u001b[0mtup1\u001b[0m\u001b[0;34m[\u001b[0m\u001b[0;36m0\u001b[0m\u001b[0;34m]\u001b[0m \u001b[0;34m=\u001b[0m \u001b[0;36m100\u001b[0m\u001b[0;34m\u001b[0m\u001b[0;34m\u001b[0m\u001b[0m\n\u001b[0m",
            "\u001b[0;31mTypeError\u001b[0m: 'tuple' object does not support item assignment"
          ]
        }
      ]
    },
    {
      "cell_type": "code",
      "source": [
        "# We can create a new tuple from existing tuples\n",
        "tup4 = tup1 + tup2\n",
        "print (tup4)"
      ],
      "metadata": {
        "colab": {
          "base_uri": "https://localhost:8080/"
        },
        "id": "BpYPd9aNWk9I",
        "outputId": "84ea179a-c0ad-412e-d729-2b655486f157"
      },
      "execution_count": null,
      "outputs": [
        {
          "output_type": "stream",
          "name": "stdout",
          "text": [
            "('phy', 'che', 1997, 2000, 1, 2, 3, 4, 5)\n"
          ]
        }
      ]
    },
    {
      "cell_type": "code",
      "source": [
        "#Delete complete Tuple\n",
        "#Removing individual tuple elements is not possible\n",
        "print(tup4)\n",
        "del tup4\n",
        "print (\"After deleting tup4: \")\n",
        "print (tup4);"
      ],
      "metadata": {
        "colab": {
          "base_uri": "https://localhost:8080/",
          "height": 235
        },
        "id": "XQe1H48-X_zQ",
        "outputId": "128e9a32-b27b-419d-ddb0-0e01c7ddecfe"
      },
      "execution_count": null,
      "outputs": [
        {
          "output_type": "stream",
          "name": "stdout",
          "text": [
            "('phy', 'che', 1997, 2000, 1, 2, 3, 4, 5)\n",
            "After deleting tup4: \n"
          ]
        },
        {
          "output_type": "error",
          "ename": "NameError",
          "evalue": "ignored",
          "traceback": [
            "\u001b[0;31m---------------------------------------------------------------------------\u001b[0m",
            "\u001b[0;31mNameError\u001b[0m                                 Traceback (most recent call last)",
            "\u001b[0;32m<ipython-input-30-d8363089229e>\u001b[0m in \u001b[0;36m<module>\u001b[0;34m()\u001b[0m\n\u001b[1;32m      4\u001b[0m \u001b[0;32mdel\u001b[0m \u001b[0mtup4\u001b[0m\u001b[0;34m\u001b[0m\u001b[0;34m\u001b[0m\u001b[0m\n\u001b[1;32m      5\u001b[0m \u001b[0mprint\u001b[0m \u001b[0;34m(\u001b[0m\u001b[0;34m\"After deleting tup4: \"\u001b[0m\u001b[0;34m)\u001b[0m\u001b[0;34m\u001b[0m\u001b[0;34m\u001b[0m\u001b[0m\n\u001b[0;32m----> 6\u001b[0;31m \u001b[0mprint\u001b[0m \u001b[0;34m(\u001b[0m\u001b[0mtup4\u001b[0m\u001b[0;34m)\u001b[0m\u001b[0;34m;\u001b[0m\u001b[0;34m\u001b[0m\u001b[0;34m\u001b[0m\u001b[0m\n\u001b[0m",
            "\u001b[0;31mNameError\u001b[0m: name 'tup4' is not defined"
          ]
        }
      ]
    },
    {
      "cell_type": "code",
      "source": [
        "#Indexing, Slicing\n",
        "print(tup3)\n",
        "print(tup3[2])\n",
        "print(tup3[-2])\n",
        "print(tup3[2:])"
      ],
      "metadata": {
        "colab": {
          "base_uri": "https://localhost:8080/"
        },
        "id": "yb42fK03YJLu",
        "outputId": "c593fd88-fa79-47c3-e380-163a6e768937"
      },
      "execution_count": null,
      "outputs": [
        {
          "output_type": "stream",
          "name": "stdout",
          "text": [
            "('a', 'b', 'c', 'd')\n",
            "c\n",
            "c\n",
            "('c', 'd')\n"
          ]
        }
      ]
    },
    {
      "cell_type": "markdown",
      "source": [
        "#Python - Dictionary"
      ],
      "metadata": {
        "id": "DK_B_Nlzd96P"
      }
    },
    {
      "cell_type": "code",
      "source": [
        "#Declaring and accessing Dictionary\n",
        "dict1 = {'Name': 'Zara', 'Age': 7, 'Class': 'First'}\n",
        "print (\"dict['Name']: \", dict1['Name'])\n",
        "print (\"dict['Age']: \", dict1['Age'])"
      ],
      "metadata": {
        "colab": {
          "base_uri": "https://localhost:8080/"
        },
        "id": "8EsdUdMrZxBM",
        "outputId": "fc9d72c4-7095-458d-c055-6e1280101038"
      },
      "execution_count": null,
      "outputs": [
        {
          "output_type": "stream",
          "name": "stdout",
          "text": [
            "dict['Name']:  Zara\n",
            "dict['Age']:  7\n"
          ]
        }
      ]
    },
    {
      "cell_type": "code",
      "source": [
        "#access a data item with a key, which is not part of the dictionary, we get an error\n",
        "print (\"dict1['Alice']: \", dict1['Alice'])"
      ],
      "metadata": {
        "colab": {
          "base_uri": "https://localhost:8080/",
          "height": 183
        },
        "id": "XvfSd9JNeCta",
        "outputId": "d1b1bb5c-ddc1-4729-b3c6-587f04bcba17"
      },
      "execution_count": null,
      "outputs": [
        {
          "output_type": "error",
          "ename": "KeyError",
          "evalue": "ignored",
          "traceback": [
            "\u001b[0;31m---------------------------------------------------------------------------\u001b[0m",
            "\u001b[0;31mKeyError\u001b[0m                                  Traceback (most recent call last)",
            "\u001b[0;32m<ipython-input-21-4eabe63d1984>\u001b[0m in \u001b[0;36m<module>\u001b[0;34m()\u001b[0m\n\u001b[1;32m      1\u001b[0m \u001b[0;31m#access a data item with a key, which is not part of the dictionary, we get an error\u001b[0m\u001b[0;34m\u001b[0m\u001b[0;34m\u001b[0m\u001b[0;34m\u001b[0m\u001b[0m\n\u001b[0;32m----> 2\u001b[0;31m \u001b[0mprint\u001b[0m \u001b[0;34m(\u001b[0m\u001b[0;34m\"dict['Alice']: \"\u001b[0m\u001b[0;34m,\u001b[0m \u001b[0mdict1\u001b[0m\u001b[0;34m[\u001b[0m\u001b[0;34m'Alice'\u001b[0m\u001b[0;34m]\u001b[0m\u001b[0;34m)\u001b[0m\u001b[0;34m\u001b[0m\u001b[0;34m\u001b[0m\u001b[0m\n\u001b[0m",
            "\u001b[0;31mKeyError\u001b[0m: 'Alice'"
          ]
        }
      ]
    },
    {
      "cell_type": "code",
      "source": [
        "#Type of object\n",
        "print(type(dict1))"
      ],
      "metadata": {
        "colab": {
          "base_uri": "https://localhost:8080/"
        },
        "id": "yLMppZIkeGa-",
        "outputId": "973c6cb7-c69f-4d0e-84a9-1881e04a2abe"
      },
      "execution_count": null,
      "outputs": [
        {
          "output_type": "stream",
          "name": "stdout",
          "text": [
            "<class 'dict'>\n"
          ]
        }
      ]
    },
    {
      "cell_type": "code",
      "source": [
        "#You can update a dictionary by adding a new entry or a key-value pair,\n",
        "# modifying an existing entry, or deleting an existing entry\n",
        "dict1['Age'] = 8 # update existing entry\n",
        "dict1['School'] = \"DPS School\"; # Add new entry\n",
        "\n",
        "print (dict1['Age'])\n",
        "print (dict1['School'])"
      ],
      "metadata": {
        "colab": {
          "base_uri": "https://localhost:8080/"
        },
        "id": "1y3ni8Pneyyh",
        "outputId": "8c028708-e98d-4e89-d351-d908fa47080c"
      },
      "execution_count": null,
      "outputs": [
        {
          "output_type": "stream",
          "name": "stdout",
          "text": [
            "8\n",
            "DPS School\n"
          ]
        }
      ]
    },
    {
      "cell_type": "code",
      "source": [
        "#You can either remove individual dictionary elements or clear the entire contents of a \n",
        "# dictionary. You can also delete entire dictionary in a single operation.\n",
        "dict1 = {'Name': 'Zara', 'Age': 7, 'Class': 'First'}\n",
        "print(dict1)\n",
        "del dict1['Name'] # remove entry with key 'Name'\n",
        "print(dict1)\n",
        "dict1.clear()     # remove all entries in dict\n",
        "print(dict1)"
      ],
      "metadata": {
        "colab": {
          "base_uri": "https://localhost:8080/"
        },
        "id": "IleBzL4WfY-T",
        "outputId": "f2cb03b3-1a85-4f3b-c380-2014c4db012f"
      },
      "execution_count": null,
      "outputs": [
        {
          "output_type": "stream",
          "name": "stdout",
          "text": [
            "{'Name': 'Zara', 'Age': 7, 'Class': 'First'}\n",
            "{'Age': 7, 'Class': 'First'}\n",
            "{}\n"
          ]
        }
      ]
    },
    {
      "cell_type": "code",
      "source": [
        "dict1 = {'Name': 'Zara', 'Age': 7, 'Class': 'First'}\n",
        "del dict1        # delete entire dictionary\n",
        "print(dict1)"
      ],
      "metadata": {
        "colab": {
          "base_uri": "https://localhost:8080/",
          "height": 201
        },
        "id": "F-oe9wXIffCg",
        "outputId": "eadea431-8507-4f8d-ab9b-59fec639d4c1"
      },
      "execution_count": null,
      "outputs": [
        {
          "output_type": "error",
          "ename": "NameError",
          "evalue": "ignored",
          "traceback": [
            "\u001b[0;31m---------------------------------------------------------------------------\u001b[0m",
            "\u001b[0;31mNameError\u001b[0m                                 Traceback (most recent call last)",
            "\u001b[0;32m<ipython-input-26-1b244a8baeef>\u001b[0m in \u001b[0;36m<module>\u001b[0;34m()\u001b[0m\n\u001b[1;32m      1\u001b[0m \u001b[0mdict1\u001b[0m \u001b[0;34m=\u001b[0m \u001b[0;34m{\u001b[0m\u001b[0;34m'Name'\u001b[0m\u001b[0;34m:\u001b[0m \u001b[0;34m'Zara'\u001b[0m\u001b[0;34m,\u001b[0m \u001b[0;34m'Age'\u001b[0m\u001b[0;34m:\u001b[0m \u001b[0;36m7\u001b[0m\u001b[0;34m,\u001b[0m \u001b[0;34m'Class'\u001b[0m\u001b[0;34m:\u001b[0m \u001b[0;34m'First'\u001b[0m\u001b[0;34m}\u001b[0m\u001b[0;34m\u001b[0m\u001b[0;34m\u001b[0m\u001b[0m\n\u001b[1;32m      2\u001b[0m \u001b[0;32mdel\u001b[0m \u001b[0mdict1\u001b[0m        \u001b[0;31m# delete entire dictionary\u001b[0m\u001b[0;34m\u001b[0m\u001b[0;34m\u001b[0m\u001b[0m\n\u001b[0;32m----> 3\u001b[0;31m \u001b[0mprint\u001b[0m\u001b[0;34m(\u001b[0m\u001b[0mdict1\u001b[0m\u001b[0;34m)\u001b[0m\u001b[0;34m\u001b[0m\u001b[0;34m\u001b[0m\u001b[0m\n\u001b[0m",
            "\u001b[0;31mNameError\u001b[0m: name 'dict1' is not defined"
          ]
        }
      ]
    },
    {
      "cell_type": "code",
      "source": [
        "#Built-in Dictionary Functions & Methods\n",
        "#len, type \n",
        "dict1 = {'Name': 'Zara', 'Age': 7, 'Class': 'First'}\n",
        "print(len(dict1))\n",
        "print(dict1)"
      ],
      "metadata": {
        "colab": {
          "base_uri": "https://localhost:8080/"
        },
        "id": "YpWePs8igtXH",
        "outputId": "5d39a3c8-4834-4099-a1e5-48a9950bcaf9"
      },
      "execution_count": null,
      "outputs": [
        {
          "output_type": "stream",
          "name": "stdout",
          "text": [
            "3\n",
            "{'Name': 'Zara', 'Age': 7, 'Class': 'First'}\n"
          ]
        }
      ]
    },
    {
      "cell_type": "code",
      "source": [
        "#Copy function\n",
        "dict2 = dict1.copy()\n",
        "print(dict2)\n",
        "print(id(dict1))\n",
        "print(id(dict2))"
      ],
      "metadata": {
        "colab": {
          "base_uri": "https://localhost:8080/"
        },
        "id": "lsU_uAtbgx7i",
        "outputId": "c2171f38-2cf5-4e1d-e81a-e9c0af9a0f16"
      },
      "execution_count": null,
      "outputs": [
        {
          "output_type": "stream",
          "name": "stdout",
          "text": [
            "{'Name': 'Zara', 'Age': 7, 'Class': 'First'}\n",
            "140497635718240\n",
            "140497635326144\n"
          ]
        }
      ]
    },
    {
      "cell_type": "code",
      "source": [
        "dict1['Age'] = 8\n",
        "print(dict1)\n",
        "print(dict2)"
      ],
      "metadata": {
        "colab": {
          "base_uri": "https://localhost:8080/"
        },
        "id": "NJhcNqXrippm",
        "outputId": "9444f571-f798-45ac-d310-1c42c85a3a57"
      },
      "execution_count": null,
      "outputs": [
        {
          "output_type": "stream",
          "name": "stdout",
          "text": [
            "{'Name': 'Zara', 'Age': 8, 'Class': 'First'}\n",
            "{'Name': 'Zara', 'Age': 7, 'Class': 'First'}\n"
          ]
        }
      ]
    },
    {
      "cell_type": "code",
      "source": [
        "#creates a new dictionary with keys from seq and values set to None\n",
        "seq = ('name', 'age', 'sex')\n",
        "dict1 = dict.fromkeys(seq)\n",
        "print(dict1)"
      ],
      "metadata": {
        "colab": {
          "base_uri": "https://localhost:8080/"
        },
        "id": "tKiyiWDIitG_",
        "outputId": "eaf68f2e-e38e-44dc-fe3a-d6bc43a36c89"
      },
      "execution_count": null,
      "outputs": [
        {
          "output_type": "stream",
          "name": "stdout",
          "text": [
            "{'name': None, 'age': None, 'sex': None}\n"
          ]
        }
      ]
    },
    {
      "cell_type": "code",
      "source": [
        "#creates a new dictionary with keys from seq and values 10\n",
        "seq = ('name', 'age', 'sex')\n",
        "dict1 = dict.fromkeys(seq,100)\n",
        "print(dict1)"
      ],
      "metadata": {
        "colab": {
          "base_uri": "https://localhost:8080/"
        },
        "id": "SbKjlnmJkyRY",
        "outputId": "86aba070-1c24-4188-d5c4-c69a25904baf"
      },
      "execution_count": null,
      "outputs": [
        {
          "output_type": "stream",
          "name": "stdout",
          "text": [
            "{'name': 100, 'age': 100, 'sex': 100}\n"
          ]
        }
      ]
    },
    {
      "cell_type": "code",
      "source": [
        "#This method return a value for the given key. If key is not available, \n",
        "#then returns default value None\n",
        "dict1 = {'Name': 'Zara', 'Age': 7, 'Class': 'First'}\n",
        "print(dict1.get('Age'))\n",
        "print(dict1.get('School'))\n",
        "print(dict1['School'])"
      ],
      "metadata": {
        "colab": {
          "base_uri": "https://localhost:8080/",
          "height": 235
        },
        "id": "DjldGKDpk7YM",
        "outputId": "f0ad9d7c-42b5-4ea1-a87e-18828743094c"
      },
      "execution_count": null,
      "outputs": [
        {
          "output_type": "stream",
          "name": "stdout",
          "text": [
            "7\n",
            "None\n"
          ]
        },
        {
          "output_type": "error",
          "ename": "KeyError",
          "evalue": "ignored",
          "traceback": [
            "\u001b[0;31m---------------------------------------------------------------------------\u001b[0m",
            "\u001b[0;31mKeyError\u001b[0m                                  Traceback (most recent call last)",
            "\u001b[0;32m<ipython-input-38-40ce8e7e240e>\u001b[0m in \u001b[0;36m<module>\u001b[0;34m()\u001b[0m\n\u001b[1;32m      4\u001b[0m \u001b[0mprint\u001b[0m\u001b[0;34m(\u001b[0m\u001b[0mdict1\u001b[0m\u001b[0;34m.\u001b[0m\u001b[0mget\u001b[0m\u001b[0;34m(\u001b[0m\u001b[0;34m'Age'\u001b[0m\u001b[0;34m)\u001b[0m\u001b[0;34m)\u001b[0m\u001b[0;34m\u001b[0m\u001b[0;34m\u001b[0m\u001b[0m\n\u001b[1;32m      5\u001b[0m \u001b[0mprint\u001b[0m\u001b[0;34m(\u001b[0m\u001b[0mdict1\u001b[0m\u001b[0;34m.\u001b[0m\u001b[0mget\u001b[0m\u001b[0;34m(\u001b[0m\u001b[0;34m'School'\u001b[0m\u001b[0;34m)\u001b[0m\u001b[0;34m)\u001b[0m\u001b[0;34m\u001b[0m\u001b[0;34m\u001b[0m\u001b[0m\n\u001b[0;32m----> 6\u001b[0;31m \u001b[0mprint\u001b[0m\u001b[0;34m(\u001b[0m\u001b[0mdict1\u001b[0m\u001b[0;34m[\u001b[0m\u001b[0;34m'School'\u001b[0m\u001b[0;34m]\u001b[0m\u001b[0;34m)\u001b[0m\u001b[0;34m\u001b[0m\u001b[0;34m\u001b[0m\u001b[0m\n\u001b[0m",
            "\u001b[0;31mKeyError\u001b[0m: 'School'"
          ]
        }
      ]
    },
    {
      "cell_type": "code",
      "source": [
        "#str: Produces a printable string representation of a dictionary\n",
        "print(str(dict1))\n",
        "print(type(str(dict1)))"
      ],
      "metadata": {
        "colab": {
          "base_uri": "https://localhost:8080/"
        },
        "id": "tYkHfm8XmR1j",
        "outputId": "fc7d012f-3fdb-4917-ef67-4915ac939e85"
      },
      "execution_count": null,
      "outputs": [
        {
          "output_type": "stream",
          "name": "stdout",
          "text": [
            "{'Name': 'Zara', 'Age': 7, 'Class': 'First'}\n",
            "<class 'str'>\n"
          ]
        }
      ]
    },
    {
      "cell_type": "code",
      "source": [
        "#returns a list of dict's (key, value) tuple pairs\n",
        "print(dict1.items())"
      ],
      "metadata": {
        "colab": {
          "base_uri": "https://localhost:8080/"
        },
        "id": "IVACODt0n6xK",
        "outputId": "d632c323-f7d5-4e30-b026-309930d6a73d"
      },
      "execution_count": null,
      "outputs": [
        {
          "output_type": "stream",
          "name": "stdout",
          "text": [
            "dict_items([('Name', 'Zara'), ('Age', 7), ('Class', 'First')])\n"
          ]
        }
      ]
    },
    {
      "cell_type": "code",
      "source": [
        "#keys() returns a list of all the available keys in the dictionary.\n",
        "dict1 = {'Name': 'Zara', 'Age': 7}\n",
        "print (dict1.keys())"
      ],
      "metadata": {
        "colab": {
          "base_uri": "https://localhost:8080/"
        },
        "id": "fnuKbMHAomzq",
        "outputId": "bd024c0a-5b14-46b6-f40c-8b0e560c56ac"
      },
      "execution_count": null,
      "outputs": [
        {
          "output_type": "stream",
          "name": "stdout",
          "text": [
            "dict_keys(['Name', 'Age'])\n"
          ]
        }
      ]
    },
    {
      "cell_type": "code",
      "source": [
        "#update() adds dictionary dict2's key-values pairs in to dict\n",
        "dict1 = {'Name': 'Zara', 'Age': 7}\n",
        "dict2 = {'Sex': 'female' }\n",
        "\n",
        "dict1.update(dict2)\n",
        "print (dict1)"
      ],
      "metadata": {
        "colab": {
          "base_uri": "https://localhost:8080/"
        },
        "id": "v2xtu0j2pFz5",
        "outputId": "d35060cd-c24b-443f-f7dd-2c67c95bc158"
      },
      "execution_count": null,
      "outputs": [
        {
          "output_type": "stream",
          "name": "stdout",
          "text": [
            "{'Name': 'Zara', 'Age': 7, 'Sex': 'female'}\n"
          ]
        }
      ]
    },
    {
      "cell_type": "code",
      "source": [
        "#values() returns a list of all the values available in a given dictionary\n",
        "dict1 = {'Name': 'Zara', 'Age': 7}\n",
        "print (dict1.values())\n",
        "print (type(dict1.values()))"
      ],
      "metadata": {
        "colab": {
          "base_uri": "https://localhost:8080/"
        },
        "id": "u_PCYUuqpqoU",
        "outputId": "6bd8067e-13ce-409d-a610-b5f07755b417"
      },
      "execution_count": null,
      "outputs": [
        {
          "output_type": "stream",
          "name": "stdout",
          "text": [
            "dict_values(['Zara', 7])\n",
            "<class 'dict_values'>\n"
          ]
        }
      ]
    },
    {
      "cell_type": "code",
      "source": [
        "list1 = [1,2,3,4]\n",
        "for i in list1:\n",
        "  print(i)"
      ],
      "metadata": {
        "colab": {
          "base_uri": "https://localhost:8080/"
        },
        "id": "M0IxB0VZqpHG",
        "outputId": "a34188f6-6192-443a-9621-d69afb75079d"
      },
      "execution_count": null,
      "outputs": [
        {
          "output_type": "stream",
          "name": "stdout",
          "text": [
            "1\n",
            "2\n",
            "3\n",
            "4\n"
          ]
        }
      ]
    },
    {
      "cell_type": "code",
      "source": [
        "#Write a for loop on dictionary items\n",
        "for item in dict1.items():\n",
        "  print(item)"
      ],
      "metadata": {
        "colab": {
          "base_uri": "https://localhost:8080/"
        },
        "id": "pBHJGzX9rcHJ",
        "outputId": "c6d02bff-8b69-45a4-b8d1-2d66a6635906"
      },
      "execution_count": null,
      "outputs": [
        {
          "output_type": "stream",
          "name": "stdout",
          "text": [
            "('Name', 'Zara')\n",
            "('Age', 7)\n"
          ]
        }
      ]
    },
    {
      "cell_type": "code",
      "source": [
        "#Using items to get the tuple and taking individual entries of tuple in two variables\n",
        "for k1,v1 in dict1.items():\n",
        "  print(k1,v1)"
      ],
      "metadata": {
        "colab": {
          "base_uri": "https://localhost:8080/"
        },
        "id": "g-2RT2oBrnOx",
        "outputId": "dc322d6b-0528-4faa-80e8-14b2f04c2164"
      },
      "execution_count": null,
      "outputs": [
        {
          "output_type": "stream",
          "name": "stdout",
          "text": [
            "Name Zara\n",
            "Age 7\n"
          ]
        }
      ]
    },
    {
      "cell_type": "code",
      "source": [
        "#Using dictionary in a loop\n",
        "for u in dict1:\n",
        "  print(u)"
      ],
      "metadata": {
        "colab": {
          "base_uri": "https://localhost:8080/"
        },
        "id": "3lrjUj7Xs9m0",
        "outputId": "f0ee66fe-4b79-47a6-d96f-6c3302c2d17a"
      },
      "execution_count": null,
      "outputs": [
        {
          "output_type": "stream",
          "name": "stdout",
          "text": [
            "Name\n",
            "Age\n"
          ]
        }
      ]
    },
    {
      "cell_type": "code",
      "source": [
        "#Using dictionary in a loop\n",
        "for u in dict1:\n",
        "  print(\"Key:\", u, \"and Value:\", dict1[u])"
      ],
      "metadata": {
        "colab": {
          "base_uri": "https://localhost:8080/"
        },
        "id": "13Vj9j1ltWi0",
        "outputId": "eb57461d-da29-48be-eeeb-2bd65f1691d2"
      },
      "execution_count": null,
      "outputs": [
        {
          "output_type": "stream",
          "name": "stdout",
          "text": [
            "Key: Name and Value: Zara\n",
            "Key: Age and Value: 7\n"
          ]
        }
      ]
    },
    {
      "cell_type": "code",
      "source": [
        "#Using dictionary keys in a loop\n",
        "for u in dict1.keys():\n",
        "  print(u)"
      ],
      "metadata": {
        "colab": {
          "base_uri": "https://localhost:8080/"
        },
        "id": "g4frTAk1tZ87",
        "outputId": "852ff727-6b46-4925-9a3c-2b3e5243f042"
      },
      "execution_count": null,
      "outputs": [
        {
          "output_type": "stream",
          "name": "stdout",
          "text": [
            "Name\n",
            "Age\n"
          ]
        }
      ]
    },
    {
      "cell_type": "code",
      "source": [
        "#Using dictionary values in a loop\n",
        "for i in dict1.values():\n",
        "  print(i)"
      ],
      "metadata": {
        "colab": {
          "base_uri": "https://localhost:8080/"
        },
        "id": "Jusw2pIJuQYB",
        "outputId": "9d31902e-40e2-4f4a-bfd8-02c36cd0439f"
      },
      "execution_count": null,
      "outputs": [
        {
          "output_type": "stream",
          "name": "stdout",
          "text": [
            "Zara\n",
            "7\n"
          ]
        }
      ]
    },
    {
      "cell_type": "code",
      "source": [
        "dict1 = {'Name': 'Zara', 'Age': 7, 'Class': 'First'} #Declaring Dictionary\n",
        "print (\"dict['Name']: \", dict1['Name']) #Accessing Dictionary\n",
        "print (\"dict1['Alice']: \", dict1['Alice']) #access a data item with a key, which is not part of the dictionary, we get an error\n",
        "print(type(dict1))\n",
        "dict1['Age'] = 8 # update existing entry\n",
        "dict1['School'] = \"DPS School\"; # Add new entry\n",
        "del dict1['Name'] # remove entry with key 'Name'\n",
        "print(dict1)\n",
        "dict1.clear()     # remove all entries in dict\n",
        "print(dict1)\n",
        "del dict1        # delete entire dictionary\n",
        "print(dict1)\n",
        "dict1 = {'Name': 'Zara', 'Age': 7, 'Class': 'First'}\n",
        "print(len(dict1))\n",
        "dict2 = dict1.copy() #Copy function\n",
        "print(dict2) \n",
        "seq = ('name', 'age', 'sex')\n",
        "dict1 = dict.fromkeys(seq,100)\n",
        "print(dict1)\n",
        "print(dict1.get('Age'))\n",
        "dict1 = {'Name': 'Zara', 'Age': 7}\n",
        "dict2 = {'Sex': 'female' }\n",
        "dict1.update(dict2)\n",
        "print(dict1)\n",
        "print(dict1.keys())\n",
        "print(dict1.values())\n",
        "print(dict1.items())\n",
        "\n",
        "for u in dict1: #Using the dict object directly\n",
        "  print(u)\n",
        "for u in dict1.keys(): #Using dict keys\n",
        "  print(u)\n",
        "for i in dict1.values(): #Using dict valuess\n",
        "  print(i)\n",
        "for item in dict1.items(): #Using dict items\n",
        "  print(item)\n",
        "for k1,v1 in dict1.items(): #Using dict items and taking key and values\n",
        "  print(k1,v1)"
      ],
      "metadata": {
        "id": "iWv7BGOVnun9"
      },
      "execution_count": null,
      "outputs": []
    },
    {
      "cell_type": "markdown",
      "source": [
        "Assignments\n",
        "\n",
        "List\n",
        "1. Write a program to perform following operations on list a. Create an empty list b. A list with elements c. Use * operator d. Reverse a list\n",
        "2. Write a Python program to count the number of words in a list where the length of string is two or more and first and last character of the word is same\n",
        "3. Write a program to find the sum and average of the list and print sorted list. Also find largest and smallest number\n",
        "\n",
        "Tuples\n",
        "1. Write a program to perform a. Create a tuple with different datatypes b. Create a tuple with integers c. Create a tuple by addidtion 9 to previous tuple d. count the occurrences of an element in a tuple e. perform slicing on the tuple\n",
        "2. Write a program to check whether the given tuple - (1,2,3,3,2,1) is a palindrome\n",
        "3. Create a tuple weather with these elements (1,0,0,0,1,1,0). If the element is 1 then value of rainy increases by 1 otherwise the value of sunny increases by 1. On the basis of the value of rainy and sunny predict the weather in 3 weeks from now.\n",
        "\n",
        "Dictionary\n",
        "1. Create a dictionary that consists of - name, class, subjects (subjest is a list of subjects) for a student\n",
        "2. Create a dictionary of students which constitutes id and details. details is a dictonay created above.\n",
        "3. Create dictionary of students as above with 4 entries of students. Remove duplicate entry as per ID\n",
        "4. Write a program to check for frequency of a value in dictionary values\n",
        "5. Write a program to return country code of various counties. {'India' : '0091','Australia' : '0025','Nepal' : '00977'}"
      ],
      "metadata": {
        "id": "KkVYqELOxXe6"
      }
    },
    {
      "cell_type": "markdown",
      "source": [
        "#Date and Time (optional)"
      ],
      "metadata": {
        "id": "Pf1_hDquWpQ1"
      }
    },
    {
      "cell_type": "code",
      "source": [
        "#Ticks\n",
        "import time;  # This is required to include time module.\n",
        "\n",
        "ticks = time.time()\n",
        "print (\"Number of ticks since 12:00am, January 1, 1970:\", ticks)"
      ],
      "metadata": {
        "colab": {
          "base_uri": "https://localhost:8080/"
        },
        "id": "UEdP4m16WqLT",
        "outputId": "71bf000b-e41d-421c-efd1-459ae660e626"
      },
      "execution_count": null,
      "outputs": [
        {
          "output_type": "stream",
          "name": "stdout",
          "text": [
            "Number of ticks since 12:00am, January 1, 1970: 1646136094.4742143\n"
          ]
        }
      ]
    },
    {
      "cell_type": "code",
      "source": [
        "#Getting current time\n",
        "localtime = time.localtime(time.time())\n",
        "print (\"Local current time :\", localtime)"
      ],
      "metadata": {
        "colab": {
          "base_uri": "https://localhost:8080/"
        },
        "id": "uGcOYwLPW21K",
        "outputId": "5757e1dc-f441-450b-f521-8e8bbd7d9a03"
      },
      "execution_count": null,
      "outputs": [
        {
          "output_type": "stream",
          "name": "stdout",
          "text": [
            "Local current time : time.struct_time(tm_year=2022, tm_mon=3, tm_mday=1, tm_hour=12, tm_min=2, tm_sec=4, tm_wday=1, tm_yday=60, tm_isdst=0)\n"
          ]
        }
      ]
    },
    {
      "cell_type": "code",
      "source": [
        "#Getting formatted time\n",
        "localtime = time.asctime( time.localtime(time.time()) )\n",
        "print (\"Local current time :\", localtime)"
      ],
      "metadata": {
        "colab": {
          "base_uri": "https://localhost:8080/"
        },
        "id": "dzafdUPLW7xx",
        "outputId": "22abe1e9-5160-4d59-a6d1-2201d2f1821f"
      },
      "execution_count": null,
      "outputs": [
        {
          "output_type": "stream",
          "name": "stdout",
          "text": [
            "Local current time : Tue Mar  1 12:04:30 2022\n"
          ]
        }
      ]
    },
    {
      "cell_type": "code",
      "source": [
        "#Getting calendar for a month\n",
        "import calendar\n",
        "\n",
        "cal = calendar.month(2008, 1)\n",
        "print (\"Here is the calendar:\")\n",
        "print (cal)"
      ],
      "metadata": {
        "colab": {
          "base_uri": "https://localhost:8080/"
        },
        "id": "gh4iUZGoXIOc",
        "outputId": "aede5a61-1434-4baf-f737-abe581be1447"
      },
      "execution_count": null,
      "outputs": [
        {
          "output_type": "stream",
          "name": "stdout",
          "text": [
            "Here is the calendar:\n",
            "    January 2008\n",
            "Mo Tu We Th Fr Sa Su\n",
            "    1  2  3  4  5  6\n",
            " 7  8  9 10 11 12 13\n",
            "14 15 16 17 18 19 20\n",
            "21 22 23 24 25 26 27\n",
            "28 29 30 31\n",
            "\n"
          ]
        }
      ]
    },
    {
      "cell_type": "markdown",
      "source": [
        "Assignment Time\n",
        "1. Write a program to check the current date and time\n",
        "2. Write a program to generate a random date and time from the given start and end dates\n"
      ],
      "metadata": {
        "id": "Hun4zFvCXnea"
      }
    },
    {
      "cell_type": "code",
      "source": [
        "import random #importing module\n",
        "import time\n",
        "\n",
        "def getRandomDate(startDate, endDate ): #defining function\n",
        "    print(\"Printing random date between\", startDate, \" and \", endDate)\n",
        "    randomGenerator = random.random()\n",
        "    dateFormat = '%m/%d/%Y'\n",
        "\n",
        "    startTime = time.mktime(time.strptime(startDate, dateFormat))\n",
        "    endTime = time.mktime(time.strptime(endDate, dateFormat))\n",
        "\n",
        "    randomTime = startTime + randomGenerator * (endTime - startTime)\n",
        "    randomDate = time.strftime(dateFormat, time.localtime(randomTime))\n",
        "    return randomDate\n",
        "#display result\n",
        "print (\"Random Date = \", getRandomDate(\"1/1/2016\", \"12/12/2018\"))"
      ],
      "metadata": {
        "colab": {
          "base_uri": "https://localhost:8080/"
        },
        "id": "kX8C7kB9qN8-",
        "outputId": "22a30e3a-ffe3-49c4-d8ef-b6860ece704b"
      },
      "execution_count": null,
      "outputs": [
        {
          "output_type": "stream",
          "name": "stdout",
          "text": [
            "Printing random date between 1/1/2016  and  12/12/2018\n",
            "Random Date =  04/15/2018\n"
          ]
        }
      ]
    },
    {
      "cell_type": "code",
      "source": [
        ""
      ],
      "metadata": {
        "id": "gItuZXPdqWUa"
      },
      "execution_count": null,
      "outputs": []
    }
  ]
}