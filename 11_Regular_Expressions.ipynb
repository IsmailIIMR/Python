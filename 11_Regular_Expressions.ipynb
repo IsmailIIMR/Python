{
  "nbformat": 4,
  "nbformat_minor": 0,
  "metadata": {
    "colab": {
      "name": "11_Regular Expressions.ipynb",
      "provenance": []
    },
    "kernelspec": {
      "name": "python3",
      "display_name": "Python 3"
    },
    "language_info": {
      "name": "python"
    }
  },
  "cells": [
    {
      "cell_type": "code",
      "execution_count": null,
      "metadata": {
        "colab": {
          "base_uri": "https://localhost:8080/"
        },
        "id": "2HSptbuvLWrl",
        "outputId": "01b5847b-20b3-435f-f62c-76b5f966a45d"
      },
      "outputs": [
        {
          "output_type": "stream",
          "name": "stdout",
          "text": [
            "<class 're.Match'>\n",
            "<re.Match object; span=(0, 26), match='Cats are smarter than dogs'>\n",
            "Cats are smarter than dogs\n"
          ]
        }
      ],
      "source": [
        "import re\n",
        "\n",
        "line = \"Cats are smarter than dogs\"\n",
        "matchObj = re.match( r'(.*) are (.*?) .*', line, re.M|re.I)\n",
        "\n",
        "print(type(matchObj))\n",
        "print(matchObj)\n",
        "print(matchObj.group())"
      ]
    },
    {
      "cell_type": "code",
      "source": [
        "if matchObj:\n",
        "   print (\"matchObj.group() : \", matchObj.group())\n",
        "   print (\"matchObj.group(1) : \", matchObj.group(1))\n",
        "   print (\"matchObj.group(2) : \", matchObj.group(2))\n",
        "else:\n",
        "   print (\"No match!!\")"
      ],
      "metadata": {
        "colab": {
          "base_uri": "https://localhost:8080/"
        },
        "id": "skVpo7JwL-WR",
        "outputId": "feb3fdca-1d6e-4d8d-eeaf-e48e5527042b"
      },
      "execution_count": null,
      "outputs": [
        {
          "output_type": "stream",
          "name": "stdout",
          "text": [
            "matchObj.group() :  Cats are smarter than dogs\n",
            "matchObj.group(1) :  Cats\n",
            "matchObj.group(2) :  smarter\n"
          ]
        }
      ]
    },
    {
      "cell_type": "code",
      "source": [
        "#Search: This function searches for first occurrence of RE pattern within string with optional flags\n",
        "#re.search(pattern, string, flags=0)\n",
        "import re\n",
        "\n",
        "line = \"Cats are smarter than dogs\";\n",
        "\n",
        "searchObj = re.search( r'(.*) are (.*?) .*', line, re.M|re.I)\n",
        "\n",
        "if searchObj:\n",
        "   print (\"searchObj.group() : \", searchObj.group())\n",
        "   print (\"searchObj.group(1) : \", searchObj.group(1))\n",
        "   print (\"searchObj.group(2) : \", searchObj.group(2))\n",
        "else:\n",
        "   print (\"Nothing found!!\")"
      ],
      "metadata": {
        "colab": {
          "base_uri": "https://localhost:8080/"
        },
        "id": "yzYEUz8pMjTu",
        "outputId": "6a332229-e617-4364-b6e5-e55e908de723"
      },
      "execution_count": null,
      "outputs": [
        {
          "output_type": "stream",
          "name": "stdout",
          "text": [
            "searchObj.group() :  Cats are smarter than dogs\n",
            "searchObj.group(1) :  Cats\n",
            "searchObj.group(2) :  smarter\n"
          ]
        }
      ]
    },
    {
      "cell_type": "code",
      "source": [
        "#Match vs Search: Match checks for a match only at the beginning of the string, while search checks for a match anywhere in the string\n",
        "import re\n",
        "\n",
        "line = \"Cats are smarter than dogs\";\n",
        "\n",
        "matchObj = re.match( r'dogs', line, re.M|re.I)\n",
        "if matchObj:\n",
        "   print (\"match --> matchObj.group() : \", matchObj.group())\n",
        "else:\n",
        "   print (\"match --> No match!!\")\n",
        "\n",
        "searchObj = re.search( r'dogs', line, re.M|re.I)\n",
        "if searchObj:\n",
        "   print (\"search --> searchObj.group() : \", searchObj.group())\n",
        "else:\n",
        "   print (\"search --> Nothing found!!\")"
      ],
      "metadata": {
        "colab": {
          "base_uri": "https://localhost:8080/"
        },
        "id": "MLx8ammsQf8H",
        "outputId": "66d241bc-26eb-4f93-faa0-a59982ae9af7"
      },
      "execution_count": null,
      "outputs": [
        {
          "output_type": "stream",
          "name": "stdout",
          "text": [
            "match --> No match!!\n",
            "search --> searchObj.group() :  dogs\n"
          ]
        }
      ]
    },
    {
      "cell_type": "code",
      "source": [
        "#Replace: re.sub(pattern, repl, string, max=0)\n",
        "#This method replaces all occurrences of the RE pattern in string with repl, substituting all occurrences unless max provided\n",
        "import re\n",
        "\n",
        "phone = \"2004-959-559 # This is Phone Number\"\n",
        "print (\"Phone Num : \", phone)\n",
        "\n",
        "# Delete Python-style comments\n",
        "num = re.sub(r'#.*$', \"\", phone)\n",
        "print (\"Phone Num : \", num)\n",
        "\n",
        "# Remove anything other than digits\n",
        "num = re.sub(r'\\D', \"\", phone)    \n",
        "print (\"Phone Num : \", num)"
      ],
      "metadata": {
        "colab": {
          "base_uri": "https://localhost:8080/"
        },
        "id": "GvWz7eEHSicG",
        "outputId": "1f5465a4-a8a4-4b2f-a002-9387eb5d038c"
      },
      "execution_count": null,
      "outputs": [
        {
          "output_type": "stream",
          "name": "stdout",
          "text": [
            "Phone Num :  2004-959-559 # This is Phone Number\n",
            "Phone Num :  2004-959-559 \n",
            "Phone Num :  2004959559\n"
          ]
        }
      ]
    },
    {
      "cell_type": "code",
      "source": [
        "import re\n",
        "\n",
        "phone = \"2004afs-959adfs-559 # This is Phone Number\"\n",
        "print (\"Phone Num : \", phone)\n",
        "\n",
        "# Remove anything other than digits\n",
        "num = re.sub(r'\\D', \"\", phone)    \n",
        "print (\"Phone Num : \", num)"
      ],
      "metadata": {
        "colab": {
          "base_uri": "https://localhost:8080/"
        },
        "id": "NJXgKFv8WwKE",
        "outputId": "c3bcd07a-1bea-4ce8-e63f-52576347d081"
      },
      "execution_count": null,
      "outputs": [
        {
          "output_type": "stream",
          "name": "stdout",
          "text": [
            "Phone Num :  2004afs-959adfs-559 # This is Phone Number\n",
            "Phone Num :  2004959559\n"
          ]
        }
      ]
    },
    {
      "cell_type": "code",
      "source": [
        "#Find all\n",
        "txt = \"The rain in Spain\"\n",
        "\n",
        "#Find all lower case characters alphabetically between \"a\" and \"m\":\n",
        "x = re.findall(\"[a-m]\", txt)\n",
        "print(x)"
      ],
      "metadata": {
        "colab": {
          "base_uri": "https://localhost:8080/"
        },
        "id": "V-ZnDJetXedd",
        "outputId": "640b397b-f5c0-40a2-c4db-07fafc985b45"
      },
      "execution_count": null,
      "outputs": [
        {
          "output_type": "stream",
          "name": "stdout",
          "text": [
            "['h', 'e', 'a', 'i', 'i', 'a', 'i']\n"
          ]
        }
      ]
    },
    {
      "cell_type": "markdown",
      "source": [
        "Literal characters"
      ],
      "metadata": {
        "id": "wXJwPaIYbEwM"
      }
    },
    {
      "cell_type": "code",
      "source": [
        "#Find all words rain:\n",
        "x = re.findall(\"rain\", txt)\n",
        "print(x)"
      ],
      "metadata": {
        "colab": {
          "base_uri": "https://localhost:8080/"
        },
        "id": "cacYXemYZGLk",
        "outputId": "0e849bbb-b642-4bb3-8d97-75eccc52e0d4"
      },
      "execution_count": null,
      "outputs": [
        {
          "output_type": "stream",
          "name": "stdout",
          "text": [
            "['rain']\n"
          ]
        }
      ]
    },
    {
      "cell_type": "markdown",
      "source": [
        "Character classes"
      ],
      "metadata": {
        "id": "iJEqemwnbLet"
      }
    },
    {
      "cell_type": "code",
      "source": [
        "#Match one character from 'P' or 'p' followed by 'ython' \n",
        "txt = \"Python is good language, I am learning python 3\"\n",
        "x = re.findall(\"[Pp]ython\", txt)\n",
        "print(x)"
      ],
      "metadata": {
        "colab": {
          "base_uri": "https://localhost:8080/"
        },
        "id": "CQ8Njlv3a8i6",
        "outputId": "930fb95f-5c75-461e-b55c-62d90d98193c"
      },
      "execution_count": null,
      "outputs": [
        {
          "output_type": "stream",
          "name": "stdout",
          "text": [
            "['Python', 'python']\n"
          ]
        }
      ]
    },
    {
      "cell_type": "code",
      "source": [
        "#Match words with 'Pytho' followed by one character from 'N' or 'n' \n",
        "x = re.findall(\"Pytho[Nn]\", txt)\n",
        "print(x)"
      ],
      "metadata": {
        "colab": {
          "base_uri": "https://localhost:8080/"
        },
        "id": "sBlGokFCbdKk",
        "outputId": "c2959a11-5b4e-41b4-92be-1189be676f42"
      },
      "execution_count": null,
      "outputs": [
        {
          "output_type": "stream",
          "name": "stdout",
          "text": [
            "['Python']\n"
          ]
        }
      ]
    },
    {
      "cell_type": "code",
      "source": [
        "#Match any character from aeiou in the given string \n",
        "x = re.findall(\"[aeiou]\", txt)\n",
        "print(x)"
      ],
      "metadata": {
        "colab": {
          "base_uri": "https://localhost:8080/"
        },
        "id": "Jqwvl3hdcDmy",
        "outputId": "71dac5a9-efdd-408f-dd74-5309db31be9b"
      },
      "execution_count": null,
      "outputs": [
        {
          "output_type": "stream",
          "name": "stdout",
          "text": [
            "['o', 'i', 'o', 'o', 'a', 'u', 'a', 'e', 'a', 'e', 'a', 'i', 'o']\n"
          ]
        }
      ]
    },
    {
      "cell_type": "code",
      "source": [
        "#[0-9] - Match any digit; same as [0123456789]\n",
        "txt = \"Python is good language, I am learning python 3.0\"\n",
        "print(re.findall(\"[0-9]\", txt))\n",
        "print(re.findall(\"[012]\", txt))"
      ],
      "metadata": {
        "colab": {
          "base_uri": "https://localhost:8080/"
        },
        "id": "BP6hBF24c_Sl",
        "outputId": "5dba882e-1f06-4770-9fc5-cdbffcf0c6a1"
      },
      "execution_count": null,
      "outputs": [
        {
          "output_type": "stream",
          "name": "stdout",
          "text": [
            "['3', '0']\n",
            "['0']\n"
          ]
        }
      ]
    },
    {
      "cell_type": "code",
      "source": [
        "#[A-Z] - Match any upperrcase ASCII letter\n",
        "print(re.findall(\"[A-Z]\", txt))\n",
        "#[a-z] - Match any lowercase ASCII letter"
      ],
      "metadata": {
        "colab": {
          "base_uri": "https://localhost:8080/"
        },
        "id": "5SqTkND_dMDx",
        "outputId": "e27200de-f7a3-44f2-855c-2fca0c917647"
      },
      "execution_count": null,
      "outputs": [
        {
          "output_type": "stream",
          "name": "stdout",
          "text": [
            "['P', 'I']\n"
          ]
        }
      ]
    },
    {
      "cell_type": "code",
      "source": [
        "#[a-zA-Z0-9] Match any of the above\n",
        "print(re.findall(\"[a-zA-Z0-9]\", txt))"
      ],
      "metadata": {
        "colab": {
          "base_uri": "https://localhost:8080/"
        },
        "id": "9i44TLNjf23Q",
        "outputId": "aa6e9efb-55ff-4a71-b330-1483a4963764"
      },
      "execution_count": null,
      "outputs": [
        {
          "output_type": "stream",
          "name": "stdout",
          "text": [
            "['P', 'y', 't', 'h', 'o', 'n', 'i', 's', 'g', 'o', 'o', 'd', 'l', 'a', 'n', 'g', 'u', 'a', 'g', 'e', 'I', 'a', 'm', 'l', 'e', 'a', 'r', 'n', 'i', 'n', 'g', 'p', 'y', 't', 'h', 'o', 'n', '3', '0']\n"
          ]
        }
      ]
    },
    {
      "cell_type": "code",
      "source": [
        "#[^  ] Match anything other than ...\n",
        "print(re.findall(\"[^a-z]\", txt)) #Match anything other than a lowercase a-z\n",
        "print(re.findall(\"[^a-zA-Z0-9]\", txt)) #Match anything other than a lowercase a-zA-Z0-9\n",
        "print(re.findall(\"[^a-zA-Z0-9 ]\", txt)) #Match anything other than a lowercase a-zA-Z0-9 and space"
      ],
      "metadata": {
        "colab": {
          "base_uri": "https://localhost:8080/"
        },
        "id": "xVm5D85qgtkL",
        "outputId": "44d189e3-2687-4c43-bf5b-d7ed5a66df91"
      },
      "execution_count": null,
      "outputs": [
        {
          "output_type": "stream",
          "name": "stdout",
          "text": [
            "['P', ' ', ' ', ' ', ',', ' ', 'I', ' ', ' ', ' ', ' ', '3', '.', '0']\n",
            "[' ', ' ', ' ', ',', ' ', ' ', ' ', ' ', ' ', '.']\n",
            "[',', '.']\n"
          ]
        }
      ]
    },
    {
      "cell_type": "markdown",
      "source": [
        "Special Character Classes"
      ],
      "metadata": {
        "id": "KclLJ7BQiewG"
      }
    },
    {
      "cell_type": "code",
      "source": [
        "# . Match any character except newline\n",
        "print(re.findall(\"Pyt...\", txt))"
      ],
      "metadata": {
        "colab": {
          "base_uri": "https://localhost:8080/"
        },
        "id": "FR_7l8rciBHM",
        "outputId": "12ea35d9-f4dd-4845-ff61-509c7af31310"
      },
      "execution_count": null,
      "outputs": [
        {
          "output_type": "stream",
          "name": "stdout",
          "text": [
            "['Python']\n"
          ]
        }
      ]
    },
    {
      "cell_type": "code",
      "source": [
        "#\t\\d - Match a digit, same as [0-9]\n",
        "print(re.findall(\"\\d\", txt))"
      ],
      "metadata": {
        "colab": {
          "base_uri": "https://localhost:8080/"
        },
        "id": "LiBfjxRkjiQN",
        "outputId": "5f7b50ff-5762-42bf-ce36-76dee41a1728"
      },
      "execution_count": null,
      "outputs": [
        {
          "output_type": "stream",
          "name": "stdout",
          "text": [
            "['3', '0']\n"
          ]
        }
      ]
    },
    {
      "cell_type": "code",
      "source": [
        "#\\D - Match a nondigit: same as [^0-9]\n",
        "print(re.findall(\"\\D\", txt))"
      ],
      "metadata": {
        "colab": {
          "base_uri": "https://localhost:8080/"
        },
        "id": "wHxmgY-Eju1Y",
        "outputId": "75a305ff-2659-4290-a7d9-e36174f91e46"
      },
      "execution_count": null,
      "outputs": [
        {
          "output_type": "stream",
          "name": "stdout",
          "text": [
            "['P', 'y', 't', 'h', 'o', 'n', ' ', 'i', 's', ' ', 'g', 'o', 'o', 'd', ' ', 'l', 'a', 'n', 'g', 'u', 'a', 'g', 'e', ',', ' ', 'I', ' ', 'a', 'm', ' ', 'l', 'e', 'a', 'r', 'n', 'i', 'n', 'g', ' ', 'p', 'y', 't', 'h', 'o', 'n', ' ', '.']\n"
          ]
        }
      ]
    },
    {
      "cell_type": "code",
      "source": [
        "#\\w Match a single word character, same as [A-Za-z0-9_]\n",
        "print(re.findall(\"\\w\", txt))"
      ],
      "metadata": {
        "colab": {
          "base_uri": "https://localhost:8080/"
        },
        "id": "zcDluqYskLeI",
        "outputId": "67874fa8-6069-4faf-8949-bbe9ca7fc8ff"
      },
      "execution_count": null,
      "outputs": [
        {
          "output_type": "stream",
          "name": "stdout",
          "text": [
            "['P', 'y', 't', 'h', 'o', 'n', 'i', 's', 'g', 'o', 'o', 'd', 'l', 'a', 'n', 'g', 'u', 'a', 'g', 'e', 'I', 'a', 'm', 'l', 'e', 'a', 'r', 'n', 'i', 'n', 'g', 'p', 'y', 't', 'h', 'o', 'n', '3', '0']\n"
          ]
        }
      ]
    },
    {
      "cell_type": "code",
      "source": [
        "#\\W Match a nonword character: [^A-Za-z0-9_]\n",
        "print(re.findall(\"\\W\", txt))"
      ],
      "metadata": {
        "colab": {
          "base_uri": "https://localhost:8080/"
        },
        "id": "NTqR7UBKkkN7",
        "outputId": "0574c75d-3ad1-4a64-8206-9a0683317edf"
      },
      "execution_count": null,
      "outputs": [
        {
          "output_type": "stream",
          "name": "stdout",
          "text": [
            "[' ', ' ', ' ', ',', ' ', ' ', ' ', ' ', ' ', '.']\n"
          ]
        }
      ]
    },
    {
      "cell_type": "markdown",
      "source": [
        "Repetition Cases"
      ],
      "metadata": {
        "id": "FpW26OFgmHak"
      }
    },
    {
      "cell_type": "code",
      "source": [
        "txt = \"parrot or parrotsss i like it\"\n",
        "# '?' - matches 0 or 1 time\n",
        "print(re.findall(\"parrots?\", txt)) #Here 's' is optional"
      ],
      "metadata": {
        "colab": {
          "base_uri": "https://localhost:8080/"
        },
        "id": "J9PpeQe6mCwd",
        "outputId": "35923dc3-0bfd-483f-c5f6-e571b90c237c"
      },
      "execution_count": null,
      "outputs": [
        {
          "output_type": "stream",
          "name": "stdout",
          "text": [
            "['parrot', 'parrots']\n"
          ]
        }
      ]
    },
    {
      "cell_type": "code",
      "source": [
        "# * - matches 0 or more times\n",
        "print(re.findall(\"parrots*\", txt)) #Here 's' can apper 0 or more times"
      ],
      "metadata": {
        "colab": {
          "base_uri": "https://localhost:8080/"
        },
        "id": "WhM-jJuxm4hC",
        "outputId": "6274b9c7-2de6-46d3-aa3b-9bb115911248"
      },
      "execution_count": null,
      "outputs": [
        {
          "output_type": "stream",
          "name": "stdout",
          "text": [
            "['parrot', 'parrotsss']\n"
          ]
        }
      ]
    },
    {
      "cell_type": "code",
      "source": [
        "# '+' - matches 1 or more times\n",
        "print(re.findall(\"parrots+\", txt)) #Here 's' can apper 1 or more times"
      ],
      "metadata": {
        "colab": {
          "base_uri": "https://localhost:8080/"
        },
        "id": "5dpfjD0BnzY4",
        "outputId": "8368166b-52cb-4844-e393-7e8847f156c3"
      },
      "execution_count": null,
      "outputs": [
        {
          "output_type": "stream",
          "name": "stdout",
          "text": [
            "['parrotsss']\n"
          ]
        }
      ]
    },
    {
      "cell_type": "code",
      "source": [
        "# \\w{2} Match exactly 2 character\n",
        "print(re.findall(\"s{2}\", txt))"
      ],
      "metadata": {
        "colab": {
          "base_uri": "https://localhost:8080/"
        },
        "id": "Ln9Au_T6oeo5",
        "outputId": "f5f09300-e3c3-4881-95db-6af1d31d7696"
      },
      "execution_count": null,
      "outputs": [
        {
          "output_type": "stream",
          "name": "stdout",
          "text": [
            "['ss']\n"
          ]
        }
      ]
    },
    {
      "cell_type": "code",
      "source": [
        "# \\w{2,} Match 2 or more times\n",
        "print(re.findall(\"s{2,}\", txt))"
      ],
      "metadata": {
        "colab": {
          "base_uri": "https://localhost:8080/"
        },
        "id": "iKgxc3GgpSmK",
        "outputId": "beb57627-28ce-4391-e320-651b604a7957"
      },
      "execution_count": null,
      "outputs": [
        {
          "output_type": "stream",
          "name": "stdout",
          "text": [
            "['sss']\n"
          ]
        }
      ]
    },
    {
      "cell_type": "code",
      "source": [
        "# \\w{2,4} Match 2,3 or 4 times\n",
        "print(re.findall(\"s{2,4}\", txt))"
      ],
      "metadata": {
        "colab": {
          "base_uri": "https://localhost:8080/"
        },
        "id": "c1uaHkQHpmcW",
        "outputId": "2d16cf9d-6c42-445e-b9d0-fd309dcc10c9"
      },
      "execution_count": null,
      "outputs": [
        {
          "output_type": "stream",
          "name": "stdout",
          "text": [
            "['sss']\n"
          ]
        }
      ]
    },
    {
      "cell_type": "markdown",
      "source": [
        "Grouping with Parentheses"
      ],
      "metadata": {
        "id": "a-IBiUlX1TQE"
      }
    },
    {
      "cell_type": "code",
      "source": [
        "# () Grouping\n",
        "txt = \"parrot or parrotsss i like it\"\n",
        "print(re.findall(\"(rot)+\", txt))"
      ],
      "metadata": {
        "colab": {
          "base_uri": "https://localhost:8080/"
        },
        "id": "ZCa2qpiKruBy",
        "outputId": "0638f575-f077-44d8-e0c7-fd1a6dab52cd"
      },
      "execution_count": null,
      "outputs": [
        {
          "output_type": "stream",
          "name": "stdout",
          "text": [
            "['rot', 'rot']\n"
          ]
        }
      ]
    },
    {
      "cell_type": "code",
      "source": [
        "# Checks for the pattern \"parrot \" multiple times\n",
        "print(re.findall(\"(parrot )+\", txt))"
      ],
      "metadata": {
        "colab": {
          "base_uri": "https://localhost:8080/"
        },
        "id": "_ORFwX2d3u4m",
        "outputId": "0b656e37-c62c-43c2-8bf4-7c15097041aa"
      },
      "execution_count": null,
      "outputs": [
        {
          "output_type": "stream",
          "name": "stdout",
          "text": [
            "['parrot ']\n"
          ]
        }
      ]
    },
    {
      "cell_type": "markdown",
      "source": [
        "Alternatives"
      ],
      "metadata": {
        "id": "emOkvQPB3sf7"
      }
    },
    {
      "cell_type": "code",
      "source": [
        "# Checks for the pattern \"parrotsss\" or \"parrot\n",
        "print(re.findall(\"parrotsss|parrot\", txt))"
      ],
      "metadata": {
        "colab": {
          "base_uri": "https://localhost:8080/"
        },
        "id": "VOllyyKb1729",
        "outputId": "b792d7b7-e1a2-4994-c18a-e744b0d97b9c"
      },
      "execution_count": null,
      "outputs": [
        {
          "output_type": "stream",
          "name": "stdout",
          "text": [
            "['parrot', 'parrotsss']\n"
          ]
        }
      ]
    },
    {
      "cell_type": "markdown",
      "source": [
        "Anchors"
      ],
      "metadata": {
        "id": "Sd0vA0jN5NMZ"
      }
    },
    {
      "cell_type": "code",
      "source": [
        "#^PYTHON - Match \"PYTHON\" at the start of a string or internal line\n",
        "txt = \"PYTHON is great language, I love python\"\n",
        "print(re.findall(\"^PYTHON\", txt))\n",
        "print(re.findall(\"^python\", txt))"
      ],
      "metadata": {
        "colab": {
          "base_uri": "https://localhost:8080/"
        },
        "id": "TXK23wXR4erh",
        "outputId": "a3fa6b58-85e6-46c7-f60d-85a485cd7150"
      },
      "execution_count": null,
      "outputs": [
        {
          "output_type": "stream",
          "name": "stdout",
          "text": [
            "['PYTHON']\n",
            "[]\n"
          ]
        }
      ]
    },
    {
      "cell_type": "code",
      "source": [
        "#python$ - Match \"python\" at the end of a string or internal line\n",
        "txt = \"Python is great language, I love python\"\n",
        "print(re.findall(\"python$\", txt))\n",
        "print(re.findall(\"PYTHON$\", txt))"
      ],
      "metadata": {
        "colab": {
          "base_uri": "https://localhost:8080/"
        },
        "id": "_eRa7KTv5kJT",
        "outputId": "7a783b33-ccbe-4998-d465-d27e382f668d"
      },
      "execution_count": null,
      "outputs": [
        {
          "output_type": "stream",
          "name": "stdout",
          "text": [
            "['python']\n",
            "[]\n"
          ]
        }
      ]
    },
    {
      "cell_type": "code",
      "source": [
        "txt = \"The pain in Spain\"\n",
        "\n",
        "#Check if \"pai\" is present at the beginning of a WORD:\n",
        "print(re.findall(r\"\\bpai\", txt))"
      ],
      "metadata": {
        "colab": {
          "base_uri": "https://localhost:8080/"
        },
        "id": "oeL7ZtiH5nuf",
        "outputId": "05642029-a8dd-46fa-daac-aa812023df28"
      },
      "execution_count": null,
      "outputs": [
        {
          "output_type": "stream",
          "name": "stdout",
          "text": [
            "['pai']\n"
          ]
        }
      ]
    },
    {
      "cell_type": "code",
      "source": [
        "#Check if \"pain\" is present at the end of a WORD:\n",
        "print(re.findall(r\"pain\\b\", txt))"
      ],
      "metadata": {
        "colab": {
          "base_uri": "https://localhost:8080/"
        },
        "id": "9m8HX_V37qx8",
        "outputId": "1b20f97c-49f2-472c-eca6-3b5b14d636df"
      },
      "execution_count": null,
      "outputs": [
        {
          "output_type": "stream",
          "name": "stdout",
          "text": [
            "['pain', 'pain']\n"
          ]
        }
      ]
    },
    {
      "cell_type": "code",
      "source": [
        "#word boundary: Check if \"pain\" is present at the start and end of a WORD:\n",
        "print(re.findall(r\"\\bpain\\b\", txt))"
      ],
      "metadata": {
        "colab": {
          "base_uri": "https://localhost:8080/"
        },
        "id": "82SspIJn74ay",
        "outputId": "862a36b3-f355-44ce-d042-e5f655c812b7"
      },
      "execution_count": null,
      "outputs": [
        {
          "output_type": "stream",
          "name": "stdout",
          "text": [
            "['pain']\n"
          ]
        }
      ]
    },
    {
      "cell_type": "code",
      "source": [
        "#Check if \"ain\" is present, but NOT at the beginning of a word:\n",
        "print(re.findall(r\"\\Bain\", txt)) #\"ain\"\n",
        "print(re.findall(r\"\\Bpain\", txt)) #\"pain\""
      ],
      "metadata": {
        "colab": {
          "base_uri": "https://localhost:8080/"
        },
        "id": "JNunRGAu8SxH",
        "outputId": "8a285ed7-e556-4404-8bf9-a75bb821472e"
      },
      "execution_count": null,
      "outputs": [
        {
          "output_type": "stream",
          "name": "stdout",
          "text": [
            "['ain', 'ain']\n",
            "['pain']\n"
          ]
        }
      ]
    },
    {
      "cell_type": "markdown",
      "source": [
        "Assignments\n",
        "1. Write a Python program to check that a string contains only a certain set of characters (in this case a-z, A-Z and 0-9).\n",
        "2. Write a Python program that matches a string that has an a followed by zero or more b's.\n",
        "3. Write a Python program that matches a string that has an a followed by one or more b's.\n",
        "4. Write a Python program that matches a string that has an a followed by zero or one 'b'.\n",
        "5. Write a Python program that matches a string that has an a followed by three 'b'.\n",
        "6. Write a Python program that matches a string that has an a followed by two to three 'b'.\n",
        "7. Write a Python program to find sequences of lowercase letters joined with a underscore.\n",
        "8. Write a Python program to find the sequences of one upper case letter followed by lower case letters.\n",
        "9. Write a Python program that matches a string that has an 'a' followed by anything, ending in 'b'.\n",
        "10. Write a Python program that matches a word at the beginning of a string.\n",
        "11. Write a Python program that matches a word containing 'z', not at the start or end of the word.\n",
        "12. Write a Python program to match a string that contains only upper and lowercase letters, numbers, and underscores.\n",
        "13. Write a Python program where a string will start with a specific number.\n",
        "14. Write a Python program to remove leading zeros from an IP address.\n",
        "15. Write a Python program to check for a number at the end of a string.\n"
      ],
      "metadata": {
        "id": "iYpU4GyjPlpV"
      }
    }
  ]
}