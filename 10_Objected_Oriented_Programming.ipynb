{
  "nbformat": 4,
  "nbformat_minor": 0,
  "metadata": {
    "colab": {
      "name": "10_Objected Oriented Programming.ipynb",
      "provenance": []
    },
    "kernelspec": {
      "name": "python3",
      "display_name": "Python 3"
    },
    "language_info": {
      "name": "python"
    }
  },
  "cells": [
    {
      "cell_type": "code",
      "execution_count": null,
      "metadata": {
        "id": "NNrfoOXUNPa2"
      },
      "outputs": [],
      "source": [
        "#Defining a class with initializer and functions\n",
        "class Employee:\n",
        "    'Common base class for all employees'\n",
        "\n",
        "    #Class variable: value is shared among all instances of this class\n",
        "    #Can be accessed as Employee.empCount from inside the class or outside the class\n",
        "    empCount = 0\n",
        "    \n",
        "    #class constructor or initialization method\n",
        "    def __init__(self, name, salary):\n",
        "        self.name = name\n",
        "        self.salary = salary\n",
        "        Employee.empCount += 1\n",
        "    \n",
        "    #like normal functions with the exception that the first argument to each method is self\n",
        "    #you do not need to include self when you call the methods\n",
        "    def displayCount(self):\n",
        "        print (\"Total Employee: \", Employee.empCount)\n",
        "\n",
        "    def displayEmployee(self):\n",
        "        print (\"Name : \", self.name,  \", Salary: \", self.salary)"
      ]
    },
    {
      "cell_type": "code",
      "source": [
        "# The class documentation string\n",
        "print(Employee.__doc__)"
      ],
      "metadata": {
        "colab": {
          "base_uri": "https://localhost:8080/"
        },
        "id": "X7sHf19LNnq7",
        "outputId": "58a6d546-a243-4dc2-8313-97fd1cfcdbbe"
      },
      "execution_count": null,
      "outputs": [
        {
          "output_type": "stream",
          "name": "stdout",
          "text": [
            "Common base class for all employees\n"
          ]
        }
      ]
    },
    {
      "cell_type": "code",
      "source": [
        "#Creating Instance Objects\n",
        "#call the class using class name and pass in whatever arguments its __init__ method accepts\n",
        "\n",
        "#This would create first object of Employee class\n",
        "emp1 = Employee(\"Zara\", 2000)\n",
        "\n",
        "#This would create second object of Employee class\n",
        "emp2 = Employee(\"Manni\", 5000)"
      ],
      "metadata": {
        "id": "XyDHz4_gQBpN"
      },
      "execution_count": null,
      "outputs": []
    },
    {
      "cell_type": "code",
      "source": [
        "#Accessing Attributes\n",
        "#access the object's attributes using the dot operator with object\n",
        "\n",
        "emp1.displayEmployee()\n",
        "emp2.displayEmployee()\n",
        "print (\"Total Employee %d\" % Employee.empCount)"
      ],
      "metadata": {
        "colab": {
          "base_uri": "https://localhost:8080/"
        },
        "id": "lDabqoCTSnFB",
        "outputId": "9d887308-ad5e-4c8a-a83b-4acacec65df2"
      },
      "execution_count": null,
      "outputs": [
        {
          "output_type": "stream",
          "name": "stdout",
          "text": [
            "Name :  Zara , Salary:  2000\n",
            "Name :  Manni , Salary:  5000\n",
            "Total Employee 2\n"
          ]
        }
      ]
    },
    {
      "cell_type": "code",
      "source": [
        "#You can add, remove, or modify attributes of classes and objects at any time\n",
        "emp1.age = 7  # Add an 'age' attribute\n",
        "emp1.age = 8  # Modify 'age' attribute\n",
        "print(emp1.age)\n",
        "\n",
        "del emp1.age  # Delete 'age' attribute"
      ],
      "metadata": {
        "colab": {
          "base_uri": "https://localhost:8080/"
        },
        "id": "epWjbqGJStJ1",
        "outputId": "7e0c45c2-779b-4f05-ea9b-a5edbfdb39f7"
      },
      "execution_count": null,
      "outputs": [
        {
          "output_type": "stream",
          "name": "stdout",
          "text": [
            "8\n"
          ]
        }
      ]
    },
    {
      "cell_type": "code",
      "source": [
        "#After deleting the attribute is no longer available\n",
        "print(emp1.age)"
      ],
      "metadata": {
        "colab": {
          "base_uri": "https://localhost:8080/",
          "height": 166
        },
        "id": "5yYNMiAkS80k",
        "outputId": "f9926acd-d7de-4632-fb64-d641afc2c53a"
      },
      "execution_count": null,
      "outputs": [
        {
          "output_type": "error",
          "ename": "AttributeError",
          "evalue": "ignored",
          "traceback": [
            "\u001b[0;31m---------------------------------------------------------------------------\u001b[0m",
            "\u001b[0;31mAttributeError\u001b[0m                            Traceback (most recent call last)",
            "\u001b[0;32m<ipython-input-11-36bbe3a1a417>\u001b[0m in \u001b[0;36m<module>\u001b[0;34m()\u001b[0m\n\u001b[0;32m----> 1\u001b[0;31m \u001b[0mprint\u001b[0m\u001b[0;34m(\u001b[0m\u001b[0memp1\u001b[0m\u001b[0;34m.\u001b[0m\u001b[0mage\u001b[0m\u001b[0;34m)\u001b[0m\u001b[0;34m\u001b[0m\u001b[0;34m\u001b[0m\u001b[0m\n\u001b[0m",
            "\u001b[0;31mAttributeError\u001b[0m: 'Employee' object has no attribute 'age'"
          ]
        }
      ]
    },
    {
      "cell_type": "code",
      "source": [
        "#Access attributes of a class\n",
        "print(hasattr(emp1, 'age'))    # Returns true if 'age' attribute exists\n",
        "\n",
        "setattr(emp1, 'age', 8) # Set attribute 'age' at 8\n",
        "\n",
        "print(getattr(emp1, 'age'))    # Returns value of 'age' attribute\n",
        "\n",
        "delattr(emp1, 'age')    # Delete attribute 'age'"
      ],
      "metadata": {
        "colab": {
          "base_uri": "https://localhost:8080/"
        },
        "id": "wHdX9ZpnS_cN",
        "outputId": "4d4c8317-6af5-4688-b872-c4c67ba8706e"
      },
      "execution_count": null,
      "outputs": [
        {
          "output_type": "stream",
          "name": "stdout",
          "text": [
            "False\n",
            "8\n"
          ]
        }
      ]
    },
    {
      "cell_type": "code",
      "source": [
        "#Built-In Class Attributes\n",
        "\n",
        "#Class documentation string or none, if undefined.\n",
        "print (\"Employee.__doc__:\", Employee.__doc__)\n",
        "\n",
        "#Class name\n",
        "print (\"Employee.__name__:\", Employee.__name__)\n",
        "\n",
        "#Module name in which the class is defined. This attribute is \"__main__\" in interactive mode.\n",
        "print (\"Employee.__module__:\", Employee.__module__)\n",
        "\n",
        "#Dictionary containing the class's namespace, lists everything persent in the class\n",
        "print (\"Employee.__dict__:\", Employee.__dict__)"
      ],
      "metadata": {
        "colab": {
          "base_uri": "https://localhost:8080/"
        },
        "id": "F43jWJmTYOss",
        "outputId": "399a7fb8-e5da-42cd-8a6a-d049509545ba"
      },
      "execution_count": null,
      "outputs": [
        {
          "output_type": "stream",
          "name": "stdout",
          "text": [
            "Employee.__doc__: Common base class for all employees\n",
            "Employee.__name__: Employee\n",
            "Employee.__module__: __main__\n",
            "Employee.__dict__: {'__module__': '__main__', '__doc__': 'Common base class for all employees', 'empCount': 2, '__init__': <function Employee.__init__ at 0x7fc1e0cb1950>, 'displayCount': <function Employee.displayCount at 0x7fc1e0cb18c0>, 'displayEmployee': <function Employee.displayEmployee at 0x7fc1e0cb17a0>, '__dict__': <attribute '__dict__' of 'Employee' objects>, '__weakref__': <attribute '__weakref__' of 'Employee' objects>}\n"
          ]
        }
      ]
    },
    {
      "cell_type": "code",
      "source": [
        "#Destroying Objects (Garbage Collection)\n",
        "class Point:\n",
        "\n",
        "   def __init__( self, x=0, y=0):\n",
        "      self.x = x\n",
        "      self.y = y\n",
        "   \n",
        "   def __del__(self):\n",
        "      class_name = self.__class__.__name__\n",
        "      print (class_name, \"destroyed\")\n",
        "\n",
        "#Creating an object of Point\n",
        "pt1 = Point()\n",
        "pt2 = pt1 #pt2 is refrencing to pt1, and not creating a new object\n",
        "pt3 = pt1\n",
        "\n",
        "print (id(pt1)) # prints the ids of the obejcts\n",
        "print (id(pt3))\n",
        "print (id(pt3)) \n",
        "\n",
        "del pt1 #Delets the first reference \n",
        "del pt2 #Delets the second reference\n",
        "del pt3 #Delets the reference and the object, will call distructor here"
      ],
      "metadata": {
        "colab": {
          "base_uri": "https://localhost:8080/"
        },
        "id": "WTZTJj0TYQFY",
        "outputId": "14fbe97d-5baf-4d42-a98c-d922b7b5ef1a"
      },
      "execution_count": null,
      "outputs": [
        {
          "output_type": "stream",
          "name": "stdout",
          "text": [
            "140470676795152\n",
            "140470676795152\n",
            "140470676795152\n",
            "Point destroyed\n"
          ]
        }
      ]
    },
    {
      "cell_type": "code",
      "source": [
        "#Class Inheritance\n",
        "class Parent:        # define parent class\n",
        "   parentAttr = 100\n",
        "   def __init__(self):\n",
        "      print (\"Calling parent constructor\")\n",
        "\n",
        "   def parentMethod(self):\n",
        "      print ('Calling parent method')\n",
        "\n",
        "   def setAttr(self, attr):\n",
        "      Parent.parentAttr = attr\n",
        "\n",
        "   def getAttr(self):\n",
        "      print (\"Parent attribute :\", Parent.parentAttr)\n",
        "\n",
        "class Child(Parent): # define child class, Child class can inherit from multiple classes\n",
        "   def __init__(self):\n",
        "      print (\"Calling child constructor\")\n",
        "\n",
        "   def childMethod(self):\n",
        "      print ('Calling child method')\n",
        "\n",
        "c = Child()          # instance of child\n",
        "p = Parent()         # instance of parent"
      ],
      "metadata": {
        "colab": {
          "base_uri": "https://localhost:8080/"
        },
        "id": "8QYEe4kubOqE",
        "outputId": "55484096-6fb7-4e13-c7a0-9be38f6752a7"
      },
      "execution_count": null,
      "outputs": [
        {
          "output_type": "stream",
          "name": "stdout",
          "text": [
            "Calling child constructor\n",
            "Calling parent constructor\n"
          ]
        }
      ]
    },
    {
      "cell_type": "code",
      "source": [
        "c.childMethod()      # child calls its method\n",
        "c.parentMethod()     # child calls parent's method\n",
        "c.setAttr(200)       # child again call parent's method\n",
        "c.getAttr()          # child again call parent's method"
      ],
      "metadata": {
        "colab": {
          "base_uri": "https://localhost:8080/"
        },
        "id": "3tL5jLFSgX-X",
        "outputId": "62e318cb-8054-46bc-a839-1ffc965ed074"
      },
      "execution_count": null,
      "outputs": [
        {
          "output_type": "stream",
          "name": "stdout",
          "text": [
            "Calling child method\n",
            "Calling parent method\n",
            "Parent attribute : 200\n"
          ]
        }
      ]
    },
    {
      "cell_type": "code",
      "source": [
        "p.parentMethod()    #Parent call its methond\n",
        "p.childMethod()     #Parent call child's method, which is not accessible"
      ],
      "metadata": {
        "colab": {
          "base_uri": "https://localhost:8080/",
          "height": 201
        },
        "id": "o0jfjrAkj4Zn",
        "outputId": "46130297-eb70-47e4-b97d-03ad391ab67f"
      },
      "execution_count": null,
      "outputs": [
        {
          "output_type": "stream",
          "name": "stdout",
          "text": [
            "Calling parent method\n"
          ]
        },
        {
          "output_type": "error",
          "ename": "AttributeError",
          "evalue": "ignored",
          "traceback": [
            "\u001b[0;31m---------------------------------------------------------------------------\u001b[0m",
            "\u001b[0;31mAttributeError\u001b[0m                            Traceback (most recent call last)",
            "\u001b[0;32m<ipython-input-25-e00694bd3bb5>\u001b[0m in \u001b[0;36m<module>\u001b[0;34m()\u001b[0m\n\u001b[1;32m      1\u001b[0m \u001b[0mp\u001b[0m\u001b[0;34m.\u001b[0m\u001b[0mparentMethod\u001b[0m\u001b[0;34m(\u001b[0m\u001b[0;34m)\u001b[0m    \u001b[0;31m#Parent call its methond\u001b[0m\u001b[0;34m\u001b[0m\u001b[0;34m\u001b[0m\u001b[0m\n\u001b[0;32m----> 2\u001b[0;31m \u001b[0mp\u001b[0m\u001b[0;34m.\u001b[0m\u001b[0mchildMethod\u001b[0m\u001b[0;34m(\u001b[0m\u001b[0;34m)\u001b[0m     \u001b[0;31m#Parent call child's method, which is not accessible\u001b[0m\u001b[0;34m\u001b[0m\u001b[0;34m\u001b[0m\u001b[0m\n\u001b[0m",
            "\u001b[0;31mAttributeError\u001b[0m: 'Parent' object has no attribute 'childMethod'"
          ]
        }
      ]
    },
    {
      "cell_type": "code",
      "source": [
        "#Overriding Methods\n",
        "class Parent:        # define parent class\n",
        "   def myMethod(self):\n",
        "      print ('Calling parent method')\n",
        "\n",
        "class Child(Parent): # define child class\n",
        "   def myMethod(self):\n",
        "      print ('Calling child method')\n",
        "\n",
        "c = Child()          # instance of child\n",
        "c.myMethod()         # child calls overridden method\n",
        "\n",
        "p = Parent()         # instance of parent\n",
        "p.myMethod()         # parent call its own method"
      ],
      "metadata": {
        "colab": {
          "base_uri": "https://localhost:8080/"
        },
        "id": "lnIQfya9j_VS",
        "outputId": "0311a49d-2948-41a3-d00d-aa03da372a86"
      },
      "execution_count": null,
      "outputs": [
        {
          "output_type": "stream",
          "name": "stdout",
          "text": [
            "Calling child method\n",
            "Calling parent method\n"
          ]
        }
      ]
    },
    {
      "cell_type": "code",
      "source": [
        "#issubclass() or isinstance() functions to check a relationships of two classes and instances\n",
        "print(\"Child is subclass of Parent: \", issubclass(Child, Parent))\n",
        "print(\"Parent is subclass of Child: \", issubclass(Parent, Child))"
      ],
      "metadata": {
        "colab": {
          "base_uri": "https://localhost:8080/"
        },
        "id": "JMoFK_IZmFhw",
        "outputId": "5f5c3e07-1cb1-4576-811c-9757f60bb15b"
      },
      "execution_count": null,
      "outputs": [
        {
          "output_type": "stream",
          "name": "stdout",
          "text": [
            "Child is subclass of Parent:  True\n",
            "Parent is subclass of Child:  False\n"
          ]
        }
      ]
    },
    {
      "cell_type": "code",
      "source": [
        "print(\"c is intance of Parent: \", isinstance(c, Parent))\n",
        "print(\"c is intance of Child: \", isinstance(c, Child))\n",
        "print(\"p is intance of Parent: \", isinstance(p, Parent))\n",
        "print(\"p is intance of Child: \", isinstance(p, Child))"
      ],
      "metadata": {
        "colab": {
          "base_uri": "https://localhost:8080/"
        },
        "id": "JHjKlGebmFlK",
        "outputId": "901c1e12-ca2f-4f26-c4a3-4b6107ef1d1a"
      },
      "execution_count": null,
      "outputs": [
        {
          "output_type": "stream",
          "name": "stdout",
          "text": [
            "c is intance of Parent:  True\n",
            "c is intance of Child:  True\n",
            "p is intance of Parent:  True\n",
            "p is intance of Child:  False\n"
          ]
        }
      ]
    },
    {
      "cell_type": "code",
      "source": [
        "#Creating class of name Vector\n",
        "class Vector:\n",
        "   def __init__(self, a, b):\n",
        "      self.a = a\n",
        "      self.b = b\n",
        "\n",
        "v1 = Vector(2,10) #Creating instance of vector class\n",
        "v2 = Vector(5,-2) #Creating instance of vector class\n",
        "\n",
        "#By default there is no operator '+' which takes user defined classess and do operation\n",
        "print (v1 + v2)"
      ],
      "metadata": {
        "colab": {
          "base_uri": "https://localhost:8080/",
          "height": 201
        },
        "id": "sJjjg_3SmLTv",
        "outputId": "8648fa50-e874-4e54-db84-c1d1efdf5b9f"
      },
      "execution_count": null,
      "outputs": [
        {
          "output_type": "error",
          "ename": "TypeError",
          "evalue": "ignored",
          "traceback": [
            "\u001b[0;31m---------------------------------------------------------------------------\u001b[0m",
            "\u001b[0;31mTypeError\u001b[0m                                 Traceback (most recent call last)",
            "\u001b[0;32m<ipython-input-37-1bb7bcc681c2>\u001b[0m in \u001b[0;36m<module>\u001b[0;34m()\u001b[0m\n\u001b[1;32m      9\u001b[0m \u001b[0;34m\u001b[0m\u001b[0m\n\u001b[1;32m     10\u001b[0m \u001b[0;31m#By default there is no operator '+' which takes user defined classess and do operation\u001b[0m\u001b[0;34m\u001b[0m\u001b[0;34m\u001b[0m\u001b[0;34m\u001b[0m\u001b[0m\n\u001b[0;32m---> 11\u001b[0;31m \u001b[0mprint\u001b[0m \u001b[0;34m(\u001b[0m\u001b[0mv1\u001b[0m \u001b[0;34m+\u001b[0m \u001b[0mv2\u001b[0m\u001b[0;34m)\u001b[0m\u001b[0;34m\u001b[0m\u001b[0;34m\u001b[0m\u001b[0m\n\u001b[0m",
            "\u001b[0;31mTypeError\u001b[0m: unsupported operand type(s) for +: 'Vector' and 'Vector'"
          ]
        }
      ]
    },
    {
      "cell_type": "code",
      "source": [
        "1 + 1"
      ],
      "metadata": {
        "colab": {
          "base_uri": "https://localhost:8080/"
        },
        "id": "1DO0UM1RvGP7",
        "outputId": "efa67b3a-8b73-425a-cf1d-6539a62f3e21"
      },
      "execution_count": null,
      "outputs": [
        {
          "output_type": "execute_result",
          "data": {
            "text/plain": [
              "2"
            ]
          },
          "metadata": {},
          "execution_count": 40
        }
      ]
    },
    {
      "cell_type": "code",
      "source": [
        "'str1' + 'str2'"
      ],
      "metadata": {
        "colab": {
          "base_uri": "https://localhost:8080/",
          "height": 35
        },
        "id": "AswDohtDvIXR",
        "outputId": "d03aaec1-9f0a-4523-db1c-9ef0fc71ad95"
      },
      "execution_count": null,
      "outputs": [
        {
          "output_type": "execute_result",
          "data": {
            "application/vnd.google.colaboratory.intrinsic+json": {
              "type": "string"
            },
            "text/plain": [
              "'str1str2'"
            ]
          },
          "metadata": {},
          "execution_count": 41
        }
      ]
    },
    {
      "cell_type": "code",
      "source": [
        "#Overloading Operators\n",
        "class Vector:\n",
        "   def __init__(self, a, b):\n",
        "      self.a = a\n",
        "      self.b = b\n",
        "\n",
        "   def __str__(self):\n",
        "      return 'Vector (%d, %d)' % (self.a, self.b)\n",
        "   \n",
        "   #For adding vectors we overload the functionality of '+' operator\n",
        "   def __add__(self,other):\n",
        "      return Vector(self.a + other.a, self.b + other.b)\n",
        "\n",
        "v1 = Vector(2,10)\n",
        "v2 = Vector(5,-2)\n",
        "print (v1 + v2)"
      ],
      "metadata": {
        "colab": {
          "base_uri": "https://localhost:8080/"
        },
        "id": "xaVAU6wsrzfW",
        "outputId": "510a91f2-0a33-4fbf-ecf6-20f88dca2e8c"
      },
      "execution_count": null,
      "outputs": [
        {
          "output_type": "stream",
          "name": "stdout",
          "text": [
            "Vector (7, 8)\n"
          ]
        }
      ]
    },
    {
      "cell_type": "code",
      "source": [
        "#Data hiding\n",
        "class JustCounter:\n",
        "   __secretCount = 0\n",
        "  \n",
        "   def count(self):\n",
        "      self.__secretCount += 1\n",
        "      print (self.__secretCount)\n",
        "\n",
        "counter = JustCounter()\n",
        "counter.count()\n",
        "counter.count()\n",
        "print (counter.__secretCount)"
      ],
      "metadata": {
        "colab": {
          "base_uri": "https://localhost:8080/"
        },
        "id": "kzxIE09bs5sR",
        "outputId": "e28c29fd-5a2a-4673-9b6b-656ba2920e94"
      },
      "execution_count": null,
      "outputs": [
        {
          "output_type": "stream",
          "name": "stdout",
          "text": [
            "1\n",
            "2\n",
            "2\n"
          ]
        }
      ]
    },
    {
      "cell_type": "markdown",
      "source": [
        "Assignments: Object oriented programming\n",
        "\n",
        "1. Write a program to create a class with the name Student and perform the following tasks - 1. Declare a variable grade, 2. Create an object of class student\n",
        "2. Write a program to create a class Vehicle and perform the following tasks - 1. Create an init method with arguments max_speed and mileage 2. Create an object of class Vehicle and pass max speed and mileage 3. Print the values of max_speed and mileage by using the object created.\n",
        "3. Write a program to create a class Parrot and perform the following tasks - 1. Create a class variable parrot_count, 2. Create a init method that has instance variables - name and age, 3. Crete instance of class Parrot by passing arguments 4. Print Class variable, 5. Print instance variable\n",
        "4. Write a program to create a class IOString which consists of a constructor that gives a default value to variable str1. Next create a menthod which will get the input from the user. Create another method which will print the string in upper case. Create an object and call these methods to get everything implemented\n",
        "5. Write a program to create a Employee class with class variable employee_count. Increase this class variable when ever we create a new object using init function and decrease this class variable when ever we delete the employee object using distructor\n",
        "6. Write a program to implement inheritance by creating Parent class Vehicle as above. Then create a chile class Bus which inherits Class Vehicle which has attribute Number_of_Tyre. Finally create an instance of class Bus by passing values for max_speed, mileage and number_of_Tyre (Hint: use super to call parent init function from child init function)\n",
        "7. Write a program to create a class Computer with following variables and methods - 1. Private variable name costPrice 2. Create a private function changeCostPrice that prints a costPrice 3. Create a function sellPrice that prints the selling price as costPrice+10% 4. Create an object for the class and call all the methods\n",
        "8. What is class, Object, Class variable, Instance Variable, Self, Inheritance, Super, Private Attributes, Encapsulation, Special function, Abstraction, Polymorphism, Method Overloading, Operator overloading\n"
      ],
      "metadata": {
        "id": "XdwyRU3c4Uxj"
      }
    },
    {
      "cell_type": "code",
      "source": [
        ""
      ],
      "metadata": {
        "id": "0uIjznoqkJRg"
      },
      "execution_count": null,
      "outputs": []
    }
  ]
}