{
  "nbformat": 4,
  "nbformat_minor": 0,
  "metadata": {
    "colab": {
      "name": "05_Numbers.ipynb",
      "provenance": []
    },
    "kernelspec": {
      "name": "python3",
      "display_name": "Python 3"
    },
    "language_info": {
      "name": "python"
    }
  },
  "cells": [
    {
      "cell_type": "code",
      "execution_count": null,
      "metadata": {
        "colab": {
          "base_uri": "https://localhost:8080/"
        },
        "id": "3hfLVMSvx7mX",
        "outputId": "ec231f20-8686-4594-983a-90083b80d22a"
      },
      "outputs": [
        {
          "output_type": "stream",
          "name": "stdout",
          "text": [
            "1\n",
            "10\n"
          ]
        }
      ],
      "source": [
        "var1 = 1\n",
        "var2 = 10\n",
        "\n",
        "print(var1)\n",
        "print(var2)"
      ]
    },
    {
      "cell_type": "code",
      "source": [
        "print(id(var1))\n",
        "print(id(var2))\n",
        "del var1, var2"
      ],
      "metadata": {
        "colab": {
          "base_uri": "https://localhost:8080/"
        },
        "id": "viFMxrdhyay6",
        "outputId": "6ccc5bfd-9aa0-42f9-bede-fb6e89500070"
      },
      "execution_count": null,
      "outputs": [
        {
          "output_type": "stream",
          "name": "stdout",
          "text": [
            "94665225112064\n",
            "94665225112352\n"
          ]
        }
      ]
    },
    {
      "cell_type": "code",
      "source": [
        "#This will give error as the variable is deleted\n",
        "print(id(var1))\n",
        "print(id(var2))"
      ],
      "metadata": {
        "colab": {
          "base_uri": "https://localhost:8080/",
          "height": 201
        },
        "id": "9T6-BbAWyoMl",
        "outputId": "30c92170-e8ac-48d0-a68e-73a7c58a6bdc"
      },
      "execution_count": null,
      "outputs": [
        {
          "output_type": "error",
          "ename": "NameError",
          "evalue": "ignored",
          "traceback": [
            "\u001b[0;31m---------------------------------------------------------------------------\u001b[0m",
            "\u001b[0;31mNameError\u001b[0m                                 Traceback (most recent call last)",
            "\u001b[0;32m<ipython-input-3-8d82b823bf63>\u001b[0m in \u001b[0;36m<module>\u001b[0;34m()\u001b[0m\n\u001b[1;32m      1\u001b[0m \u001b[0;31m#This will give error as the variable is deleted\u001b[0m\u001b[0;34m\u001b[0m\u001b[0;34m\u001b[0m\u001b[0;34m\u001b[0m\u001b[0m\n\u001b[0;32m----> 2\u001b[0;31m \u001b[0mprint\u001b[0m\u001b[0;34m(\u001b[0m\u001b[0mid\u001b[0m\u001b[0;34m(\u001b[0m\u001b[0mvar1\u001b[0m\u001b[0;34m)\u001b[0m\u001b[0;34m)\u001b[0m\u001b[0;34m\u001b[0m\u001b[0;34m\u001b[0m\u001b[0m\n\u001b[0m\u001b[1;32m      3\u001b[0m \u001b[0mprint\u001b[0m\u001b[0;34m(\u001b[0m\u001b[0mid\u001b[0m\u001b[0;34m(\u001b[0m\u001b[0mvar2\u001b[0m\u001b[0;34m)\u001b[0m\u001b[0;34m)\u001b[0m\u001b[0;34m\u001b[0m\u001b[0;34m\u001b[0m\u001b[0m\n",
            "\u001b[0;31mNameError\u001b[0m: name 'var1' is not defined"
          ]
        }
      ]
    },
    {
      "cell_type": "code",
      "source": [
        "#Absolute\n",
        "var = -45\n",
        "print (\"abs(-45) : \", abs(var))\n",
        "print (\"abs(100.12) : \", abs(100.12))"
      ],
      "metadata": {
        "colab": {
          "base_uri": "https://localhost:8080/"
        },
        "id": "OGY4MMFtyp1t",
        "outputId": "e17a1220-5ec1-45d6-d0ff-c3a2f0fea3cc"
      },
      "execution_count": null,
      "outputs": [
        {
          "output_type": "stream",
          "name": "stdout",
          "text": [
            "abs(-45) :  45\n",
            "abs(100.12) :  100.12\n"
          ]
        }
      ]
    },
    {
      "cell_type": "code",
      "source": [
        "#Math functionality with ceil\n",
        "import math   # This will import math module\n",
        "var = 45.17\n",
        "print (\"math.ceil(45.17) : \", math.ceil(var))\n",
        "print (\"math.ceil(-45.76) : \", math.ceil(-45.76))"
      ],
      "metadata": {
        "colab": {
          "base_uri": "https://localhost:8080/"
        },
        "id": "JqBwX2EkzRpZ",
        "outputId": "42dc33b2-baef-4fac-dad9-53756b91142a"
      },
      "execution_count": null,
      "outputs": [
        {
          "output_type": "stream",
          "name": "stdout",
          "text": [
            "math.ceil(45.17) :  46\n",
            "math.ceil(-45.17) :  -45\n"
          ]
        }
      ]
    },
    {
      "cell_type": "code",
      "source": [
        "#Exponential function\n",
        "var = 3\n",
        "print (\"math.exp(3) : \", math.exp(var))\n",
        "print (\"math.exp(-4.17) : \", math.exp(-4.17))\n",
        "print (\"math.exp(10.12) : \", math.exp(10.12))"
      ],
      "metadata": {
        "colab": {
          "base_uri": "https://localhost:8080/"
        },
        "id": "XNfrUW_Kzxov",
        "outputId": "1a8d4740-1da4-4cae-f9e9-af822559146b"
      },
      "execution_count": null,
      "outputs": [
        {
          "output_type": "stream",
          "name": "stdout",
          "text": [
            "math.exp(3) :  20.085536923187668\n",
            "math.exp(-4.17) :  0.015452260123909515\n",
            "math.exp(10.12) :  24834.770835065363\n"
          ]
        }
      ]
    },
    {
      "cell_type": "code",
      "source": [
        "#fabs for Absolute\n",
        "var = 45.17\n",
        "print (\"math.fabs(45.17) : \", math.fabs(var))\n",
        "print (\"math.fabs(100.12) : \", math.fabs(100.12))\n",
        "print (\"math.fabs(-100.72) : \", math.fabs(-100.72))"
      ],
      "metadata": {
        "colab": {
          "base_uri": "https://localhost:8080/"
        },
        "id": "FFWIvm720ZoP",
        "outputId": "d8bbd075-b134-4b68-cca8-5638af72ac13"
      },
      "execution_count": null,
      "outputs": [
        {
          "output_type": "stream",
          "name": "stdout",
          "text": [
            "math.fabs(45.17) :  45.17\n",
            "math.fabs(100.12) :  100.12\n",
            "math.fabs(-100.72) :  100.72\n"
          ]
        }
      ]
    },
    {
      "cell_type": "code",
      "source": [
        "#Math floor function\n",
        "var = 45.17\n",
        "print (\"math.floor(45.17) : \", math.floor(var))\n",
        "print (\"math.floor(-5.17) : \", math.floor(-45.17))\n",
        "print (\"math.floor(100.12) : \", math.floor(100.12))\n"
      ],
      "metadata": {
        "colab": {
          "base_uri": "https://localhost:8080/"
        },
        "id": "HUTzB8vY1XSW",
        "outputId": "c35bac34-4eae-4376-9c0f-bcda59e44606"
      },
      "execution_count": null,
      "outputs": [
        {
          "output_type": "stream",
          "name": "stdout",
          "text": [
            "math.floor(45.17) :  45\n",
            "math.floor(-5.17) :  -46\n",
            "math.floor(100.12) :  100\n"
          ]
        }
      ]
    },
    {
      "cell_type": "code",
      "source": [
        "#Math log10 function: This method returns natural logarithm of x, for x > 0\n",
        "var = 45.17\n",
        "print (\"math.log(45.17) : \", math.log(var))\n",
        "print (\"math.log(100.12) : \", math.log(100.12))"
      ],
      "metadata": {
        "colab": {
          "base_uri": "https://localhost:8080/"
        },
        "id": "zJWDnDA2138z",
        "outputId": "3b836d43-fb2a-41be-ab66-9986e520c4db"
      },
      "execution_count": null,
      "outputs": [
        {
          "output_type": "stream",
          "name": "stdout",
          "text": [
            "math.log(45.17) :  3.8104331496665127\n",
            "math.log(100.12) :  4.6063694665635735\n"
          ]
        }
      ]
    },
    {
      "cell_type": "code",
      "source": [
        "#Math log function: This method returns base-10 logarithm of x, for x > 0\n",
        "var = 45.17\n",
        "print (\"math.log10(45.17) : \", math.log10(var))\n",
        "print (\"math.log10(100.12) : \", math.log10(100.12))"
      ],
      "metadata": {
        "colab": {
          "base_uri": "https://localhost:8080/"
        },
        "id": "RfJLW9QB3TRl",
        "outputId": "e1cc20e2-17a6-4642-9967-2f94c649b8c0"
      },
      "execution_count": null,
      "outputs": [
        {
          "output_type": "stream",
          "name": "stdout",
          "text": [
            "math.log10(45.17) :  1.654850090561394\n",
            "math.log10(100.12) :  2.0005208409361854\n"
          ]
        }
      ]
    },
    {
      "cell_type": "code",
      "source": [
        "#Math Max function: This method returns largest of its arguments.\n",
        "a,b,c = 80, 100, 1000\n",
        "print (\"max(80, 100, 1000) : \", max(a,b,c))\n",
        "print (\"max(-20, 100, 400) : \", max(-20, 100, 400))"
      ],
      "metadata": {
        "colab": {
          "base_uri": "https://localhost:8080/"
        },
        "id": "x8YunXGI4nk9",
        "outputId": "4b4b0dcc-cc46-424c-f7bc-7b7eec21e18a"
      },
      "execution_count": null,
      "outputs": [
        {
          "output_type": "stream",
          "name": "stdout",
          "text": [
            "max(80, 100, 1000) :  1000\n",
            "max(-20, 100, 400) :  400\n"
          ]
        }
      ]
    },
    {
      "cell_type": "code",
      "source": [
        "#Math Min function: This method returns smallest of its arguments.\n",
        "a,b,c = 80, 100, 1000\n",
        "print (\"min(80, 100, 1000) : \", min(a,b,c))\n",
        "print (\"min(-20, 100, 400) : \", min(-20, 100, 400))"
      ],
      "metadata": {
        "colab": {
          "base_uri": "https://localhost:8080/"
        },
        "id": "9woUS7Gu442w",
        "outputId": "399ca045-efd4-4173-ef86-deb052a1ed01"
      },
      "execution_count": null,
      "outputs": [
        {
          "output_type": "stream",
          "name": "stdout",
          "text": [
            "min(80, 100, 1000) :  80\n",
            "min(-20, 100, 400) :  -20\n"
          ]
        }
      ]
    },
    {
      "cell_type": "code",
      "source": [
        "#Math power function\n",
        "a= 3; b = 2\n",
        "print (\"math.pow(3, 2) : \", math.pow(a, b))\n",
        "print (\"math.pow(100, 2) : \", math.pow(100, 3))"
      ],
      "metadata": {
        "id": "_tpK8fzy-gKS",
        "colab": {
          "base_uri": "https://localhost:8080/"
        },
        "outputId": "df70cf40-ed06-4aae-abcf-577d217686c4"
      },
      "execution_count": null,
      "outputs": [
        {
          "output_type": "stream",
          "name": "stdout",
          "text": [
            "math.pow(3, 2) :  9.0\n",
            "math.pow(100, 2) :  1000000.0\n"
          ]
        }
      ]
    },
    {
      "cell_type": "code",
      "source": [
        "#Math round function: round( x [, n]  ): This method returns x rounded to n digits from the decimal point\n",
        "print (\"round(80.23456) : \", round(80.23456))\n",
        "print (\"round(80.23456, 2) : \", round(80.23456, 2))\n",
        "print (\"round(100.000016, 5) : \", round(100.000056, 5))\n",
        "print (\"round(100.000016, 3) : \", round(100.000056, 3))\n",
        "print (\"round(-100.000016, 3) : \", round(-100.000056, 3))"
      ],
      "metadata": {
        "colab": {
          "base_uri": "https://localhost:8080/"
        },
        "id": "R2s6uATw-hPp",
        "outputId": "5b38afb5-549b-4c6a-cf4a-0929e536d84e"
      },
      "execution_count": null,
      "outputs": [
        {
          "output_type": "stream",
          "name": "stdout",
          "text": [
            "round(80.23456) :  80\n",
            "round(80.23456, 2) :  80.23\n",
            "round(100.000016, 5) :  100.00006\n",
            "round(100.000016, 3) :  100.0\n",
            "round(-100.000016, 3) :  -100.0\n"
          ]
        }
      ]
    },
    {
      "cell_type": "code",
      "source": [
        "print (\"abs(100.12) : \", abs(100.12))\n",
        "print (\"math.ceil(-45.17) : \", math.ceil(-45.76))\n",
        "print (\"math.exp(10.12) : \", math.exp(10.12))\n",
        "print (\"math.fabs(100.12) : \", math.fabs(100.12))\n",
        "print (\"math.floor(-5.17) : \", math.floor(-45.17))\n",
        "print (\"math.log(100.12) : \", math.log(100.12))\n",
        "print (\"math.log10(100.12) : \", math.log10(100.12))\n",
        "print (\"max(-20, 100, 400) : \", max(-20, 100, 400))\n",
        "print (\"min(-20, 100, 400) : \", min(-20, 100, 400))\n",
        "print (\"math.pow(100, 2) : \", math.pow(100, 3))\n",
        "print (\"round(80.23456, 2) : \", round(80.23456, 2))\n",
        "print (\"math.modf(-66.72) : \", math.modf(-66.72))\n",
        "print (\"math.sqrt(7) : \", math.sqrt(7))"
      ],
      "metadata": {
        "id": "rtpqTmH-ZpxJ"
      },
      "execution_count": null,
      "outputs": []
    },
    {
      "cell_type": "code",
      "source": [
        "#Working with decimals\n",
        "var = 0.3\n",
        "print(var)\n",
        "print(\"Sum of 0.1 + 0.2: \", 0.1 + 0.2)\n",
        "\n",
        "print(\"Is sum of 0.1 + 0.2 equal to 0.3: \", 0.1 + 0.2 == var)\n",
        "\n",
        "print(\"Is sum of round(0.1+0.2) equal to 0.3 :\", round(0.1 + 0.2,1) == var)"
      ],
      "metadata": {
        "id": "1XTMm7oh-i2o",
        "colab": {
          "base_uri": "https://localhost:8080/"
        },
        "outputId": "87d08038-1b18-4eab-c437-83fbf89e57a6"
      },
      "execution_count": null,
      "outputs": [
        {
          "output_type": "stream",
          "name": "stdout",
          "text": [
            "0.3\n",
            "Sum of 0.1 + 0.2:  0.30000000000000004\n",
            "Is sum of 0.1 + 0.2 equal to 0.3:  False\n",
            "Is sum of round(0.1+0.2) equal to 0.3 : True\n"
          ]
        }
      ]
    },
    {
      "cell_type": "code",
      "source": [
        "0  0.0100001 0.02000003                                                  1 #A total of 107 "
      ],
      "metadata": {
        "id": "a_FbtjpkdrwD"
      },
      "execution_count": null,
      "outputs": []
    },
    {
      "cell_type": "code",
      "source": [
        "#Math modf function: Returns the fractional and integer parts of x in a two-item tuple\n",
        "var = 45.17\n",
        "print (\"math.modf(45.17) : \", math.modf(var))\n",
        "print (\"math.modf(-66.72) : \", math.modf(-66.72))"
      ],
      "metadata": {
        "colab": {
          "base_uri": "https://localhost:8080/"
        },
        "id": "m6H7Ya8S5K3K",
        "outputId": "c1eebf6b-18ae-4252-a6d2-98e68d49b50b"
      },
      "execution_count": null,
      "outputs": [
        {
          "output_type": "stream",
          "name": "stdout",
          "text": [
            "math.modf(45.17) :  (0.1700000000000017, 45.0)\n",
            "math.modf(-66.72) :  (-0.7199999999999989, -66.0)\n"
          ]
        }
      ]
    },
    {
      "cell_type": "code",
      "source": [
        "0.7 == 0.7"
      ],
      "metadata": {
        "colab": {
          "base_uri": "https://localhost:8080/"
        },
        "id": "5fRgmBZG-PWG",
        "outputId": "46c9cb34-fadf-48b3-8a58-13b2cc3b939a"
      },
      "execution_count": null,
      "outputs": [
        {
          "output_type": "execute_result",
          "data": {
            "text/plain": [
              "True"
            ]
          },
          "metadata": {},
          "execution_count": 21
        }
      ]
    },
    {
      "cell_type": "code",
      "source": [
        "#Math Square root function\n",
        "var = 100\n",
        "print (\"math.sqrt(100) : \", math.sqrt(var))\n",
        "print (\"math.sqrt(7) : \", math.sqrt(7))"
      ],
      "metadata": {
        "colab": {
          "base_uri": "https://localhost:8080/"
        },
        "id": "UAuD0y926vfi",
        "outputId": "77cec388-0c36-4f78-8c51-3683371b0915"
      },
      "execution_count": null,
      "outputs": [
        {
          "output_type": "stream",
          "name": "stdout",
          "text": [
            "math.sqrt(100) :  10.0\n",
            "math.sqrt(7) :  2.6457513110645907\n"
          ]
        }
      ]
    },
    {
      "cell_type": "code",
      "source": [
        "help(round)"
      ],
      "metadata": {
        "colab": {
          "base_uri": "https://localhost:8080/"
        },
        "id": "ea-N9eCs8AfE",
        "outputId": "034f8205-d7db-483a-bc58-edfc5541bf41"
      },
      "execution_count": null,
      "outputs": [
        {
          "output_type": "stream",
          "name": "stdout",
          "text": [
            "Help on built-in function round in module builtins:\n",
            "\n",
            "round(number, ndigits=None)\n",
            "    Round a number to a given precision in decimal digits.\n",
            "    \n",
            "    The return value is an integer if ndigits is omitted or None.  Otherwise\n",
            "    the return value has the same type as the number.  ndigits may be negative.\n",
            "\n"
          ]
        }
      ]
    },
    {
      "cell_type": "markdown",
      "source": [
        "#Random"
      ],
      "metadata": {
        "id": "a70sudLgHtXM"
      }
    },
    {
      "cell_type": "code",
      "source": [
        "#Random choice methon: This method returns a random item from the sequence\n",
        "import random\n",
        "\n",
        "list1 = [1, 2, 3, 5, 9]\n",
        "print (\"choice([1, 2, 3, 5, 9]) : \", random.choice(list1))\n",
        "print (\"choice('A String') : \", random.choice('A String'))"
      ],
      "metadata": {
        "colab": {
          "base_uri": "https://localhost:8080/"
        },
        "id": "COlpM2tUBpbf",
        "outputId": "d1a78b8d-a52e-4d77-8604-3137c775e587"
      },
      "execution_count": null,
      "outputs": [
        {
          "output_type": "stream",
          "name": "stdout",
          "text": [
            "choice([1, 2, 3, 5, 9]) :  3\n",
            "choice('A String') :  g\n"
          ]
        }
      ]
    },
    {
      "cell_type": "code",
      "source": [
        "#Randrange: randrange ([start,] stop [,step])\n",
        "print (\"randrange(1, 10, 1) : \", random.randrange(1, 10, 1))\n",
        "print (\"randrange(2, 10, 2) : \", random.randrange(2, 10, 2)) # Select an even number in 1 <= number < 10\n",
        "print (\"randrange(1, 10, 3) : \", random.randrange(1, 10, 3)) # Selects any number from 1,4,7"
      ],
      "metadata": {
        "colab": {
          "base_uri": "https://localhost:8080/"
        },
        "id": "O5Mkq-vjH-sV",
        "outputId": "f7598558-0f8d-42f7-81ea-ac79cb54ef6d"
      },
      "execution_count": null,
      "outputs": [
        {
          "output_type": "stream",
          "name": "stdout",
          "text": [
            "randrange(1, 10, 1) :  1\n",
            "randrange(2, 10, 2) :  2\n",
            "randrange(1, 10, 3) :  7\n"
          ]
        }
      ]
    },
    {
      "cell_type": "code",
      "source": [
        "#Range: range([start,] stop[, step])\n",
        "\n",
        "print(\"range(6)\")\n",
        "x = range(6)\n",
        "for n in x:\n",
        "  print(n)\n",
        "\n",
        "print(\"range(2,6)\")\n",
        "for n in range(2,6):\n",
        "  print(n)\n",
        "\n",
        "print(\"range(1,6,2)\")\n",
        "for n in range(1,6,2):\n",
        "  print(n)"
      ],
      "metadata": {
        "colab": {
          "base_uri": "https://localhost:8080/"
        },
        "id": "RUgdYvV0IgzH",
        "outputId": "0f14172e-edec-4ae2-e711-bb4064ec8174"
      },
      "execution_count": null,
      "outputs": [
        {
          "output_type": "stream",
          "name": "stdout",
          "text": [
            "range(6)\n",
            "0\n",
            "1\n",
            "2\n",
            "3\n",
            "4\n",
            "5\n",
            "range(2,6)\n",
            "2\n",
            "3\n",
            "4\n",
            "5\n",
            "range(1,6,2)\n",
            "1\n",
            "3\n",
            "5\n"
          ]
        }
      ]
    },
    {
      "cell_type": "code",
      "source": [
        "print(\"range(1,10,3)\")\n",
        "x = range(1,10,3)\n",
        "for n in x:\n",
        "  print(n)"
      ],
      "metadata": {
        "colab": {
          "base_uri": "https://localhost:8080/"
        },
        "id": "3-WtH4lZJ3XO",
        "outputId": "941c0e5c-4417-47f8-a81e-d506e352dad9"
      },
      "execution_count": null,
      "outputs": [
        {
          "output_type": "stream",
          "name": "stdout",
          "text": [
            "range(1,10,3)\n",
            "1\n",
            "4\n",
            "7\n"
          ]
        }
      ]
    },
    {
      "cell_type": "code",
      "source": [
        "#random(): returns a random float between 0 and 1\n",
        "# First random number\n",
        "print (\"random() : \", random.random())\n",
        "\n",
        "# Second random number\n",
        "print (\"random() : \", random.random())"
      ],
      "metadata": {
        "colab": {
          "base_uri": "https://localhost:8080/"
        },
        "id": "KDt6Itt6J8Wj",
        "outputId": "233be085-a988-4e79-8c08-fa7505c99eb2"
      },
      "execution_count": null,
      "outputs": [
        {
          "output_type": "stream",
          "name": "stdout",
          "text": [
            "random() :  0.8278920512876781\n",
            "random() :  0.2042985412732864\n"
          ]
        }
      ]
    },
    {
      "cell_type": "code",
      "source": [
        "#seed() sets the integer starting value used in generating random numbers\n",
        "random.seed( 56 )\n",
        "print (\"Random number with seed 10 : \", random.random())\n",
        "\n",
        "# It will generate same random number\n",
        "random.seed( 56 )\n",
        "print (\"Random number with seed 10 : \", random.random())\n",
        "\n",
        "#Write a code to create a game of rock, papers and scissors"
      ],
      "metadata": {
        "colab": {
          "base_uri": "https://localhost:8080/"
        },
        "id": "CUZtGAbwJ-84",
        "outputId": "fbe521ed-31a9-4e3f-b1d5-078494e3051b"
      },
      "execution_count": null,
      "outputs": [
        {
          "output_type": "stream",
          "name": "stdout",
          "text": [
            "Random number with seed 10 :  0.965919188024944\n",
            "Random number with seed 10 :  0.965919188024944\n"
          ]
        }
      ]
    },
    {
      "cell_type": "code",
      "source": [
        "#Python number method shuffle() randomizes the items of a list in place\n",
        "list1 = [20, 16, 10, 5]\n",
        "random.shuffle(list1)\n",
        "print (\"Reshuffled list : \",  list1)\n",
        "\n",
        "random.shuffle(list1)\n",
        "print (\"Reshuffled list : \",  list1)"
      ],
      "metadata": {
        "colab": {
          "base_uri": "https://localhost:8080/"
        },
        "id": "Rj-XJV5KOAvc",
        "outputId": "a19047a5-9dbc-42da-db3c-ba101011fbbf"
      },
      "execution_count": null,
      "outputs": [
        {
          "output_type": "stream",
          "name": "stdout",
          "text": [
            "Reshuffled list :  [5, 10, 16, 20]\n",
            "Reshuffled list :  [16, 20, 10, 5]\n"
          ]
        }
      ]
    },
    {
      "cell_type": "code",
      "source": [
        "#uniform(x,y): Returns a random float between x and y\n",
        "print (\"Random Float uniform(5, 10) : \",  random.uniform(5, 10))\n",
        "print (\"Random Float uniform(7, 14) : \",  random.uniform(7, 14))"
      ],
      "metadata": {
        "colab": {
          "base_uri": "https://localhost:8080/"
        },
        "id": "kAYgFMOLQn16",
        "outputId": "77b3f30f-be26-4f9b-85b9-62229613f417"
      },
      "execution_count": null,
      "outputs": [
        {
          "output_type": "stream",
          "name": "stdout",
          "text": [
            "Random Float uniform(5, 10) :  7.798779569994522\n",
            "Random Float uniform(7, 14) :  10.315703217474505\n"
          ]
        }
      ]
    },
    {
      "cell_type": "markdown",
      "source": [
        "#Trigonometric Functions"
      ],
      "metadata": {
        "id": "gRmvEibCTF-G"
      }
    },
    {
      "cell_type": "code",
      "source": [
        "#sin(x): This method returns a numeric value between -1 and 1, which represents the cosine of the angle.\n",
        "print (\"cos(0) : \",  math.cos(0))\n",
        "print (\"cos(90) : \",  math.cos(90))"
      ],
      "metadata": {
        "colab": {
          "base_uri": "https://localhost:8080/"
        },
        "id": "Df7rm1YRQq-0",
        "outputId": "07e4c24f-28e5-4236-ec44-218a426c7136"
      },
      "execution_count": null,
      "outputs": [
        {
          "output_type": "stream",
          "name": "stdout",
          "text": [
            "cos(0) :  1.0\n",
            "cos(90) :  -0.4480736161291701\n"
          ]
        }
      ]
    },
    {
      "cell_type": "code",
      "source": [
        "#sin(x): This method returns a numeric value between -1 and 1, which represents the sine of x radians\n",
        "print (\"sin(0) : \",  math.sin(0))\n",
        "print (\"sin(90) : \",  math.sin(90))"
      ],
      "metadata": {
        "colab": {
          "base_uri": "https://localhost:8080/"
        },
        "id": "tnwkUGEzTJ32",
        "outputId": "e2c342fd-dc41-4acb-b32b-cdf9a08263df"
      },
      "execution_count": null,
      "outputs": [
        {
          "output_type": "stream",
          "name": "stdout",
          "text": [
            "sin(0) :  0.0\n",
            "sin(90) :  0.8939966636005579\n"
          ]
        }
      ]
    },
    {
      "cell_type": "code",
      "source": [
        "#degrees(x): This method returns degree value of an angle, converts angle x from radians to degrees\n",
        "print (\"degrees(3) : \",  math.degrees(3))\n",
        "print (\"degrees(-3) : \",  math.degrees(-3))"
      ],
      "metadata": {
        "colab": {
          "base_uri": "https://localhost:8080/"
        },
        "id": "EyiaSrWDTL_3",
        "outputId": "664539a3-9f83-4286-9444-5c24a24e4717"
      },
      "execution_count": null,
      "outputs": [
        {
          "output_type": "stream",
          "name": "stdout",
          "text": [
            "degrees(3) :  171.88733853924697\n",
            "degrees(-3) :  -171.88733853924697\n"
          ]
        }
      ]
    },
    {
      "cell_type": "code",
      "source": [
        "#radians(x): This method returns radian value of an angle, converts angle x from degrees to radians\n",
        "print (\"radians(3) : \",  math.radians(3))\n",
        "print (\"radians(-3) : \",  math.radians(-3))"
      ],
      "metadata": {
        "colab": {
          "base_uri": "https://localhost:8080/"
        },
        "id": "bvR4OCQ6Tas7",
        "outputId": "f23ef3f1-7544-4ca6-cb51-92de96870192"
      },
      "execution_count": null,
      "outputs": [
        {
          "output_type": "stream",
          "name": "stdout",
          "text": [
            "radians(3) :  0.05235987755982989\n",
            "radians(-3) :  -0.05235987755982989\n"
          ]
        }
      ]
    },
    {
      "cell_type": "markdown",
      "source": [
        "#Mathematical Constants"
      ],
      "metadata": {
        "id": "D97e4ctFWkNk"
      }
    },
    {
      "cell_type": "code",
      "source": [
        "#pi: The mathematical constant pi\n",
        "var = math.pi\n",
        "print(var)\n",
        "print(math.pi)\n",
        "print(math.pi*2)"
      ],
      "metadata": {
        "colab": {
          "base_uri": "https://localhost:8080/"
        },
        "id": "C1KvWAKaWbAz",
        "outputId": "cff9fdcf-fac7-44ca-f4d7-7ec319d0290b"
      },
      "execution_count": null,
      "outputs": [
        {
          "output_type": "stream",
          "name": "stdout",
          "text": [
            "3.141592653589793\n",
            "3.141592653589793\n",
            "6.283185307179586\n"
          ]
        }
      ]
    },
    {
      "cell_type": "code",
      "source": [
        "#e: The mathematical constant e\n",
        "var = math.e\n",
        "print(var)\n",
        "print(math.e)\n",
        "print(math.e*2)"
      ],
      "metadata": {
        "colab": {
          "base_uri": "https://localhost:8080/"
        },
        "id": "c7_Jo5IWWdOE",
        "outputId": "4c60edae-d850-435c-8ca2-a60cc1bfbd22"
      },
      "execution_count": null,
      "outputs": [
        {
          "output_type": "stream",
          "name": "stdout",
          "text": [
            "2.718281828459045\n",
            "2.718281828459045\n",
            "5.43656365691809\n"
          ]
        }
      ]
    },
    {
      "cell_type": "markdown",
      "source": [
        "Assignments: Numbers\n",
        "1. Write a program to play guessing game with the user. The computer will generate a random number between 1-10 and the user enters his guess. If the guess matched within 10% range of computer generated number, user wins. Ask the user if he wants to play more (y/n). Continue playing the game if user enters 'y' else end the game and display results of total games played and games user won.\n",
        "\n",
        "2. \n",
        "create a program to play rock, paper and scissors. Use a random module to select any of the three from the list of [rock, papers, scissors] and take input from user (1,2,3  (Rock - 1, Paper - 2, Scissors - 3). Check whether the random guess wins or user wins. Ask the user if he wants to play more (y/n). Continue on 'y', if user selects 'n', stop the game and print the overall score"
      ],
      "metadata": {
        "id": "w6_OSDawZa6S"
      }
    },
    {
      "cell_type": "code",
      "source": [
        ""
      ],
      "metadata": {
        "id": "Qe6nz0FgJnTS"
      },
      "execution_count": null,
      "outputs": []
    }
  ]
}